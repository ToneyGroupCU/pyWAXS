{
 "cells": [
  {
   "cell_type": "markdown",
   "metadata": {},
   "source": [
    "#### Module Initialization"
   ]
  },
  {
   "cell_type": "code",
   "execution_count": 23,
   "metadata": {},
   "outputs": [],
   "source": [
    "## -- Module WAXS Classes -- ##\n",
    "from WAXSTransform import WAXSTransform\n",
    "from WAXSReduce import WAXSReduce\n",
    "from WAXSReduce import ImageInterpolator\n",
    "from WAXSReduce import Integration1D\n",
    "from WAXSReduce import Azimuth1D\n",
    "from WAXSReduce import ImageTransform\n",
    "from WAXSSearch import WAXSSearch\n",
    "from WAXSDiffSim import WAXSDiffSim\n",
    "\n",
    "# - Import Relevant Modules\"\n",
    "import xarray as xr\n",
    "import numpy as np\n",
    "import pathlib, os\n",
    "from pathlib import Path\n",
    "from typing import Optional\n",
    "import matplotlib.pyplot as plt\n",
    "from math import cos, sin, radians\n",
    "\n",
    "# - pymatgen: https://pymatgen.org/\n",
    "# from pymatgen import Structure, Lattice\n",
    "from pymatgen.core import Structure, Lattice, Molecule, IMolecule\n",
    "from pymatgen.symmetry.analyzer import SpacegroupAnalyzer\n",
    "from pymatgen.io.cif import CifWriter"
   ]
  },
  {
   "cell_type": "markdown",
   "metadata": {},
   "source": [
    "#### Path Definitions"
   ]
  },
  {
   "cell_type": "code",
   "execution_count": 24,
   "metadata": {},
   "outputs": [],
   "source": [
    "# -- Base Path Definitions -- #\n",
    "basePath = pathlib.Path('/Users/keithwhite/github_repositories/pyWAXS/examples_local/simulations')\n",
    "\n",
    "# -- Project Path Definitions -- #\n",
    "cifPath = basePath.joinpath('cif')\n",
    "waxsPath = basePath.joinpath('waxs')\n"
   ]
  },
  {
   "cell_type": "markdown",
   "metadata": {},
   "source": [
    "#### Example: Single-Atom Basis"
   ]
  },
  {
   "cell_type": "code",
   "execution_count": 25,
   "metadata": {},
   "outputs": [
    {
     "name": "stdout",
     "output_type": "stream",
     "text": [
      "Spacegroup Symbol: Fd-3m\n",
      "International Number: 227\n",
      "Crystal System: cubic\n"
     ]
    }
   ],
   "source": [
    "# from pymatgen.core import Structure, Lattice\n",
    "# from pymatgen.symmetry.analyzer import SpacegroupAnalyzer\n",
    "\n",
    "# Create a cubic lattice\n",
    "lattice = Lattice.cubic(3.567)\n",
    "\n",
    "# Specify species and coordinates\n",
    "species = ['C']\n",
    "coords = [[0, 0, 0]]  # Wyckoff position 'a' for Fd-3m\n",
    "\n",
    "# Create a Structure object\n",
    "structure = Structure.from_spacegroup(\"Fd-3m\", lattice, species, coords)\n",
    "\n",
    "# Analyze the structure with the spacegroup analyzer\n",
    "analyzer = SpacegroupAnalyzer(structure)\n",
    "\n",
    "# Get the primitive standardized structure\n",
    "prim_structure = analyzer.get_primitive_standard_structure()\n",
    "\n",
    "# Print information\n",
    "print(\"Spacegroup Symbol:\", analyzer.get_space_group_symbol())\n",
    "print(\"International Number:\", analyzer.get_space_group_number())\n",
    "print(\"Crystal System:\", analyzer.get_crystal_system())\n",
    "\n",
    "# Write CIF file to cifPath\n",
    "cif_file_path = cifPath.joinpath(\"diamond.cif\")\n",
    "writer = CifWriter(prim_structure)\n",
    "writer.write_file(cif_file_path)\n"
   ]
  },
  {
   "cell_type": "markdown",
   "metadata": {},
   "source": [
    "#### Example: Multi-Atom Basis"
   ]
  },
  {
   "cell_type": "code",
   "execution_count": 26,
   "metadata": {},
   "outputs": [
    {
     "name": "stdout",
     "output_type": "stream",
     "text": [
      "Spacegroup Symbol: Fm-3m\n",
      "International Number: 225\n",
      "Crystal System: cubic\n"
     ]
    }
   ],
   "source": [
    "# from pymatgen.core import Structure, Lattice\n",
    "# from pymatgen.symmetry.analyzer import SpacegroupAnalyzer\n",
    "# from pymatgen.io.cif import CifWriter\n",
    "\n",
    "# Create a cubic lattice\n",
    "lattice = Lattice.cubic(5.692)\n",
    "\n",
    "# Specify species and coordinates\n",
    "species = ['Na', 'Cl']\n",
    "coords = [[0, 0, 0], [0.5, 0.5, 0.5]]  # Wyckoff positions 'a' and 'b' for Fm-3m\n",
    "\n",
    "# Create a Structure object\n",
    "structure = Structure.from_spacegroup(\"Fm-3m\", lattice, species, coords)\n",
    "\n",
    "# Analyze the structure with the spacegroup analyzer\n",
    "analyzer = SpacegroupAnalyzer(structure)\n",
    "\n",
    "# Get the primitive standardized structure\n",
    "prim_structure = analyzer.get_primitive_standard_structure()\n",
    "\n",
    "# Print information\n",
    "print(\"Spacegroup Symbol:\", analyzer.get_space_group_symbol())\n",
    "print(\"International Number:\", analyzer.get_space_group_number())\n",
    "print(\"Crystal System:\", analyzer.get_crystal_system())\n",
    "\n",
    "# Write CIF file to cifPath\n",
    "cif_file_path = cifPath.joinpath(\"NaCl.cif\")\n",
    "writer = CifWriter(prim_structure)\n",
    "writer.write_file(cif_file_path)"
   ]
  },
  {
   "cell_type": "markdown",
   "metadata": {},
   "source": [
    "#### Example: Generate CIF with Fractional Occupancy"
   ]
  },
  {
   "cell_type": "code",
   "execution_count": 5,
   "metadata": {},
   "outputs": [],
   "source": [
    "# Define lattice and species\n",
    "lattice = Lattice.cubic(5.692)\n",
    "species = [{\"Na\": 0.5, \"K\": 0.5}, {\"Cl\": 1.0}]\n",
    "coords = [[0, 0, 0], [0.5, 0.5, 0.5]]\n",
    "\n",
    "# Create the Structure object\n",
    "structure = Structure(lattice, species, coords)\n",
    "\n",
    "# Write to CIF file\n",
    "cif_file_path = cifPath.joinpath(\"Na_K_Cl_mixed.cif\")\n",
    "writer = CifWriter(structure)\n",
    "writer.write_file(cif_file_path)"
   ]
  },
  {
   "cell_type": "markdown",
   "metadata": {},
   "source": [
    "#### Molecule Definitions"
   ]
  },
  {
   "cell_type": "code",
   "execution_count": 27,
   "metadata": {},
   "outputs": [],
   "source": [
    "def water_molecule():\n",
    "    angle = 104.5  # H-O-H angle in degrees\n",
    "    angle_rad = radians(angle)\n",
    "    bond_length = 0.9572  # O-H bond length in Angstrom\n",
    "\n",
    "    # Coordinates with O at the center of the unit cell in fractional coordinates\n",
    "    O = [0.5, 0.5, 0.5]\n",
    "    H1 = [0.5 + bond_length * cos(angle_rad / 2) / 20, \n",
    "          0.5 + bond_length * sin(angle_rad / 2) / 20, \n",
    "          0.5]\n",
    "    H2 = [0.5 - bond_length * cos(angle_rad / 2) / 20, \n",
    "          0.5 + bond_length * sin(angle_rad / 2) / 20, \n",
    "          0.5]\n",
    "    \n",
    "    return Molecule([\"O\", \"H\", \"H\"], [O, H1, H2])\n",
    "\n",
    "\n",
    "def methane():\n",
    "    coords = [[0, 0, 0], [0, 0.629118, -1.04704], [0, -1.25765, 0], [1.09041, 0, 0.523519], [-1.09041, 0, 0.523519]]\n",
    "    return Molecule([\"C\", \"H\", \"H\", \"H\", \"H\"], coords)\n",
    "\n",
    "def methylammonium():\n",
    "    coords = [\n",
    "        [0.000, 0.000, 0.000],  # N\n",
    "        [0.000, 0.000, 1.000],  # H\n",
    "        [0.866, 0.000, -0.500],  # H\n",
    "        [-0.433, 0.750, -0.500],  # H\n",
    "        [-0.433, -0.750, -0.500],  # H\n",
    "        [0.000, 0.000, -1.500],  # C\n",
    "        [0.000, 0.000, -2.500]  # H (methyl)\n",
    "    ]\n",
    "    return Molecule([\"N\", \"H\", \"H\", \"H\", \"H\", \"C\", \"H\"], coords)\n",
    "\n",
    "def dimethylformamide():\n",
    "    coords = [\n",
    "        # O, C, N\n",
    "        [0.000, 0.000, 0.000],\n",
    "        [0.000, 0.000, 1.200],\n",
    "        [0.000, 0.000, 2.400],\n",
    "        # H atoms on N\n",
    "        [0.866, 0.000, 2.900],\n",
    "        [-0.866, 0.000, 2.900],\n",
    "        # H atoms on C (methyl)\n",
    "        [0.866, 0.000, -0.500],\n",
    "        [-0.433, 0.750, -0.500],\n",
    "        [-0.433, -0.750, -0.500]\n",
    "    ]\n",
    "    return Molecule([\"O\", \"C\", \"N\", \"H\", \"H\", \"H\", \"H\", \"H\"], coords)\n",
    "\n",
    "def dimethylsulfoxide():\n",
    "    coords = [\n",
    "        # S, O\n",
    "        [0.000, 0.000, 0.000],\n",
    "        [0.000, 0.000, 1.600],\n",
    "        # C atoms\n",
    "        [0.866, 0.000, -0.500],\n",
    "        [-0.866, 0.000, -0.500],\n",
    "        # H atoms on C (methyl)\n",
    "        [1.732, 0.000, 0.000],\n",
    "        [0.433, 0.750, -1.000],\n",
    "        [0.433, -0.750, -1.000],\n",
    "        [-1.732, 0.000, 0.000],\n",
    "        [-0.433, 0.750, -1.000],\n",
    "        [-0.433, -0.750, -1.000]\n",
    "    ]\n",
    "    return Molecule([\"S\", \"O\", \"C\", \"C\", \"H\", \"H\", \"H\", \"H\", \"H\", \"H\"], coords)\n",
    "\n",
    "def formamidinium():\n",
    "    coords = [\n",
    "        [0.000, 0.000, 0.000],  # C\n",
    "        [0.866, 0.000, 0.500],  # H\n",
    "        [-0.433, 0.750, 0.500],  # H\n",
    "        [-0.433, -0.750, 0.500],  # H\n",
    "        [0.000, 0.000, 1.500],  # N\n",
    "        [0.866, 0.000, 2.000],  # H\n",
    "        [-0.866, 0.000, 2.000],  # H\n",
    "    ]\n",
    "    return Molecule([\"C\", \"H\", \"H\", \"H\", \"N\", \"H\", \"H\"], coords)\n"
   ]
  },
  {
   "cell_type": "markdown",
   "metadata": {},
   "source": [
    "#### Generate CIFs of Molecules"
   ]
  },
  {
   "cell_type": "code",
   "execution_count": 28,
   "metadata": {},
   "outputs": [],
   "source": [
    "# Create a large cubic lattice\n",
    "lattice = Lattice.cubic(20.0)  # 20 Angstroms on a side\n",
    "\n",
    "# Use the corrected water molecule\n",
    "water = water_molecule()\n",
    "species = water.species\n",
    "coords = water.cart_coords\n",
    "\n",
    "# Create Structure\n",
    "structure = Structure(lattice, species, coords)\n",
    "\n",
    "# Save to CIF\n",
    "cif_file_path = cifPath.joinpath(\"corrected_centered_water.cif\")\n",
    "writer = CifWriter(structure)\n",
    "writer.write_file(cif_file_path)"
   ]
  },
  {
   "cell_type": "markdown",
   "metadata": {},
   "source": [
    "#### Example: Assigning Charge to Atomic Species"
   ]
  },
  {
   "cell_type": "code",
   "execution_count": 12,
   "metadata": {},
   "outputs": [],
   "source": [
    "# Cubic lattice\n",
    "lattice = Lattice.cubic(5.64)  # Lattice parameter for NaCl\n",
    "\n",
    "# Species and Coordinates with charges\n",
    "species = [\"Na1+\", \"Cl1-\"]\n",
    "coords = [[0, 0, 0], [0.5, 0.5, 0.5]]\n",
    "\n",
    "# Create Structure\n",
    "structure = Structure(lattice, species, coords)\n",
    "\n",
    "# Save to CIF\n",
    "cif_file_path = cifPath.joinpath(\"NaCl_charged.cif\")\n",
    "writer = CifWriter(structure)\n",
    "writer.write_file(cif_file_path)"
   ]
  },
  {
   "cell_type": "code",
   "execution_count": null,
   "metadata": {},
   "outputs": [],
   "source": []
  }
 ],
 "metadata": {
  "kernelspec": {
   "display_name": "pyGIXS",
   "language": "python",
   "name": "python3"
  },
  "language_info": {
   "codemirror_mode": {
    "name": "ipython",
    "version": 3
   },
   "file_extension": ".py",
   "mimetype": "text/x-python",
   "name": "python",
   "nbconvert_exporter": "python",
   "pygments_lexer": "ipython3",
   "version": "3.11.3"
  },
  "orig_nbformat": 4
 },
 "nbformat": 4,
 "nbformat_minor": 2
}
