{
 "cells": [
  {
   "cell_type": "markdown",
   "metadata": {},
   "source": [
    "## pyWAXS\n",
    "#### Python-Based X-ray Scattering Data Reduction Notebook \n",
    "##### Toney Group, Updated: 10/24/2023\n",
    "------------"
   ]
  },
  {
   "cell_type": "markdown",
   "metadata": {},
   "source": [
    "### Install pyWAXS Modules\n",
    "Restart the Kernel after you do this."
   ]
  },
  {
   "cell_type": "code",
   "execution_count": 1,
   "metadata": {},
   "outputs": [
    {
     "name": "stdout",
     "output_type": "stream",
     "text": [
      "Obtaining file:///Users/keithwhite/github_repositories/pyWAXS\n",
      "  Preparing metadata (setup.py) ... \u001b[?25ldone\n",
      "\u001b[?25hInstalling collected packages: pywaxs\n",
      "  Attempting uninstall: pywaxs\n",
      "    Found existing installation: pywaxs 0.2.0\n",
      "    Uninstalling pywaxs-0.2.0:\n",
      "      Successfully uninstalled pywaxs-0.2.0\n",
      "  Running setup.py develop for pywaxs\n",
      "Successfully installed pywaxs-0.2.0\n",
      "Note: you may need to restart the kernel to use updated packages.\n"
     ]
    },
    {
     "data": {
      "text/plain": [
       "' # Tips for troubleshooting pyWAXS installation.\\n# import importlib.util\\n# spec = importlib.util.find_spec(\"pywaxs\") # uncomment to check the pywaxs origin information\\n# print(spec)\\n\\n# !pip list # uncomment to check your imports list for pywaxs\\n\\n# import sys # uncomment to check system pathes accessed by your kernel\\n# print(sys.path)\\n'"
      ]
     },
     "execution_count": 1,
     "metadata": {},
     "output_type": "execute_result"
    }
   ],
   "source": [
    "# !python setup.py clean # uncomment if pip installation fails due to false path\n",
    "%pip install -e /Users/keithwhite/github_repositories/pyWAXS # sub your pyWAXS/main directory here.\n",
    "\n",
    "''' # Tips for troubleshooting pyWAXS installation.\n",
    "# import importlib.util\n",
    "# spec = importlib.util.find_spec(\"pywaxs\") # uncomment to check the pywaxs origin information\n",
    "# print(spec)\n",
    "\n",
    "# !pip list # uncomment to check your imports list for pywaxs\n",
    "\n",
    "# import sys # uncomment to check system pathes accessed by your kernel\n",
    "# print(sys.path)\n",
    "'''"
   ]
  },
  {
   "cell_type": "markdown",
   "metadata": {},
   "source": [
    "### Class & Module Imports"
   ]
  },
  {
   "cell_type": "code",
   "execution_count": 2,
   "metadata": {},
   "outputs": [
    {
     "name": "stderr",
     "output_type": "stream",
     "text": [
      "WARNING:silx.opencl.common:The module pyOpenCL has been imported but can't be used here\n"
     ]
    }
   ],
   "source": [
    "# - Custom Module Imports\n",
    "from pywaxs import WAXSTransform\n",
    "from pywaxs import WAXSSearch\n",
    "from pywaxs import WAXSReduce, WAXSTOPAS\n",
    "from pywaxs import WAXSFileManager as waxsfiles\n",
    "from pywaxs import WAXSSim\n",
    "\n",
    "# - Additional Module Imports\n",
    "import xarray as xr # type: ignore\n",
    "import pandas as pd # type: ignore\n",
    "import numpy as np\n",
    "import pathlib, os # , copy2\n",
    "from pathlib import Path\n",
    "from typing import Optional\n",
    "import matplotlib.pyplot as plt\n",
    "import math\n",
    "import cProfile"
   ]
  },
  {
   "cell_type": "markdown",
   "metadata": {},
   "source": [
    "#### Create a pyWAXS Project"
   ]
  },
  {
   "cell_type": "code",
   "execution_count": 3,
   "metadata": {},
   "outputs": [
    {
     "name": "stdout",
     "output_type": "stream",
     "text": [
      "Updated dataPath: /Users/keithwhite/github_repositories/pyWAXS/examples_local/projects/1MAI_1PbI2_DMF_0p3M_mar23/data/sam22_1MAI1PbI2_unfilt_0p3M_5p0scfh_Si_30uL_043_2068.2s_x0.015_th0.300_0.49s_986546_001639_maxs.tiff\n",
      "Updated poniPath: /Users/keithwhite/github_repositories/pyWAXS/examples_local/projects/1MAI_1PbI2_DMF_0p3M_mar23/poni/may23_poni4_nslsiimar23_12p7keV_CeO_KWPos_mask5_fit2.poni\n",
      "Updated maskPath: /Users/keithwhite/github_repositories/pyWAXS/examples_local/projects/1MAI_1PbI2_DMF_0p3M_mar23/mask/may23_nslsiimar23_12p7keV_AgBh_KWPos_wSi_th0p3_mask_5.edf\n",
      "Project Path: /Users/keithwhite/github_repositories/pyWAXS/examples_local/projects/1MAI_1PbI2_DMF_0p3M_mar23\n",
      "Data Path: /Users/keithwhite/github_repositories/pyWAXS/examples_local/projects/1MAI_1PbI2_DMF_0p3M_mar23/data/sam22_1MAI1PbI2_unfilt_0p3M_5p0scfh_Si_30uL_043_2068.2s_x0.015_th0.300_0.49s_986546_001639_maxs.tiff\n",
      "PONI Path: /Users/keithwhite/github_repositories/pyWAXS/examples_local/projects/1MAI_1PbI2_DMF_0p3M_mar23/poni/may23_poni4_nslsiimar23_12p7keV_CeO_KWPos_mask5_fit2.poni\n",
      "MASK Path: /Users/keithwhite/github_repositories/pyWAXS/examples_local/projects/1MAI_1PbI2_DMF_0p3M_mar23/mask/may23_nslsiimar23_12p7keV_AgBh_KWPos_wSi_th0p3_mask_5.edf\n"
     ]
    }
   ],
   "source": [
    "# projectname = '1MAI_3PbI2_DMF_1M_mar23'\n",
    "projectname = '1MAI_1PbI2_DMF_0p3M_mar23'\n",
    "# projectname = '1MAI_3PbI2_DMF_1M_jun23'\n",
    "# projectname = '1MAI_1PbI2_DMF_1M_jun23'\n",
    "# projectname = 'LaB6_SRM660c_Calib'\n",
    "# projectname = 'AgBh_Calib'\n",
    "\n",
    "## --------------------------------------------------------------------------------------------------------------\n",
    "# current_directory = os.getcwd() # get the current directory\n",
    "# basePath = Path(current_directory) # set the basePath\n",
    "basePath = Path('/Users/keithwhite/github_repositories/pyWAXS/examples_local/projects')\n",
    "\n",
    "# Generate project paths\n",
    "projectPath, PathList = waxsfiles.generate_projectPaths(basePath, projectname)\n",
    "basePath, dataPath, poniPath, maskPath, analysisPath, poscarPath, hdf5Path, pngPath, simPath = PathList\n",
    "\n",
    "# Print results\n",
    "print(f\"Project Path: {projectPath}\")\n",
    "print(f\"Data Path: {dataPath}\")\n",
    "print(f\"PONI Path: {poniPath}\")\n",
    "print(f\"MASK Path: {maskPath}\")"
   ]
  },
  {
   "cell_type": "markdown",
   "metadata": {},
   "source": [
    "#### Define Metadata Keylist"
   ]
  },
  {
   "cell_type": "code",
   "execution_count": null,
   "metadata": {},
   "outputs": [],
   "source": [
    "# -- Calibrant\n",
    "# metadata_keylist = ['sample', # Sample Number\n",
    "#                     'saxssdd', # Sample Chemistry\n",
    "#                     'energy', # Solution Filtration\n",
    "#                     'note', # Solution Concentration\n",
    "#                     'clocktime', # Clock time @ Endstation\n",
    "#                     'xpos', # X-Position of Beam\n",
    "#                     'thpos', # Incidence Angle\n",
    "#                     'exptime', # Exposure Time\n",
    "#                     'scanID', # Scan Identification Number (BNL Specific)\n",
    "#                     'detext'] # Extension of the detector identifier at BNL 'maxs' v. 'saxs' v, 'waxs'\n",
    "\n",
    "# '''\n",
    "metadata_keylist = ['samplenum', # Sample Number\n",
    "                    'chemistry', # Sample Chemistry\n",
    "                    'filter', # Solution Filtration\n",
    "                    'concentration', # Solution Concentration\n",
    "                    'purge_rate', # Spincoater Purge Rate\n",
    "                    'substrate', # Sample Substrate\n",
    "                    'solution_volume', # Dispensed Volume\n",
    "                    'runnum', # Run Number @ Beamtime Session\n",
    "                    'clocktime', # Clock time @ Endstation\n",
    "                    'xpos', # X-Position of Beam\n",
    "                    'thpos', # Incidence Angle\n",
    "                    'exptime', # Exposure Time\n",
    "                    'scanID', # Scan Identification Number (BNL Specific)\n",
    "                    'framenum', # Frame number for tr-GIWAXS series exposures (in-situ time series)\n",
    "                    'detext'] # Extension of the detector identifier at BNL 'maxs' v. 'saxs' v, 'waxs'\n",
    "# '''\n",
    "                    \n",
    "'''\n",
    "metadata_keylist = ['samplenum', # Sample Number\n",
    "                    'chemistry', # Sample Chemistry\n",
    "                    'solvent', # Solution Filtration\n",
    "                    'concentration', # Solution Concentration\n",
    "                    'purge_rate', # Spincoater Purge Rate\n",
    "                    'substrate', # Sample Substrate\n",
    "                    'solution_volume', # Dispensed Volume\n",
    "                    'runnum', # Run Number @ Beamtime Session\n",
    "                    'clocktime', # Clock time @ Endstation\n",
    "                    'xpos', # X-Position of Beam\n",
    "                    'thpos', # Incidence Angle\n",
    "                    'exptime', # Exposure Time\n",
    "                    'scanID', # Scan Identification Number (BNL Specific)\n",
    "                    'detext'] # Extension of the detector identifier at BNL 'maxs' v. 'saxs' v, 'waxs'\n",
    "'''"
   ]
  },
  {
   "cell_type": "markdown",
   "metadata": {},
   "source": [
    "#### Create a WAXSReduce Project Instance Example"
   ]
  },
  {
   "cell_type": "code",
   "execution_count": null,
   "metadata": {},
   "outputs": [],
   "source": [
    "# - WAXSReduce Class Instantiation: Load the data, apply mask, calculate and map q-range, Ewald sphere corrections/pixel splitting, and caked pixel splitting.\n",
    "waxs_analysis = WAXSReduce(poniPath=poniPath, \n",
    "        maskPath=maskPath, \n",
    "        tiffPath=dataPath, \n",
    "        metadata_keylist=metadata_keylist,\n",
    "        energy = 12.7)"
   ]
  },
  {
   "cell_type": "markdown",
   "metadata": {},
   "source": [
    "### WAXS Simulation"
   ]
  },
  {
   "cell_type": "code",
   "execution_count": 4,
   "metadata": {},
   "outputs": [],
   "source": [
    "from pathlib import Path\n",
    "\n",
    "def select_vasp_file(input_path):\n",
    "    # Convert to pathlib object if input is a string\n",
    "    if isinstance(input_path, str):\n",
    "        input_path = Path(input_path)\n",
    "    \n",
    "    # Check if the path exists\n",
    "    if not input_path.exists():\n",
    "        raise FileNotFoundError(f\"The path {input_path} does not exist.\")\n",
    "    \n",
    "    # Check if the path is a directory\n",
    "    if not input_path.is_dir():\n",
    "        raise NotADirectoryError(f\"The path {input_path} is not a directory.\")\n",
    "    \n",
    "    # List all .vasp files in the directory\n",
    "    vasp_files = sorted([file.name for file in input_path.glob(\"*.vasp\")])\n",
    "    \n",
    "    # Check if any .vasp files are found\n",
    "    if not vasp_files:\n",
    "        raise FileNotFoundError(f\"No .vasp files found in {input_path}.\")\n",
    "    \n",
    "    # Print the ordered list of .vasp files\n",
    "    for i, filename in enumerate(vasp_files):\n",
    "        print(f\"[{i}] {filename}\")\n",
    "    \n",
    "    # Prompt the user to select a file\n",
    "    while True:\n",
    "        selected_index = input(\"Select a file by entering its index: \")\n",
    "        try:\n",
    "            selected_index = int(selected_index)\n",
    "            if 0 <= selected_index < len(vasp_files):\n",
    "                return input_path / vasp_files[selected_index]\n",
    "            else:\n",
    "                print(\"Invalid index. Please try again.\")\n",
    "        except ValueError:\n",
    "            print(\"Invalid input. Please enter an integer index.\")"
   ]
  },
  {
   "cell_type": "markdown",
   "metadata": {},
   "source": [
    "#### File Selection: Select a POSCAR (.vasp) File"
   ]
  },
  {
   "cell_type": "code",
   "execution_count": 5,
   "metadata": {},
   "outputs": [
    {
     "name": "stdout",
     "output_type": "stream",
     "text": [
      "[0] 2MA_2DMF_Pb2I6_2017Tarasov.vasp\n",
      "[1] 2MA_2DMF_Pb3I8_2017Tarasov.vasp\n",
      "[2] aMAPbI3_2013Kaz.vasp\n",
      "You have selected: /Users/keithwhite/github_repositories/pyWAXS/examples_local/projects/1MAI_1PbI2_DMF_0p3M_mar23/poscar/2MA_2DMF_Pb2I6_2017Tarasov.vasp\n"
     ]
    }
   ],
   "source": [
    "# -- File Selection\n",
    "try:\n",
    "    poscarPath = select_vasp_file(poscarPath)\n",
    "    print(f\"You have selected: {poscarPath}\")\n",
    "except Exception as e:\n",
    "    print(e)"
   ]
  },
  {
   "cell_type": "markdown",
   "metadata": {},
   "source": [
    "#### Create a WAXSSim Project Example"
   ]
  },
  {
   "cell_type": "code",
   "execution_count": 6,
   "metadata": {},
   "outputs": [],
   "source": [
    "waxs_sim = WAXSSim(poscarPath = poscarPath,\n",
    "                 simPath = simPath,\n",
    "                 sigma_theta = 0.01, \n",
    "                 sigma_phi = 100, \n",
    "                 sigma_r = 0.01, \n",
    "                 hkl_dimension = 10, \n",
    "                 thetaX = np.pi/2, \n",
    "                 thetaY = np.pi/2,\n",
    "                 resX = 256,\n",
    "                 qxyRange = [-2, 2],\n",
    "                 qzRange = [0, 2],\n",
    "                 projectname = projectname)"
   ]
  },
  {
   "cell_type": "code",
   "execution_count": 7,
   "metadata": {},
   "outputs": [
    {
     "data": {
      "text/plain": [
       "'\\n    from dask.distributed import Client\\n    client = Client(n_workers=6)  # Adjust n_workers according to your needs\\n    client.close()\\n'"
      ]
     },
     "execution_count": 7,
     "metadata": {},
     "output_type": "execute_result"
    }
   ],
   "source": [
    "waxs_sim.runSimulation()\n",
    "\n",
    "'''\n",
    "    from dask.distributed import Client\n",
    "    client = Client(n_workers=6)  # Adjust n_workers according to your needs\n",
    "    client.close()\n",
    "'''"
   ]
  },
  {
   "cell_type": "code",
   "execution_count": 8,
   "metadata": {},
   "outputs": [
    {
     "data": {
      "application/vnd.jupyter.widget-view+json": {
       "model_id": "54712ee12bbe467bb90dc5448d3c07f5",
       "version_major": 2,
       "version_minor": 0
      },
      "image/png": "[encoded data removed]",
      "text/html": [
       "\n",
       "            <div style=\"display: inline-block;\">\n",
       "                <div class=\"jupyter-widgets widget-label\" style=\"text-align: center;\">\n",
       "                    Figure\n",
       "                </div>\n",
       "                <img src='data:image/png;base64,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' width=640.0/>\n",
       "            </div>\n",
       "        "
      ],
      "text/plain": [
       "Canvas(toolbar=Toolbar(toolitems=[('Home', 'Reset original view', 'home', 'home'), ('Back', 'Back to previous …"
      ]
     },
     "metadata": {},
     "output_type": "display_data"
    }
   ],
   "source": [
    "%matplotlib widget\n",
    "waxs_sim.plotIntensityMap()"
   ]
  },
  {
   "cell_type": "markdown",
   "metadata": {},
   "source": [
    "## Data Reduction & Analysis"
   ]
  },
  {
   "cell_type": "markdown",
   "metadata": {},
   "source": [
    "#### Generate a .xye File for TOPAS"
   ]
  },
  {
   "cell_type": "code",
   "execution_count": null,
   "metadata": {},
   "outputs": [],
   "source": [
    "# Create a WAXSTOPAS instance based on the existing WAXSReduce instance\n",
    "waxs_topas = WAXSTOPAS(projectPath=projectPath, waxs_instance=waxs_analysis)\n",
    "\n",
    "# Now you can call the .xye generation method\n",
    "waxs_topas.generate_xye_file_pyfai()"
   ]
  },
  {
   "cell_type": "markdown",
   "metadata": {},
   "source": [
    "#### Check the Wavelength"
   ]
  },
  {
   "cell_type": "code",
   "execution_count": null,
   "metadata": {},
   "outputs": [],
   "source": [
    "waxs_topas.wavelength\n",
    "\n",
    "wavelength = waxs_topas.wavelength * 1e10\n",
    "print(wavelength)"
   ]
  },
  {
   "cell_type": "markdown",
   "metadata": {},
   "source": [
    "#### Load a .int pXRD Simulated File for Comparison"
   ]
  },
  {
   "cell_type": "code",
   "execution_count": null,
   "metadata": {},
   "outputs": [],
   "source": [
    "intPath = pathlib.Path('/Users/keithwhite/github_repositories/pyWAXS/examples_local/projects/AgBh_Calib/poscar/agbh_cif.int')\n",
    "wavelength = 0.9763 # Å^-1\n",
    "\n",
    "def load_int_file(file_path: Path, wavelength: float) -> pd.DataFrame:\n",
    "    # Read the file, skipping the first two lines\n",
    "    df = pd.read_csv(file_path, skiprows=2, header=None, delimiter='\\s+')\n",
    "    \n",
    "    # Rename the columns\n",
    "    df.columns = ['twotheta', 'intensity', 'error']\n",
    "    \n",
    "    # Calculate q based on twotheta and wavelength\n",
    "    df['q'] = (4 * math.pi / wavelength) * np.sin(np.radians(df['twotheta'] / 2))\n",
    "    \n",
    "    # Add headers for wavelength and file path\n",
    "    df.attrs['wavelength'] = wavelength\n",
    "    df.attrs['file_path'] = str(file_path)\n",
    "    \n",
    "    return df\n",
    "\n",
    "# Load the data\n",
    "loaded_data = load_int_file(intPath, wavelength)\n",
    "loaded_data.head(), loaded_data.attrs"
   ]
  },
  {
   "cell_type": "markdown",
   "metadata": {},
   "source": [
    "#### View the Loaded (.int)"
   ]
  },
  {
   "cell_type": "code",
   "execution_count": null,
   "metadata": {},
   "outputs": [],
   "source": [
    "# Initialize the figure\n",
    "%matplotlib widget\n",
    "\n",
    "plt.figure(figsize=(6, 4))\n",
    "\n",
    "# Boolean variable to toggle normalization\n",
    "normalize_traces = True\n",
    "\n",
    "qr_min = float(0.1)\n",
    "qr_max = float(3)\n",
    "\n",
    "filtered_data = loaded_data[(loaded_data['q'] >= qr_min) & (loaded_data['q'] <= qr_max)]\n",
    "\n",
    "if normalize_traces:\n",
    "    plt.plot(filtered_data['q'], filtered_data['intensity'] / filtered_data['intensity'].max(), label='Loaded .int File')\n",
    "else:\n",
    "    plt.plot(filtered_data['q'], filtered_data['intensity'], label='Loaded .int File')\n",
    "\n",
    "plt.legend()\n",
    "plt.xlabel('q / qr')\n",
    "plt.ylabel('Intensity')\n",
    "plt.title('1D Integrated Data Comparison')\n",
    "plt.grid(True)\n",
    "plt.show()"
   ]
  },
  {
   "cell_type": "markdown",
   "metadata": {},
   "source": [
    "#### Overlay pXRD (.int) Calculation & Real Data"
   ]
  },
  {
   "cell_type": "code",
   "execution_count": null,
   "metadata": {},
   "outputs": [],
   "source": [
    "# Initialize the figure\n",
    "plt.figure(figsize=(6, 4))\n",
    "\n",
    "# Boolean variable to toggle normalization\n",
    "normalize_traces = True\n",
    "\n",
    "# methods = ['lut', 'bbox']\n",
    "methods = ['bbox']\n",
    "for method in methods:\n",
    "    waxs_analysis.run_pg_integrate1D(npt=2048, method=method, correctSolidAngle=True, polarization_factor=-0)\n",
    "    intensity_values = waxs_analysis.integrate1d_da.values\n",
    "    if normalize_traces:\n",
    "        intensity_values /= intensity_values.max()\n",
    "    plt.plot(waxs_analysis.integrate1d_da.qr, intensity_values, label=f'pygix {method}')\n",
    "\n",
    "qr_min = float(waxs_analysis.integrate1d_da.qr.min())\n",
    "qr_max = float(waxs_analysis.integrate1d_da.qr.max())\n",
    "filtered_data = loaded_data[(loaded_data['q'] >= qr_min) & (loaded_data['q'] <= qr_max)]\n",
    "\n",
    "if normalize_traces:\n",
    "    plt.plot(filtered_data['q'], filtered_data['intensity'] / filtered_data['intensity'].max(), label='Loaded .int File')\n",
    "else:\n",
    "    plt.plot(filtered_data['q'], filtered_data['intensity'], label='Loaded .int File')\n",
    "\n",
    "plt.legend()\n",
    "plt.xlabel('q / qr')\n",
    "plt.ylabel('Intensity')\n",
    "plt.title('1D Integrated Data Comparison')\n",
    "plt.grid(True)\n",
    "plt.show()\n"
   ]
  },
  {
   "cell_type": "markdown",
   "metadata": {},
   "source": [
    "#### Test Different Pygix 1D Integration Methods"
   ]
  },
  {
   "cell_type": "code",
   "execution_count": null,
   "metadata": {},
   "outputs": [],
   "source": [
    "# Prepare plot before loop\n",
    "plt.figure()\n",
    "plt.xlabel('qr (1/Å)')\n",
    "plt.ylabel('Intensity (a.u.)')\n",
    "plt.title('1D Integration: Comparison of Methods')\n",
    "\n",
    "methods = ['np', 'cython', 'bbox', 'splitpix', 'lut']\n",
    "\n",
    "plt.close('all')\n",
    "\n",
    "for method in methods:\n",
    "    # Run the 1D integration using the run_pg_integrate1D method.\n",
    "    waxs_analysis.run_pg_integrate1D(npt=2048, \n",
    "                                     method=method, \n",
    "                                     correctSolidAngle=True, \n",
    "                                     polarization_factor=None)\n",
    "\n",
    "    # Add a plot trace for this method\n",
    "    plt.plot(waxs_analysis.integrate1d_da['qr'], waxs_analysis.integrate1d_da, label=method)\n",
    "\n",
    "    # # Optionally save .xy file\n",
    "    # waxs_analysis.plot_and_save_qr_intensity(output_path=pngPath, \n",
    "    #                                          save_xy=True, \n",
    "    #                                          save_png=False)  # Disable png save here\n",
    "\n",
    "# Add legend and show the plot\n",
    "plt.legend(title='Method')\n",
    "plt.show()\n",
    "\n",
    "# Optionally save the overlay plot as a .png\n",
    "if pngPath is not None:\n",
    "    plt.savefig(pngPath / 'overlay_plot.png')\n"
   ]
  },
  {
   "cell_type": "markdown",
   "metadata": {},
   "source": [
    "#### Test the Stored WAXSReduce DataArrays"
   ]
  },
  {
   "cell_type": "code",
   "execution_count": null,
   "metadata": {},
   "outputs": [],
   "source": [
    "%matplotlib widget\n",
    "\n",
    "title = projectname\n",
    "\n",
    "waxs_analysis.display_image(waxs_analysis.cakedtiff_xr, \n",
    "                            title=title, \n",
    "                            cmap='turbo')"
   ]
  },
  {
   "cell_type": "markdown",
   "metadata": {},
   "source": [
    "#### Define Azimuthal Integration Region on Reciprocal Space Map"
   ]
  },
  {
   "cell_type": "code",
   "execution_count": null,
   "metadata": {},
   "outputs": [],
   "source": [
    "# Initialize class and perform azimuthal crop\n",
    "azimuth = Azimuth1D(waxs_analysis)\n",
    "# qr_range = [.85, 1]\n",
    "# qr_range = [1.68, 1.82]\n",
    "chi_range = [-90, 0]\n",
    "qr_range = [0, 3]\n",
    "img = waxs_analysis.reciptiff_xr\n",
    "cropped_data = azimuth.azimuthal_crop(azimuth.reciptiff_xr, qr_range, chi_range)\n",
    "\n",
    "# Plot the data\n",
    "azimuth.plot_data(img, cropped_data, azimuth.shape)"
   ]
  },
  {
   "cell_type": "markdown",
   "metadata": {},
   "source": [
    "#### 1D Integration: Summing over Chi"
   ]
  },
  {
   "cell_type": "code",
   "execution_count": null,
   "metadata": {},
   "outputs": [],
   "source": [
    "# Perform azimuthal integration\n",
    "num_qr_bins = 1000\n",
    "qr_bins, azimuthal_sum, gaps = azimuth.azimuthal_integration(num_qr_bins, qr_range)\n",
    "\n",
    "azimuth.plot_azimuthal_integration(qr_bins, azimuthal_sum, gaps)"
   ]
  },
  {
   "cell_type": "markdown",
   "metadata": {},
   "source": [
    "#### 1D Integration: Sum over qr"
   ]
  },
  {
   "cell_type": "code",
   "execution_count": null,
   "metadata": {},
   "outputs": [],
   "source": [
    "# Perform azimuthal integration by chi\n",
    "num_chi_bins = 500  # Specify the number of chi bins\n",
    "chi_bins, azimuthal_sum_by_chi, gaps_by_chi = azimuth.azimuthal_integration_by_chi(num_chi_bins, chi_range)\n",
    "\n",
    "# Plot azimuthal integration by chi\n",
    "azimuth.plot_azimuthal_integration_by_chi(chi_bins, azimuthal_sum_by_chi, gaps_by_chi)"
   ]
  },
  {
   "cell_type": "markdown",
   "metadata": {},
   "source": [
    "### Generalized Analysis Flow"
   ]
  },
  {
   "cell_type": "markdown",
   "metadata": {},
   "source": [
    "#### Image Processing"
   ]
  },
  {
   "cell_type": "markdown",
   "metadata": {},
   "source": [
    "#### sin(chi) Correction"
   ]
  },
  {
   "cell_type": "code",
   "execution_count": null,
   "metadata": {},
   "outputs": [],
   "source": [
    "# Caked Image Sin-Chi Correction: Apply sin(chi) correction to the caked image.\n",
    "cakedtiff_sinchi_xr = waxs_analysis.sinchi_corr(chicorr = True, \n",
    "                                                qsqr = False)\n",
    "\n",
    "# Image Normalization: Normalize the caked image.\n",
    "cakedtiff_xr_norm, (max_x, max_y) = waxs_analysis.normalize_image(img = waxs_analysis.cakedtiff_sinchi_xr, \n",
    "                                                  normalizerecip=False)\n",
    "data = cakedtiff_xr_norm"
   ]
  },
  {
   "cell_type": "markdown",
   "metadata": {},
   "source": [
    "#### Image Folding"
   ]
  },
  {
   "cell_type": "code",
   "execution_count": null,
   "metadata": {},
   "outputs": [],
   "source": [
    "# Image Folding: Fold the caked image.\n",
    "folded_data = waxs_analysis.fold_image(data, 'chi')\n",
    "data = folded_data"
   ]
  },
  {
   "cell_type": "markdown",
   "metadata": {},
   "source": [
    "#### Interpolation"
   ]
  },
  {
   "cell_type": "code",
   "execution_count": null,
   "metadata": {},
   "outputs": [],
   "source": [
    "data = waxs_analysis.cakedtiff_xr\n",
    "\n",
    "# Image Normalization: Normalize the caked image.\n",
    "data, (max_x, max_y) = waxs_analysis.normalize_image(img = data, \n",
    "                                                  normalizerecip=False)\n",
    "\n",
    "# Image Interpolation: Interpolate the folded image.\n",
    "# interpolator = ImageInterpolator() # Create the interpolator object. \n",
    "# data = interpolator.simple_interpolate(data, 'horizontal', 'slinear') # interpolate horizontal gaps with slinear method.\n",
    "# data = interpolator.simple_interpolate(data, 'vertical', 'slinear') # interpolate unfilled vertical gaps with slinear method."
   ]
  },
  {
   "cell_type": "markdown",
   "metadata": {},
   "source": [
    "#### Plotting Output"
   ]
  },
  {
   "cell_type": "code",
   "execution_count": null,
   "metadata": {},
   "outputs": [],
   "source": [
    "# Image Folding: Fold the caked image.\n",
    "data = waxs_analysis.cakedtiff_xr\n",
    "data = waxs_analysis.fold_image(data, 'chi')\n",
    "data, (max_x, max_y) = waxs_analysis.normalize_image(img = data, \n",
    "                                                  normalizerecip=False)\n",
    "\n",
    "# Display Image\n",
    "waxs_analysis.display_image(data, \n",
    "                            title='folded', \n",
    "                            cmap='turbo')"
   ]
  },
  {
   "cell_type": "markdown",
   "metadata": {},
   "source": [
    "#### Peak Finding\n",
    "Find the peaks using a our custom peak finding algorithm.\n",
    "\n",
    "Parameters:\n",
    "- sigma1 (float, default=1.0): The standard deviation for the first Gaussian filter.\n",
    "- sigma2 (float, default=2.0): The standard deviation for the second Gaussian filter.\n",
    "- threshold (float, default=0.2): Threshold for initial peak identification.\n",
    "- clustering_method (str, default='DBSCAN'): The clustering method to use ('DBSCAN' or 'HDBSCAN').\n",
    "- eps (float, default=3): The maximum distance between two samples for them to be considered as in the same cluster (DBSCAN).\n",
    "- min_samples (int, default=2): The number of samples in a neighborhood for a point to be considered as a core point (DBSCAN).\n",
    "- k (int, default=3): The number of nearest neighbors to consider for the recentering algorithm.\n",
    "- radius (float, default=5): The radius within which to search for neighbors in the recentering algorithm.\n",
    "- edge_percentage (float, default=5): The percentage of the minimum edge length to be considered as the edge zone.\n",
    "- stricter_threshold (float, default=0.01): A stricter threshold for edge peaks."
   ]
  },
  {
   "cell_type": "code",
   "execution_count": null,
   "metadata": {},
   "outputs": [],
   "source": [
    "'''\n",
    "%matplotlib widget\n",
    "\n",
    "# Find peaks (implement the actual peak-finding logic in the find_peaks method)\n",
    "peak_finder = WAXSSearch(data) # create the WAXSSearch object\n",
    "\n",
    "# NOTE: Make sure you pass the ACTIVE DataArray you are working on, notice how I passed 'data' \n",
    "# since this is the processed dataset we are working with locally.\n",
    "\n",
    "dataset = peak_finder.waxssearch_main(sigma1=.1,\n",
    "                                  sigma2=1.5,\n",
    "                                  threshold=.015,\n",
    "                                  clustering_method='HDBSCAN',\n",
    "                                  eps=1, \n",
    "                                  min_samples=2,\n",
    "                                  k=8,\n",
    "                                  radius=10,\n",
    "                                  edge_percentage=2,\n",
    "                                  stricter_threshold=20)\n",
    "\n",
    "# Display image with peaks\n",
    "peak_finder.display_image_with_peaks_and_DoG(dataset,\n",
    "                                       title='peak finder', \n",
    "                                       cmap='turbo')\n",
    "\n",
    "# peak_finder.save_to_netcdf(hdf5Path) # Creates an hdf5 file with the name 'output.nc' in your output path. Will generalize\n",
    "# the file naming convention for this soon.\n",
    "'''\n",
    "\n",
    "%matplotlib widget\n",
    "\n",
    "data = waxs_analysis.reciptiff_xr\n",
    "# data = waxs_analysis.fold_image(data, 'chi')\n",
    "# data, (max_x, max_y) = waxs_analysis.normalize_image(img = data, \n",
    "#                                                   normalizerecip=False)\n",
    "\n",
    "# Find peaks (implement the actual peak-finding logic in the find_peaks method)\n",
    "peak_finder = WAXSSearch(data) # create the WAXSSearch object\n",
    "\n",
    "# NOTE: Make sure you pass the ACTIVE DataArray you are working on, notice how I passed 'data' \n",
    "# since this is the processed dataset we are working with locally.\n",
    "\n",
    "const_params = {\n",
    "    'threshold': 0.0005,\n",
    "    'clustering_method': 'HDBSCAN',\n",
    "    'eps': 1,\n",
    "    'min_samples': 2,\n",
    "    'k': 4,\n",
    "    'radius': 2,\n",
    "    'edge_percentage': 2,\n",
    "    'stricter_threshold': 20\n",
    "}\n",
    "\n",
    "dataset = peak_finder.waxssearch_main(sigma1=.15,\n",
    "                                        sigma2=2.91,\n",
    "                                        **const_params)\n",
    "\n",
    "# Display image with peaks\n",
    "peak_finder.display_image_with_peaks_and_DoG(dataset,\n",
    "                                       title='peak finder', \n",
    "                                       cmap='turbo')\n",
    "\n",
    "# peak_finder.save_to_netcdf(hdf5Path) # Creates an hdf5 file with the name 'output.nc' in your output path. Will generalize\n",
    "# the file naming convention for this soon."
   ]
  },
  {
   "cell_type": "markdown",
   "metadata": {},
   "source": [
    "#### Peak Search Parameter Sensitivity Analysis"
   ]
  },
  {
   "cell_type": "code",
   "execution_count": null,
   "metadata": {},
   "outputs": [],
   "source": [
    "#### Peak Search Parameter Sensitivity Analysis\n",
    "import matplotlib.pyplot as plt\n",
    "import numpy as np\n",
    "import seaborn as sns\n",
    "import pandas as pd\n",
    "\n",
    "# Import the WAXSSearch class and any other dependencies here\n",
    "\n",
    "# Define constant parameters\n",
    "const_params = {\n",
    "    'threshold': 0.0005,\n",
    "    'clustering_method': 'HDBSCAN',\n",
    "    'eps': 1,\n",
    "    'min_samples': 2,\n",
    "    'k': 4,\n",
    "    'radius': 2,\n",
    "    'edge_percentage': 2,\n",
    "    'stricter_threshold': 5\n",
    "}\n",
    "\n",
    "# Assume that 'data' is available here or load it\n",
    "\n",
    "# Define ranges for sigma1 and sigma2\n",
    "sigma1_values = np.linspace(0.1, 1.2, 20)\n",
    "sigma2_values = np.linspace(1.3, 3, 20)\n",
    "\n",
    "# Create a matrix to store the results\n",
    "num_peaks_matrix = np.zeros((len(sigma1_values), len(sigma2_values)))\n",
    "\n",
    "# Run the simulation\n",
    "for i, sigma1 in enumerate(sigma1_values):\n",
    "    for j, sigma2 in enumerate(sigma2_values):\n",
    "        # Create a WAXSSearch object with the current 'data'\n",
    "        peak_finder = WAXSSearch(data)\n",
    "        \n",
    "        # Run the actual waxssearch_main method\n",
    "        dataset = peak_finder.waxssearch_main(sigma1=sigma1,\n",
    "                                              sigma2=sigma2,\n",
    "                                              **const_params)\n",
    "        \n",
    "        # Extract the number of peaks found\n",
    "        num_peaks = np.count_nonzero(dataset['peak_positions'].values == 1)\n",
    "        num_peaks_matrix[i, j] = num_peaks\n",
    "\n",
    "\n",
    "# Convert to DataFrame for better annotation in heatmap\n",
    "df_num_peaks = pd.DataFrame(num_peaks_matrix, index=np.round(sigma1_values, 2), columns=np.round(sigma2_values, 2))\n",
    "\n",
    "plt.close('all')\n",
    "\n",
    "# Generate the heatmap\n",
    "sns.heatmap(df_num_peaks, annot=True, fmt=\".0f\", cmap=\"YlGnBu\")\n",
    "plt.xlabel(\"Sigma2 Values\")\n",
    "plt.ylabel(\"Sigma1 Values\")\n",
    "plt.title(\"Heatmap of Number of Peaks Detected\")\n",
    "plt.show()"
   ]
  },
  {
   "cell_type": "code",
   "execution_count": null,
   "metadata": {},
   "outputs": [],
   "source": [
    "import imageio  # for creating GIF\n",
    "import matplotlib.pyplot as plt\n",
    "import numpy as np\n",
    "import seaborn as sns\n",
    "import pandas as pd\n",
    "\n",
    "# Import WAXSSearch and other dependencies here\n",
    "# ...\n",
    "\n",
    "# Assume that 'data' is available here or load it\n",
    "# ...\n",
    "\n",
    "# Define constant parameters\n",
    "const_params = {\n",
    "    'clustering_method': 'HDBSCAN',\n",
    "    'eps': 1,\n",
    "    'min_samples': 2,\n",
    "    'k': 4,\n",
    "    'radius': 2,\n",
    "    'edge_percentage': 2,\n",
    "    'stricter_threshold': 5\n",
    "}\n",
    "\n",
    "# Define ranges for sigma1, sigma2, and threshold\n",
    "sigma1_values = np.linspace(0.1, 1.2, 20)\n",
    "sigma2_values = np.linspace(1.3, 3, 20)\n",
    "threshold_values = np.linspace(0.0001, 0.001, 10)  # Replace with your range\n",
    "\n",
    "# Initialize a list to store heatmap frames\n",
    "frames = []\n",
    "\n",
    "# Loop over different threshold values\n",
    "for t, threshold in enumerate(threshold_values):\n",
    "    num_peaks_matrix = np.zeros((len(sigma1_values), len(sigma2_values)))\n",
    "\n",
    "    for i, sigma1 in enumerate(sigma1_values):\n",
    "        for j, sigma2 in enumerate(sigma2_values):\n",
    "            if sigma1 >= sigma2:\n",
    "                continue\n",
    "\n",
    "            peak_finder = WAXSSearch(data)\n",
    "            dataset = peak_finder.waxssearch_main(sigma1=sigma1, sigma2=sigma2, threshold=threshold, **const_params)\n",
    "            num_peaks = np.count_nonzero(dataset['peak_positions'].values == 1)\n",
    "            num_peaks_matrix[i, j] = num_peaks\n",
    "\n",
    "    # Convert to DataFrame\n",
    "    df_num_peaks = pd.DataFrame(num_peaks_matrix, index=np.round(sigma1_values, 2), columns=np.round(sigma2_values, 2))\n",
    "    \n",
    "    # Generate and save the heatmap\n",
    "    plt.figure()\n",
    "    sns.heatmap(df_num_peaks, annot=True, fmt=\".0f\", cmap=\"YlGnBu\")\n",
    "    plt.xlabel(\"Sigma2 Values\")\n",
    "    plt.ylabel(\"Sigma1 Values\")\n",
    "    plt.title(f\"Heatmap of Number of Peaks Detected (Threshold={threshold})\")\n",
    "    \n",
    "    # Save as PNG\n",
    "    plt.savefig(f\"heatmap_{t}.png\")\n",
    "    \n",
    "    # Append to frames for GIF\n",
    "    frames.append(imageio.imread(f\"heatmap_{t}.png\"))\n",
    "\n",
    "# Create GIF\n",
    "imageio.mimsave('heatmap.gif', frames, duration=1)  # 1-second duration for each frame"
   ]
  },
  {
   "cell_type": "code",
   "execution_count": null,
   "metadata": {},
   "outputs": [],
   "source": [
    "from IPython.display import display, Image\n",
    "\n",
    "# Display GIF in Jupyter Notebook\n",
    "with open('heatmap.gif','rb') as file:\n",
    "    display(Image(file.read()))\n"
   ]
  },
  {
   "cell_type": "code",
   "execution_count": null,
   "metadata": {},
   "outputs": [],
   "source": [
    "%matplotlib widget\n",
    "import dask\n",
    "from dask import delayed, compute\n",
    "import imageio\n",
    "import matplotlib.pyplot as plt\n",
    "import numpy as np\n",
    "import seaborn as sns\n",
    "import pandas as pd\n",
    "\n",
    "def run_peak_finder(sigma1, sigma2, data, threshold, const_params):\n",
    "    if sigma1 >= sigma2:\n",
    "        return None\n",
    "    peak_finder = WAXSSearch(data)\n",
    "    dataset = peak_finder.waxssearch_main(sigma1=sigma1, sigma2=sigma2, threshold=threshold, **const_params)\n",
    "    num_peaks = np.count_nonzero(dataset['peak_positions'].values == 1)\n",
    "    return num_peaks\n",
    "\n",
    "def generate_heatmap(matrix, sigma1_values, sigma2_values, threshold):\n",
    "    df_num_peaks = pd.DataFrame(matrix, index=np.round(sigma1_values, 2), columns=np.round(sigma2_values, 2))\n",
    "    plt.figure()\n",
    "    sns.heatmap(df_num_peaks, annot=True, fmt=\".0f\", cmap=\"YlGnBu\")\n",
    "    plt.xlabel(\"Sigma2 Values\")\n",
    "    plt.ylabel(\"Sigma1 Values\")\n",
    "    plt.title(f\"Heatmap of Number of Peaks Detected (Threshold={threshold})\")\n",
    "    plt.savefig(f\"heatmap_{threshold}.png\")\n",
    "    plt.close()\n",
    "\n",
    "def create_gif(frames, filename='heatmap.gif', duration=1):\n",
    "    imageio.mimsave(filename, frames, duration=duration)\n",
    "\n",
    "# Main logic\n",
    "# Define constant parameters and ranges\n",
    "# Define constant parameters\n",
    "const_params = {\n",
    "    'clustering_method': 'HDBSCAN',\n",
    "    'eps': 1,\n",
    "    'min_samples': 2,\n",
    "    'k': 4,\n",
    "    'radius': 2,\n",
    "    'edge_percentage': 2,\n",
    "    'stricter_threshold': 5\n",
    "}\n",
    "\n",
    "sigma1_values = np.linspace(0.1, 1.2, 20)\n",
    "sigma2_values = np.linspace(1.3, 3, 20)\n",
    "# threshold_values = np.linspace(0.0001, 0.001, 10)\n",
    "threshold_values = np.linspace(0.0006, 0.001, 3)\n",
    "data = waxs_analysis.reciptiff_xr\n",
    "frames = []\n",
    "\n",
    "for t, threshold in enumerate(threshold_values):\n",
    "    tasks = []\n",
    "    for sigma1 in sigma1_values:\n",
    "        for sigma2 in sigma2_values:\n",
    "            task = delayed(run_peak_finder)(sigma1, sigma2, data, threshold, const_params)\n",
    "            tasks.append(task)\n",
    "\n",
    "    num_peaks_values = compute(*tasks)\n",
    "    num_peaks_matrix = np.array(num_peaks_values).reshape(len(sigma1_values), len(sigma2_values))\n",
    "    num_peaks_matrix = np.where(num_peaks_matrix == None, 0, num_peaks_matrix)\n",
    "\n",
    "    generate_heatmap(num_peaks_matrix, sigma1_values, sigma2_values, threshold)\n",
    "    frame = imageio.imread(f\"heatmap_{threshold}.png\")\n",
    "    frames.append(frame)\n",
    "\n",
    "create_gif(frames)"
   ]
  },
  {
   "cell_type": "markdown",
   "metadata": {},
   "source": [
    "## Load Existing Project File"
   ]
  },
  {
   "cell_type": "code",
   "execution_count": null,
   "metadata": {},
   "outputs": [],
   "source": [
    "# waxsPath = pathlib.Path('/Users/keithwhite/github_repositories/pyWAXS/examples_local/projects/1MAI_3PbI2_DMF_1M_mar23/analysis/hdf5/3MAI_1PbI2_DMF_1M_mar23_peaks.nc')\n",
    "waxsPath = pathlib.Path('/Users/keithwhite/github_repositories/pyWAXS/examples_local/projects/1MAI_3PbI2_DMF_1M_mar23/analysis/hdf5/output.nc')\n",
    "\n",
    "waxs_ds = waxs_analysis.load_xarray_dataset(waxsPath)\n",
    "\n",
    "waxs_ds.info()"
   ]
  },
  {
   "cell_type": "code",
   "execution_count": null,
   "metadata": {},
   "outputs": [],
   "source": [
    "waxs_ds_peaks = WAXSSearch(waxs_ds) # create the WAXSSearch object\n",
    "\n",
    "# Display image with peaks\n",
    "waxs_ds_peaks.display_image_with_peaks(waxs_analysis.ds,\n",
    "                                       title='manual peaks', \n",
    "                                       cmap='turbo')"
   ]
  },
  {
   "cell_type": "markdown",
   "metadata": {},
   "source": [
    "### 1D Integration Methods"
   ]
  },
  {
   "cell_type": "code",
   "execution_count": null,
   "metadata": {},
   "outputs": [],
   "source": [
    "integrator = Integration1D(waxs_analysis)"
   ]
  },
  {
   "cell_type": "markdown",
   "metadata": {},
   "source": [
    "Now your integrator object 'integrator' has access to and references your active 'waxs_analysis' session. \n",
    "\n",
    "It also has access to all of the WAXSReduce() methods. You can prove it to yourself like this:"
   ]
  },
  {
   "cell_type": "markdown",
   "metadata": {},
   "source": [
    "#### (1) Cake Slide 1D: Display 2D Caked Image"
   ]
  },
  {
   "cell_type": "code",
   "execution_count": null,
   "metadata": {},
   "outputs": [],
   "source": [
    "integrator.display_image(integrator.cakedtiff_xr, # Display the caked data we will manipulate with the 1D image processing.\n",
    "                            title='processed', \n",
    "                            cmap='turbo')"
   ]
  },
  {
   "cell_type": "markdown",
   "metadata": {},
   "source": [
    "#### (1) Cake Slice 1D"
   ]
  },
  {
   "cell_type": "code",
   "execution_count": null,
   "metadata": {},
   "outputs": [],
   "source": [
    "integrator = Integration1D(waxs_analysis)\n",
    "\n",
    "integrator.cakeslice1D(integrator.cakedtiff_xr, chislice=[-90, 90], qrslice=[0, 4], cakeslicesum='chi')\n",
    "\n",
    "integrator.display_image1D(integrator.cakeslice1D_xr, color='red')"
   ]
  },
  {
   "cell_type": "markdown",
   "metadata": {},
   "source": [
    "#### (2) Boxcut 1D: Display 2D Recip Space Map"
   ]
  },
  {
   "cell_type": "code",
   "execution_count": null,
   "metadata": {},
   "outputs": [],
   "source": [
    "%matplotlib widget\n",
    "# integrator = Integration1D(waxs_analysis)\n",
    "integrator.display_image(integrator.reciptiff_xr, # Display the caked data we will manipulate with the 1D image processing.\n",
    "                            title='recip space map', \n",
    "                            cmap='turbo')"
   ]
  },
  {
   "cell_type": "markdown",
   "metadata": {},
   "source": [
    "#### (2) Box Cut 1D"
   ]
  },
  {
   "cell_type": "code",
   "execution_count": null,
   "metadata": {},
   "outputs": [],
   "source": [
    "# Updated `process_slices` function to dynamically generate a sample name prefix based on the slices\n",
    "def process_slices(integrator, base_samplenameprefix, pngPath, plot_interpolated=False, interpolate_gaps = False, interp_method = 'linear', order = None):\n",
    "    # Qz Layer Lines\n",
    "    qxyslice_qz = [-2.5, 2.5]\n",
    "    qzslice_qz_list = [\n",
    "        [.42, .57],\n",
    "        [.9, 1.07],\n",
    "        [1.42, 1.58],\n",
    "        [1.83, 2.16],\n",
    "        [2.4, 2.6]\n",
    "    ]\n",
    "    \n",
    "    for qzslice in qzslice_qz_list:\n",
    "        dynamic_samplenameprefix = f\"{base_samplenameprefix}_qxyrange{qxyslice_qz[0]}_{qxyslice_qz[1]}_qzrange{qzslice[0]}_{qzslice[1]}\"\n",
    "        title = generate_title('qz', qxyslice_qz, qzslice)\n",
    "        integrator.boxcut1D(integrator.reciptiff_xr, qxyslice=qxyslice_qz, qzslice=qzslice, boxcutsum='qz', interpolate_gaps=interpolate_gaps, interp_method = interp_method, order = None)\n",
    "        integrator.display_image1D(integrator, color='blue', title=title, save_image=True, samplenameprefix=dynamic_samplenameprefix, savePath=pngPath, plot_interpolated=plot_interpolated)\n",
    "        \n",
    "    # Qxy Layer Lines\n",
    "    qzslice_qxy = [0, 3]\n",
    "    qxyslice_qxy_list = [\n",
    "        [-0.95, -0.7],\n",
    "        [-1.18, -1.08],\n",
    "        [-1.7, -1.45],\n",
    "        [-2.06, -1.9],\n",
    "        [-2.24, -2.1],\n",
    "        [-2.36, -2.26]\n",
    "    ]\n",
    "    \n",
    "    for qxyslice in qxyslice_qxy_list:\n",
    "        dynamic_samplenameprefix = f\"{base_samplenameprefix}_qxyrange{qxyslice[0]}_{qxyslice[1]}_qzrange{qzslice_qxy[0]}_{qzslice_qxy[1]}\"\n",
    "        title = generate_title('qxy', qxyslice, qzslice_qxy)\n",
    "        integrator.boxcut1D(integrator.reciptiff_xr, qxyslice=qxyslice, qzslice=qzslice_qxy, boxcutsum='qxy', interpolate_gaps=interpolate_gaps, interp_method = interp_method)\n",
    "        integrator.display_image1D(integrator, color='red', title=title, save_image=True, samplenameprefix=dynamic_samplenameprefix, savePath=pngPath, plot_interpolated=plot_interpolated)\n",
    "        \n",
    "# The generate_title function for reference\n",
    "def generate_title(boxcutsum, qxyslice=None, qzslice=None):\n",
    "    if boxcutsum == 'qz':\n",
    "        title = f\"Qz Layer Lines (Qxy: {qzslice[0]} to {qzslice[1]})\"\n",
    "    elif boxcutsum == 'qxy':\n",
    "        title = f\"Qxy Layer Lines (Qz: {qxyslice[0]} to {qxyslice[1]})\"\n",
    "    return title"
   ]
  },
  {
   "cell_type": "code",
   "execution_count": null,
   "metadata": {},
   "outputs": [],
   "source": [
    "base_samplenameprefix = '3MAI1PbI2_DMF_1M'\n",
    "# interp_method = 'cubic', 'slinear', 'nearest', 'zero', 'linear'\n",
    "interp_method = 'linear'\n",
    "process_slices(integrator, base_samplenameprefix, pngPath, plot_interpolated=False, interpolate_gaps = False, interp_method = 'linear', order = None)"
   ]
  },
  {
   "cell_type": "markdown",
   "metadata": {},
   "source": [
    "#### (3) Pole Figure 1D: Display 2D Caked Image"
   ]
  },
  {
   "cell_type": "code",
   "execution_count": null,
   "metadata": {},
   "outputs": [],
   "source": [
    "integrator.display_image(integrator.cakedtiff_xr, # Display the caked data we will manipulate with the 1D image processing.\n",
    "                            title='processed', \n",
    "                            cmap='turbo')"
   ]
  },
  {
   "cell_type": "markdown",
   "metadata": {},
   "source": [
    "#### (3) Pole Figure 1D"
   ]
  },
  {
   "cell_type": "code",
   "execution_count": null,
   "metadata": {},
   "outputs": [],
   "source": [
    "# integrator.polefig1D(integrator.cakedtiff_xr, pole_chislice=[-90, 90], pole_qrslice=[1.8, 1.92], qrcenter=1.85, chicenter=0, poleleveler='linear')\n",
    "integrator.polefig1D(integrator.cakedtiff_xr, pole_chislice=[-90, 90], pole_qrslice=[.62, .75], qrcenter=.67, chicenter=0, poleleveler='average')\n",
    "# integrator.polefig1D(integrator.cakedtiff_xr, pole_chislice=[-90, 90], pole_qrslice=[.62, .75], qrcenter=.67, chicenter=0, poleleveler=None)\n",
    "# integrator.polefig1D(integrator.cakedtiff_xr, pole_chislice=[-90, 90], pole_qrslice=[.62, .75], qrcenter=.67, chicenter=0, poleleveler='linear')\n",
    "\n",
    "integrator.display_image1D(integrator.polefig1D_xr, color='blue')"
   ]
  },
  {
   "cell_type": "markdown",
   "metadata": {},
   "source": [
    "#### (4) Azimuthal Integration: Display the 2D Recip Space Map\n",
    "This is effectively the same as the caked integration, but with our own custom pixel splitting routine."
   ]
  },
  {
   "cell_type": "code",
   "execution_count": null,
   "metadata": {},
   "outputs": [],
   "source": [
    "integrator.display_image(integrator.reciptiff_xr, # Display the caked data we will manipulate with the 1D image processing.\n",
    "                            title='recip space map', \n",
    "                            cmap='turbo')"
   ]
  },
  {
   "cell_type": "markdown",
   "metadata": {},
   "source": [
    "#### (a) Setup DataPaths & Metadata Keys Example"
   ]
  },
  {
   "cell_type": "code",
   "execution_count": null,
   "metadata": {},
   "outputs": [],
   "source": [
    "# -- Base Path Definitions -- #\n",
    "basePath = pathlib.Path('/Users/keithwhite/github_repositories/pyWAXS/example')\n",
    "dataPath = basePath.joinpath('data') # Generalized path for data.\n",
    "poniPath = basePath.joinpath('poni') # PONI (.poni) File\n",
    "maskPath = basePath.joinpath('mask') # MASK (.edf, .json)\n",
    "outputPath = basePath.joinpath('output') # Generalized for file outputs\n",
    "\n",
    "# -- Example Specific Paths -- #\n",
    "# TIFF File w/ Data\n",
    "tiffPath = dataPath.joinpath('sam22_1MAI1PbI2_unfilt_0p3M_5p0scfh_Si_30uL_043_2068.2s_x0.015_th0.300_0.49s_986546_001639_maxs.tiff')\n",
    "# PONI File Calibrant\n",
    "poniPath = poniPath.joinpath('may23_poni4_nslsiimar23_12p7keV_CeO_KWPos_mask5_fit2.poni')\n",
    "# Image Mask File\n",
    "maskPath = maskPath.joinpath('may23_nslsiimar23_12p7keV_AgBh_KWPos_wSi_th0p3_mask_5.edf')\n",
    "# Output for HDF5 File Format (a nicely formatted output file we will use)\n",
    "hdf5Path = outputPath.joinpath('hdf5') # output path for generated hdf5 files\n",
    "\n",
    "# -- TIFF Path & Corresponding Metadata Keylist -- #\n",
    "# Look at your filename, each '_' delimiter spaces out two keys. Add one key for each position in the filename.\n",
    "metadata_keylist = ['samplenum', # Sample Number\n",
    "                    'chemistry', # Sample Chemistry\n",
    "                    'filter', # Solution Filtration\n",
    "                    'concentration', # Solution Concentration\n",
    "                    'purge_rate', # Spincoater Purge Rate\n",
    "                    'substrate', # Sample Substrate\n",
    "                    'solution_volume', # Dispensed Volume\n",
    "                    'runnum', # Run Number @ Beamtime Session\n",
    "                    'clocktime', # Clock time @ Endstation\n",
    "                    'xpos', # X-Position of Beam\n",
    "                    'thpos', # Incidence Angle\n",
    "                    'exptime', # Exposure Time\n",
    "                    'scanID', # Scan Identification Number (BNL Specific)\n",
    "                    'framenum', # Frame number for tr-GIWAXS series exposures (in-situ time series)\n",
    "                    'detext'] # Extension of the detector identifier at BNL 'maxs' v. 'saxs' v, 'waxs'"
   ]
  },
  {
   "cell_type": "code",
   "execution_count": null,
   "metadata": {},
   "outputs": [],
   "source": [
    "# # -- Core Path Definitions -- #\n",
    "# basePath = pathlib.Path('/Users/keithwhite/github_repositories/pyWAXS/examples')\n",
    "# calibPath = basePath.joinpath('calib_files/ponimask')\n",
    "# dataPath = basePath.joinpath('data_files')\n",
    "\n",
    "# # -- Project Specific Paths -- #\n",
    "# # - March 2023 @ 11-BM (CMS)\n",
    "# poniPath = calibPath.joinpath('may23/may23_poni4_nslsiimar23_12p7keV_CeO_KWPos_mask5_fit2.poni')\n",
    "# maskPath = calibPath.joinpath('may23/may23_nslsiimar23_12p7keV_AgBh_KWPos_wSi_th0p3_mask_5.edf')\n",
    "# zarrPath = basePath.joinpath('output_files/zarr_files')\n",
    "\n",
    "# # -- TIFF Path & Corresponding Metadata Keylist -- #\n",
    "# # Look at your filename, each '_' delimiter spaces out two keys. Add one key for each position in the filename.\n",
    "# metadata_keylist = ['samplenum', \n",
    "#                     'chemistry', \n",
    "#                     'filter', \n",
    "#                     'concentration', \n",
    "#                     'purge_rate', \n",
    "#                     'substrate', \n",
    "#                     'solution_volume', \n",
    "#                     'runnum', \n",
    "#                     'clocktime', \n",
    "#                     'xpos', \n",
    "#                     'thpos', \n",
    "#                     'exptime', \n",
    "#                     'scanID', \n",
    "#                     'framenum', \n",
    "#                     'detext']\n",
    "\n",
    "# tiffPath = dataPath.joinpath('sam22_1MAI1PbI2_unfilt_0p3M_5p0scfh_Si_30uL_043_2068.2s_x0.015_th0.300_0.49s_986546_001639_maxs.tiff')\n"
   ]
  },
  {
   "cell_type": "markdown",
   "metadata": {},
   "source": [
    "#### (b) Create Project Session"
   ]
  },
  {
   "cell_type": "code",
   "execution_count": null,
   "metadata": {},
   "outputs": [],
   "source": [
    "# - WAXSReduce Class Instantiation\n",
    "waxs_analysis = WAXSReduce(poniPath=poniPath, \n",
    "        maskPath=maskPath, \n",
    "        tiffPath=tiffPath, \n",
    "        metadata_keylist=metadata_keylist,\n",
    "        energy = 12.7)"
   ]
  },
  {
   "cell_type": "markdown",
   "metadata": {},
   "source": [
    "##### Notice how we loaded all of the following: image correction file references, the X-ray energy, and the data?\n",
    "\n",
    "Assuming your file has the incidence angle in the sample name, we can generate accurately corrected images. You can now access the reciprocal space image corrections and caked image corrections:\n",
    "\n",
    "Reciprocal Space Map:\n",
    "```python\n",
    "waxs_analysis.reciptiff_xr\n",
    "```\n",
    "\n",
    "Caked Image:\n",
    "```python\n",
    "waxs_analysis.cakedtiff_xr\n",
    "```"
   ]
  },
  {
   "cell_type": "code",
   "execution_count": null,
   "metadata": {},
   "outputs": [],
   "source": [
    "waxs_analysis.reciptiff_xr"
   ]
  },
  {
   "cell_type": "markdown",
   "metadata": {},
   "source": [
    "##### Note how we had to use the syntax:\n",
    "```python\n",
    "waxs_analysis.\n",
    "```\n",
    "##### to access the the data.\n",
    "This is how we access the instance that refers to your analysis project. You can have multiple instances coexist in the same notebook.\n",
    "\n",
    "Now, click the 'Attributes' dropdown above. We loaded the data into an XArray DataArray (DA). \n",
    "##### All of the keys listed above in the setup were used to extract your metadata from the filename."
   ]
  },
  {
   "cell_type": "markdown",
   "metadata": {},
   "source": [
    "### (2) Image Plotting Examples"
   ]
  },
  {
   "cell_type": "markdown",
   "metadata": {},
   "source": [
    "#### (a) Display Image (Generalized Plotting)"
   ]
  },
  {
   "cell_type": "code",
   "execution_count": null,
   "metadata": {},
   "outputs": [],
   "source": [
    "%matplotlib widget\n",
    "\n",
    "# -- Display the Caked Image\n",
    "# waxs_analysis.cakeddisplay_xr() # method 1\n",
    "\n",
    "# waxs_analysis.display_image(waxs_analysis.cakedtiff_xr, # method 2\n",
    "waxs_analysis.display_image(waxs_analysis.cakedtiff_xr, \n",
    "                            title='caked image', \n",
    "                            cmap='turbo')"
   ]
  },
  {
   "cell_type": "markdown",
   "metadata": {},
   "source": [
    "##### You can plot the data stored as attributes with one of a set of built-in methods, or a generalized method.\n",
    "\n",
    "Custom Method (Caked Image):\n",
    "```python\n",
    "waxs_analysis.cakeddisplay_xr()\n",
    "```\n",
    "General Method Equivalent:\n",
    "```python\n",
    "waxs_analysis.display_image(waxs_analysis.cakedtiff_xr, \n",
    "                            title='Caked Image', \n",
    "                            cmap='turbo')\n",
    "```"
   ]
  },
  {
   "cell_type": "markdown",
   "metadata": {},
   "source": [
    "#### (b) Quick Plotting Methods"
   ]
  },
  {
   "cell_type": "markdown",
   "metadata": {},
   "source": [
    "##### (i) Raw Data"
   ]
  },
  {
   "cell_type": "code",
   "execution_count": null,
   "metadata": {},
   "outputs": [],
   "source": [
    "%matplotlib widget\n",
    "waxs_analysis.rawdisplay_xr()\n",
    "# waxs_analysis.rawtiff_xr"
   ]
  },
  {
   "cell_type": "markdown",
   "metadata": {},
   "source": [
    "##### (ii) Reciprocal Space Map"
   ]
  },
  {
   "cell_type": "code",
   "execution_count": null,
   "metadata": {},
   "outputs": [],
   "source": [
    "%matplotlib widget\n",
    "waxs_analysis.recipdisplay_xr()\n",
    "# waxs_analysis.reciptiff_xr"
   ]
  },
  {
   "cell_type": "markdown",
   "metadata": {},
   "source": [
    "##### (iii) Caked Image"
   ]
  },
  {
   "cell_type": "code",
   "execution_count": null,
   "metadata": {},
   "outputs": [],
   "source": [
    "%matplotlib widget\n",
    "waxs_analysis.cakeddisplay_xr()\n",
    "# waxs_analysis.cakedtiff_xr"
   ]
  },
  {
   "cell_type": "markdown",
   "metadata": {},
   "source": [
    "### (3) 2D Image Processing Examples"
   ]
  },
  {
   "cell_type": "markdown",
   "metadata": {},
   "source": [
    "#### (a) Image Intensity Correction (sin(chi)) Example"
   ]
  },
  {
   "cell_type": "code",
   "execution_count": null,
   "metadata": {},
   "outputs": [],
   "source": [
    "%matplotlib widget\n",
    "\n",
    "cakedtiff_sinchi_xr = waxs_analysis.sinchi_corr(chicorr = True, \n",
    "                                                qsqr = False)\n",
    "\n",
    "waxs_analysis.display_image(waxs_analysis.cakedtiff_sinchi_xr, \n",
    "                            title='caked image, sin(chi) corrected', \n",
    "                            cmap='turbo')"
   ]
  },
  {
   "cell_type": "markdown",
   "metadata": {},
   "source": [
    "#### (b) Image Normalization Example"
   ]
  },
  {
   "cell_type": "code",
   "execution_count": null,
   "metadata": {},
   "outputs": [],
   "source": [
    "%matplotlib widget\n",
    "\n",
    "# Generate the normalized reciprocal space map image\n",
    "cakedtiff_xr_norm, (max_x, max_y) = waxs_analysis.normalize_image(img = waxs_analysis.cakedtiff_sinchi_xr, \n",
    "                                                  normalizerecip=False)\n",
    "\n",
    "# Check if the returned image is None or not of a compatible type\n",
    "if cakedtiff_xr_norm is None or not isinstance(cakedtiff_xr_norm, (np.ndarray, xr.DataArray)):\n",
    "    raise ValueError(\"The normalized image is None or not of a compatible type.\")\n",
    "\n",
    "print ('Maximum Intensity Pixel Coordinate: ', 'x: ', max_x, 'y: ', max_y)\n",
    "\n",
    "# Display the normalized image\n",
    "waxs_analysis.display_image(cakedtiff_xr_norm, \n",
    "                            title='caked, sin(chi) corrected, normalized', \n",
    "                            cmap='turbo')\n"
   ]
  },
  {
   "cell_type": "markdown",
   "metadata": {},
   "source": [
    "#### (c) Image Folding Example"
   ]
  },
  {
   "cell_type": "code",
   "execution_count": null,
   "metadata": {},
   "outputs": [],
   "source": [
    "# Create a WAXS_Analyze instance and test the fold_image method\n",
    "# waxs = WAXS_Analyze()\n",
    "# original_data = .cakedtiff_xr.copy()\n",
    "# folded_data = waxs.fold_image(waxs.cakedtiff_xr, 'chi')\n",
    "\n",
    "original_data = cakedtiff_xr_norm\n",
    "# original_data = waxs_analysis.cakedtiff_xr\n",
    "folded_data = waxs_analysis.fold_image(original_data, 'chi')\n",
    "\n",
    "# Display the original and folded data for validation\n",
    "# original_data, folded_data\n",
    "\n",
    "waxs_analysis.display_image(folded_data, \n",
    "                            title='caked, sin(chi) corrected, normalized, folded', \n",
    "                            cmap='turbo')"
   ]
  },
  {
   "cell_type": "markdown",
   "metadata": {},
   "source": [
    "#### (d) Image Interpolation Example"
   ]
  },
  {
   "cell_type": "code",
   "execution_count": null,
   "metadata": {},
   "outputs": [],
   "source": [
    "import matplotlib.pyplot as plt\n",
    "\n",
    "%matplotlib widget\n",
    "\n",
    "data = folded_data\n",
    "\n",
    "interpolator = ImageInterpolator()\n",
    "data = interpolator.simple_interpolate(data, 'horizontal', 'slinear')\n",
    "data = interpolator.simple_interpolate(data, 'vertical', 'slinear')\n",
    "# data = interpolator.patch_interpolate(data)\n",
    "\n",
    "# interpolator.save_dataarray_to_netcdf(interpolated_img, 'test_file')\n",
    "\n",
    "waxs_analysis.display_image(data, \n",
    "                            title='interpolated', \n",
    "                            cmap='turbo')\n",
    "\n",
    "''' # -- Testing Different Interpolation Algorithms\n",
    "# interpolated_img = interpolator.patch_interpolate(data)\n",
    "# interp_horizontal = interpolator.linear_interpolate(data, 'horizontal')\n",
    "# interp_vertical = interpolator.linear_interpolate(data, 'vertical')\n",
    "# interpolated = interpolator.simple_interpolate(data, 'vertical', 'linear')\n",
    "\n",
    "# # Create an instance of the ImageInterpolator class\n",
    "# interpolator = ImageInterpolator()\n",
    "\n",
    "# # Define methods and directions\n",
    "# # methods = [\"linear\", \"nearest\", \"zero\", \"slinear\", \"quadratic\", \"cubic\",\n",
    "# #            \"polynomial\", \"barycentric\", \"krog\", \"pchip\", \"spline\", \"akima\"]\n",
    "# methods = [\"linear\", \"nearest\", \"zero\", \"slinear\", \"akima\"]\n",
    "# directions = [\"vertical\", \"horizontal\"]\n",
    "\n",
    "# # Let's visualize all the interpolated results to understand how each method performs.\n",
    "\n",
    "# # Dictionary to store the results\n",
    "# interpolated_results = {}\n",
    "\n",
    "# # Iterate through all combinations of methods and directions to perform interpolation\n",
    "# for method in methods:\n",
    "#     for direction in directions:\n",
    "#         try:\n",
    "#             interpolated_img = interpolator.simple_interpolate(data.copy(), direction, method)\n",
    "#             key = f\"{method}_{direction}\"\n",
    "#             interpolated_results[key] = interpolated_img\n",
    "#         except Exception as e:\n",
    "#             print(f\"Skipped {method} in {direction} direction due to error: {e}\")\n",
    "\n",
    "# # Let's visualize all the interpolated results to understand how each method performs.\n",
    "# fig, axes = plt.subplots(len(methods), len(directions), figsize=(20, 40))\n",
    "# axes = axes.flatten()\n",
    "\n",
    "# for i, (key, data) in enumerate(interpolated_results.items()):\n",
    "#     ax = axes[i]\n",
    "#     data.plot(ax=ax, add_colorbar=False, cmap='turbo')\n",
    "#     ax.set_title(f\"Method: {key}\")\n",
    "\n",
    "# plt.tight_layout()\n",
    "# plt.show()\n",
    "'''"
   ]
  },
  {
   "cell_type": "markdown",
   "metadata": {},
   "source": [
    "#### (e) Image Smoothing Example"
   ]
  },
  {
   "cell_type": "code",
   "execution_count": null,
   "metadata": {},
   "outputs": [],
   "source": [
    "%matplotlib widget\n",
    "# import matplotlib.pyplot as plt\n",
    "# from matplotlib.colors import LogNorm\n",
    "# cmap = plt.cm.turbo\n",
    "# cmap.set_bad('black')\n",
    "\n",
    "waxs_analysis.smooth_image(folded_data, method='gaussian', sigma=1e-6)\n",
    "\n",
    "smoothed_image, (max_x, max_y) = waxs_analysis.normalize_image(img = waxs_analysis.smoothed_img, normalizerecip=False)\n",
    "\n",
    "print ('Maximum Intensity Pixel Coordinate: ', 'x: ', max_x, 'y: ', max_y)\n",
    "\n",
    "# Display the smoothed image with appropriate coordinates using the 'display_image' method\n",
    "# plt = waxs_analysis.display_image(waxs_analysis.smoothed_img, \n",
    "waxs_analysis.display_image(waxs_analysis.smoothed_img, \n",
    "                            title='caked, sin(chi) corrected, normalized, folded, smoothed', \n",
    "                            cmap='turbo')\n"
   ]
  },
  {
   "cell_type": "markdown",
   "metadata": {},
   "source": [
    "#### (f) 2D Image Peak Finding Example"
   ]
  },
  {
   "cell_type": "code",
   "execution_count": null,
   "metadata": {},
   "outputs": [],
   "source": [
    "%matplotlib widget\n",
    "\n",
    "data = None\n",
    "data = folded_data\n",
    "# Find peaks (implement the actual peak-finding logic in the find_peaks method)\n",
    "\n",
    "data = waxs_analysis.find_peaks_DoG (data, \n",
    "                                     sigma1=.4, \n",
    "                                     sigma2=2, \n",
    "                                     threshold=0.008, \n",
    "                                     clustering_method='HDBSCAN', \n",
    "                                     eps=1, \n",
    "                                     min_samples=2, \n",
    "                                     k=3, \n",
    "                                     radius=5)\n",
    "\n",
    "# Display image with peaks\n",
    "waxs_analysis.display_image_with_peaks_and_DoG(data,\n",
    "                                       title='peak finder', \n",
    "                                       cmap='turbo')"
   ]
  },
  {
   "cell_type": "markdown",
   "metadata": {},
   "source": [
    "### (4) 1D Data Reduction (Integration)"
   ]
  },
  {
   "cell_type": "code",
   "execution_count": null,
   "metadata": {},
   "outputs": [],
   "source": [
    "%matplotlib widget\n",
    "import matplotlib.pyplot as plt\n",
    "from matplotlib.colors import LogNorm\n",
    "cmap = plt.cm.turbo\n",
    "cmap.set_bad('black')\n",
    "plt.close('all')\n",
    "\n",
    "# DA = waxs_analysis.cakedtiff_xr\n",
    "# DA = cakedtiff_sinchi_xr\n",
    "DA = waxs_analysis.smoothed_img\n",
    "# DA, (max_x, max_y) = waxs_analysis.normalize_image(img = waxs_analysis.cakedtiff_xr, normalizerecip=False)\n",
    "\n",
    "colors = cmap(np.linspace(0,1,10))\n",
    "# fig, axs = plt.subplots(1, 2, figsize=(9,3))\n",
    "# plot.line(ax=axs[0], color=colors[i])\n",
    "\n",
    "axs = DA.sum('chi').sel(method='nearest').sel(qr=slice(0.2,3)).plot.line(color=colors[9])\n",
    "plt.show()"
   ]
  },
  {
   "cell_type": "markdown",
   "metadata": {},
   "source": [
    "### (5) Saving/Exporting & Loading Project Sessions"
   ]
  },
  {
   "cell_type": "markdown",
   "metadata": {},
   "source": [
    "#### (a) Exporting a Project"
   ]
  },
  {
   "cell_type": "code",
   "execution_count": null,
   "metadata": {},
   "outputs": [],
   "source": [
    "basePath = pathlib.Path('/Users/keithwhite/github_repositories/pyWAXS/examples')\n",
    "zarrPath = basePath.joinpath('output_files/zarr_files')\n",
    "projectName = 'test_project'\n",
    "waxs_analysis.exportzarr(zarrPath=zarrPath, projectName=projectName)"
   ]
  },
  {
   "cell_type": "markdown",
   "metadata": {},
   "source": [
    "#### (b) Load an Existing Project"
   ]
  },
  {
   "cell_type": "code",
   "execution_count": null,
   "metadata": {},
   "outputs": [],
   "source": [
    "basePath = pathlib.Path('/Users/keithwhite/github_repositories/pyWAXS/examples')\n",
    "zarrPath = basePath.joinpath('output_files/zarr_files')\n",
    "projectName = 'test_project'\n",
    "waxs_analysis = WAXSReduce(zarrPath = zarrPath, projectName = projectName)"
   ]
  },
  {
   "cell_type": "markdown",
   "metadata": {},
   "source": [
    "## Additional Examples"
   ]
  },
  {
   "cell_type": "markdown",
   "metadata": {},
   "source": [
    "#### Smoothing Image"
   ]
  },
  {
   "cell_type": "code",
   "execution_count": null,
   "metadata": {},
   "outputs": [],
   "source": [
    "%matplotlib widget\n",
    "\n",
    "# Smooth the image using the 'smooth_image' method\n",
    "# smoothed_image = waxs_analysis.smooth_image(waxs_analysis.reciptiff_xr.values, \n",
    "#                                             method='gaussian', \n",
    "#                                             sigma=.05)\n",
    "\n",
    "smoothed_image = waxs_analysis.smooth_image(waxs_analysis.reciptiff_xr, \n",
    "                                            method='gaussian', \n",
    "                                            sigma=1)\n",
    "# smoothed_image = waxs_analysis.normalize_image()\n",
    "# smoothed_image = waxs_analysis.smooth_image(smoothed_image, method='total_variation', sigma=100)\n",
    "\n",
    "# Display the smoothed image with appropriate coordinates using the 'display_image' method\n",
    "waxs_analysis.display_image(smoothed_image, \n",
    "                            title='Smoothed Image', \n",
    "                            cmap='jet')\n"
   ]
  },
  {
   "cell_type": "markdown",
   "metadata": {},
   "source": [
    "#### Signal-to-Noise Calculation"
   ]
  },
  {
   "cell_type": "code",
   "execution_count": null,
   "metadata": {},
   "outputs": [],
   "source": [
    "smoothed_image = waxs_analysis.calculate_SNR(smoothed_image)\n",
    "# waxs_analysis.snrtemp\n",
    "waxs_analysis.reciptiff_xr.SNR"
   ]
  },
  {
   "cell_type": "markdown",
   "metadata": {},
   "source": [
    "#### Create a Class to Compare Simulated (.int) Files to Real Data"
   ]
  },
  {
   "cell_type": "code",
   "execution_count": null,
   "metadata": {},
   "outputs": [],
   "source": [
    "from scipy.signal import find_peaks\n",
    "from scipy.optimize import curve_fit\n",
    "from scipy.interpolate import interp1d\n",
    "from scipy.optimize import minimize\n",
    "import matplotlib.pyplot as plt\n",
    "from pathlib import Path\n",
    "import numpy as np\n",
    "import pandas as pd\n",
    "\n",
    "def gaussian(x, A, mu, sigma):\n",
    "    return A * np.exp(-(x - mu)**2 / (2 * sigma**2))\n",
    "\n",
    "def lorentzian(x, A, mu, gamma):\n",
    "    return A * (1 / np.pi) * (gamma / ((x - mu)**2 + gamma**2))\n",
    "\n",
    "def pseudo_voigt(x, A, mu, sigma, gamma, eta):\n",
    "    return eta * gaussian(x, A, mu, sigma) + (1 - eta) * lorentzian(x, A, mu, gamma)\n",
    "\n",
    "class TraceComparison:\n",
    "    def __init__(self, trace1, trace2):\n",
    "        self.trace1 = trace1\n",
    "        self.trace2 = trace2\n",
    "        self.background_params = None\n",
    "        self.optimized_background = pd.Series(dtype='float64')\n",
    "    \n",
    "    def normalize_to_max(self):\n",
    "        max1 = self.trace1['intensity'].max()\n",
    "        max2 = self.trace2['intensity'].max()\n",
    "        self.trace1.loc[:, 'intensity'] /= max1\n",
    "        self.trace2.loc[:, 'intensity'] /= max2\n",
    "\n",
    "    def normalize_to_baseline(self, q_min, q_max):\n",
    "        baseline1 = self.trace1[(self.trace1['q'] >= q_min) & (self.trace1['q'] <= q_max)]['intensity'].mean()\n",
    "        baseline2 = self.trace2[(self.trace2['q'] >= q_min) & (self.trace2['q'] <= q_max)]['intensity'].mean()\n",
    "        self.trace1['intensity'] /= baseline1\n",
    "        self.trace2['intensity'] /= baseline2\n",
    "\n",
    "    def find_peaks(self, height, distance):\n",
    "        self.peaks1, _ = find_peaks(self.trace1['intensity'], height=height, distance=distance)\n",
    "        self.peaks2, _ = find_peaks(self.trace2['intensity'], height=height, distance=distance)\n",
    "\n",
    "    def compare_peak_widths(self):\n",
    "        self.widths1 = self.trace1.iloc[self.peaks1]['q'].values\n",
    "        self.widths2 = self.trace2.iloc[self.peaks2]['q'].values\n",
    "\n",
    "    def calculate_residual(self):\n",
    "        # Create interpolation functions for the intensity values based on 'q'\n",
    "        f1 = interp1d(self.trace1['q'], self.trace1['intensity'], kind='linear', fill_value=\"extrapolate\")\n",
    "        f2 = interp1d(self.trace2['q'], self.trace2['intensity'], kind='linear', fill_value=\"extrapolate\")\n",
    "\n",
    "        # Create a common 'q' range\n",
    "        common_q = np.linspace(max(self.trace1['q'].min(), self.trace2['q'].min()),\n",
    "                            min(self.trace1['q'].max(), self.trace2['q'].max()),\n",
    "                            num=max(len(self.trace1['q']), len(self.trace2['q'])))\n",
    "\n",
    "        # Interpolate the intensity values to the common 'q' range\n",
    "        common_intensity1 = f1(common_q)\n",
    "        common_intensity2 = f2(common_q)\n",
    "\n",
    "        # Calculate the residual\n",
    "        self.residual = pd.Series(common_intensity1 - common_intensity2, index=common_q, name='residual')\n",
    "\n",
    "    def minimize_residual(self):\n",
    "        min_q = max(self.trace1['q'].min(), self.trace2['q'].min())\n",
    "        max_q = min(self.trace1['q'].max(), self.trace2['q'].max())\n",
    "        common_range = (self.trace1['q'] >= min_q) & (self.trace1['q'] <= max_q)\n",
    "        \n",
    "        x = self.trace1.loc[common_range, 'q']\n",
    "        y1 = self.trace1.loc[common_range, 'intensity']\n",
    "        y2 = self.trace2.loc[common_range, 'intensity']\n",
    "\n",
    "        params, _ = curve_fit(pseudo_voigt, x, y1 - y2)\n",
    "        self.fitted_curve = pseudo_voigt(x, *params)\n",
    "        self.residual = y1 - (y2 + self.fitted_curve)\n",
    "\n",
    "    def optimize_background(self):\n",
    "        def objective(params):\n",
    "            noise_level, slope, intercept = params\n",
    "            background = noise_level + slope * self.trace2['q'] + intercept\n",
    "            modified_trace2 = self.trace2['intensity'] + background\n",
    "            f1 = interp1d(self.trace1['q'], self.trace1['intensity'], kind='linear', fill_value=\"extrapolate\")\n",
    "            f2 = interp1d(self.trace2['q'], modified_trace2, kind='linear', fill_value=\"extrapolate\")\n",
    "\n",
    "            # Define a common 'q' range\n",
    "            common_q = np.linspace(max(self.trace1['q'].min(), self.trace2['q'].min()),\n",
    "                                   min(self.trace1['q'].max(), self.trace2['q'].max()),\n",
    "                                   num=max(len(self.trace1['q']), len(self.trace2['q'])))\n",
    "\n",
    "            residual = f1(common_q) - f2(common_q)\n",
    "            return np.sum(residual ** 2)\n",
    "\n",
    "        initial_guess = [0, 0, 0] if self.background_params is None else self.background_params\n",
    "        result = minimize(objective, initial_guess, method='L-BFGS-B')\n",
    "        self.background_params = result.x\n",
    "\n",
    "        # Apply the optimized background to the trace intensities\n",
    "        self.optimized_background = self.background_params[0] + self.background_params[1] * self.trace2['q'] + self.background_params[2]\n",
    "        self.trace2.loc[:, 'intensity'] += self.optimized_background\n",
    "        self.trace2.loc[:, 'background'] = self.optimized_background  # Store the background in the DataFrame\n",
    "\n",
    "        self.calculate_residual()\n",
    "        \n",
    "    def plot_normalization(self):\n",
    "        plt.figure()\n",
    "        plt.plot(self.trace1['q'], self.trace1['intensity'], label='Trace 1')\n",
    "        plt.plot(self.trace2['q'], self.trace2['intensity'], label='Trace 2')\n",
    "        plt.title('Normalized Traces')\n",
    "        plt.xlabel('q')\n",
    "        plt.ylabel('Intensity')\n",
    "        plt.legend()\n",
    "        plt.show()\n",
    "        \n",
    "    def plot_peaks(self):\n",
    "        plt.figure()\n",
    "        plt.plot(self.trace1['q'], self.trace1['intensity'], label='Trace 1')\n",
    "        plt.plot(self.trace1['q'].iloc[self.peaks1], self.trace1['intensity'].iloc[self.peaks1], 'x', label='Peaks 1')\n",
    "        plt.plot(self.trace2['q'], self.trace2['intensity'], label='Trace 2')\n",
    "        plt.plot(self.trace2['q'].iloc[self.peaks2], self.trace2['intensity'].iloc[self.peaks2], 'o', label='Peaks 2')\n",
    "        plt.title('Peak Positions')\n",
    "        plt.xlabel('q')\n",
    "        plt.ylabel('Intensity')\n",
    "        plt.legend()\n",
    "        plt.show()\n",
    "        \n",
    "    def plot_residual(self):\n",
    "        plt.figure()\n",
    "        plt.plot(self.trace1.loc[self.residual.index, 'q'], self.residual, label='Residual')\n",
    "        plt.title('Residual Between Traces')\n",
    "        plt.xlabel('q')\n",
    "        plt.ylabel('Intensity Difference')\n",
    "        plt.legend()\n",
    "        plt.show()\n",
    "        \n",
    "    def plot_minimization(self):\n",
    "        plt.figure()\n",
    "        plt.plot(self.trace1['q'], self.residual + self.fitted_curve, label='Fitted Curve')\n",
    "        plt.plot(self.trace1['q'], self.residual, label='Original Residual')\n",
    "        plt.title('Minimized Residual')\n",
    "        plt.xlabel('q')\n",
    "        plt.ylabel('Intensity Difference')\n",
    "        plt.legend()\n",
    "        plt.show()\n",
    "\n",
    "    def save_traces_to_csv(self, trace1_filename, trace2_filename, savepath=None):\n",
    "        if savepath:\n",
    "            savepath = Path(savepath)\n",
    "            savepath.mkdir(parents=True, exist_ok=True)\n",
    "            trace1_filepath = savepath / trace1_filename\n",
    "            trace2_filepath = savepath / trace2_filename\n",
    "        else:\n",
    "            trace1_filepath = trace1_filename\n",
    "            trace2_filepath = trace2_filename\n",
    "        \n",
    "        self.trace1.to_csv(trace1_filepath, index=False)\n",
    "        self.trace2.to_csv(trace2_filepath, index=False)\n",
    "\n",
    "    @classmethod\n",
    "    def load_and_plot_traces(cls, trace1_path, trace2_path, savepath=None):\n",
    "        trace1 = pd.read_csv(trace1_path)\n",
    "        trace2 = pd.read_csv(trace2_path)\n",
    "\n",
    "        plt.figure(figsize=(6, 4))\n",
    "        plt.plot(trace1['q'], trace1['intensity'], label='Trace 1')\n",
    "        plt.plot(trace2['q'], trace2['intensity'], label='Trace 2')\n",
    "        plt.xlabel('q')\n",
    "        plt.ylabel('Intensity')\n",
    "        plt.legend()\n",
    "        plt.title('Loaded Traces')\n",
    "        \n",
    "        if savepath:\n",
    "            savepath = Path(savepath)\n",
    "            plt.savefig(savepath)\n",
    "        \n",
    "        plt.show()"
   ]
  },
  {
   "cell_type": "code",
   "execution_count": null,
   "metadata": {},
   "outputs": [],
   "source": []
  },
  {
   "cell_type": "code",
   "execution_count": null,
   "metadata": {},
   "outputs": [],
   "source": [
    "# Initialize the TraceComparison object\n",
    "bbox_df = pd.DataFrame({'q': waxs_analysis.integrate1d_da.qr.values, 'intensity': waxs_analysis.integrate1d_da.values})\n",
    "\n",
    "# Filter out data below q-value of 0.5\n",
    "bbox_df = bbox_df[bbox_df['q'] >= 0.5]\n",
    "filtered_data = filtered_data[filtered_data['q'] >= 0.5]\n",
    "\n",
    "# Initialize the TraceComparison object and perform calculations\n",
    "comparison = TraceComparison(bbox_df, filtered_data)\n",
    "comparison.normalize_to_max()\n",
    "comparison.calculate_residual()\n",
    "\n",
    "# Plot initial comparison and residual\n",
    "plt.figure(figsize=(6, 10))\n",
    "\n",
    "# Plot the normalized traces\n",
    "plt.subplot(4, 1, 1)\n",
    "plt.plot(comparison.trace1['q'], comparison.trace1['intensity'], label='pygix bbox (Normalized)', color='b')\n",
    "plt.plot(comparison.trace2['q'], comparison.trace2['intensity'], label='Loaded .int File (Normalized)', color='g')\n",
    "plt.title('Initial Comparison of Traces')\n",
    "plt.xlabel('q')\n",
    "plt.ylabel('Intensity')\n",
    "plt.legend()\n",
    "\n",
    "# Plot the initial residual\n",
    "plt.subplot(4, 1, 2)\n",
    "plt.plot(comparison.residual.index, comparison.residual.values, label='Initial Residual', color='r')\n",
    "plt.title('Initial Residual')\n",
    "plt.xlabel('q')\n",
    "plt.ylabel('Intensity Difference')\n",
    "plt.legend()\n",
    "\n",
    "# Optimize the background\n",
    "comparison.optimize_background()\n",
    "\n",
    "# Plot the normalized traces with optimized background\n",
    "plt.subplot(4, 1, 3)\n",
    "plt.plot(comparison.trace1['q'], comparison.trace1['intensity'], label='pygix bbox (Normalized)', color='b')\n",
    "plt.plot(comparison.trace2['q'], comparison.trace2['intensity'], label='Loaded .int File (Normalized)', color='g')\n",
    "plt.title('Comparison of Traces (With Optimized Background)')\n",
    "plt.xlabel('q')\n",
    "plt.ylabel('Intensity')\n",
    "plt.legend()\n",
    "\n",
    "# Plot the new residual\n",
    "plt.subplot(4, 1, 4)\n",
    "plt.plot(comparison.residual.index, comparison.residual.values, label='New Residual', color='r')\n",
    "plt.title('New Residual')\n",
    "plt.xlabel('q')\n",
    "plt.ylabel('Intensity Difference')\n",
    "plt.legend()\n",
    "\n",
    "# Adjust layout to prevent overlap\n",
    "plt.tight_layout()\n",
    "\n",
    "plt.show()\n",
    "\n",
    "# Initialize the TraceComparison object and perform calculations\n",
    "# comparison = TraceComparison(bbox_df, filtered_data)\n",
    "# comparison.normalize_to_max()\n",
    "# comparison.calculate_residual()\n",
    "\n",
    "# # Save the traces for debugging\n",
    "# comparison.save_traces_to_csv('trace1.csv', 'trace2.csv', savepath=savepath)"
   ]
  },
  {
   "cell_type": "code",
   "execution_count": null,
   "metadata": {},
   "outputs": [],
   "source": [
    "# Correct file paths\n",
    "trace1_path = Path('/Users/keithwhite/github_repositories/pyWAXS/examples_local/projects/LaB6_SRM660c_Calib/analysis/simulation/trace1_saved.csv')\n",
    "trace2_path = Path('/Users/keithwhite/github_repositories/pyWAXS/examples_local/projects/LaB6_SRM660c_Calib/analysis/simulation/trace2_saved.csv')\n",
    "\n",
    "# Load and plot the traces\n",
    "TraceComparison.load_and_plot_traces(trace1_path, trace2_path)"
   ]
  },
  {
   "cell_type": "markdown",
   "metadata": {},
   "source": [
    "#### Developing Image Stitching Class"
   ]
  },
  {
   "cell_type": "code",
   "execution_count": null,
   "metadata": {},
   "outputs": [],
   "source": [
    "# Required module imports for the ImageStitching class\n",
    "from pathlib import Path\n",
    "from typing import List, Tuple\n",
    "from skimage import io, feature, color\n",
    "import numpy as np\n",
    "import matplotlib.pyplot as plt\n",
    "from skimage.feature import corner_harris, corner_peaks\n",
    "import cv2\n",
    "\n",
    "class ImageStitching:\n",
    "    def __init__(self, files: List[Path]):\n",
    "        self.files = files\n",
    "        self.images_original = []\n",
    "        self.images_gray = []\n",
    "        self.keypoints_list = []\n",
    "        self.load_and_preprocess_images()\n",
    "\n",
    "    @staticmethod\n",
    "    def convert_to_8bit(image):\n",
    "        image_norm = (image - np.min(image)) / (np.max(image) - np.min(image))\n",
    "        return (image_norm * 255).astype(np.uint8)\n",
    "    \n",
    "    def load_and_preprocess_images(self):\n",
    "        for file in self.files:\n",
    "            image_original = io.imread(file)\n",
    "            self.images_original.append(image_original)\n",
    "            \n",
    "            if len(image_original.shape) == 3:\n",
    "                image_gray = color.rgb2gray(image_original)\n",
    "            else:\n",
    "                image_gray = image_original\n",
    "            \n",
    "            image_gray = self.convert_to_8bit(image_gray)\n",
    "            self.images_gray.append(image_gray)\n",
    "\n",
    "    def find_sift_keypoints(self):\n",
    "        self.keypoints_list = []\n",
    "        for i, image_gray in enumerate(self.images_gray):\n",
    "            keypoints, _ = self.detect_features(image_gray)\n",
    "            keypoints = np.array([kp.pt for kp in keypoints])\n",
    "            self.keypoints_list.append(keypoints)\n",
    "\n",
    "    @staticmethod\n",
    "    def detect_features(image):\n",
    "        sift = cv2.SIFT_create()\n",
    "        return sift.detectAndCompute(image, None)\n",
    "    \n",
    "    '''\n",
    "    def display_keypoints(self, index: int, title='Image', cmap='turbo'):\n",
    "        img_values = self.images_gray[index]\n",
    "        keypoints = self.keypoints_list[index]\n",
    "        \n",
    "        vmin = np.nanpercentile(img_values, 10)\n",
    "        vmax = np.nanpercentile(img_values, 99)\n",
    "    \n",
    "        plt.imshow(np.flipud(img_values),\n",
    "                   cmap=cmap,\n",
    "                   vmin=vmin,\n",
    "                   vmax=vmax,\n",
    "                   aspect='auto')\n",
    "        \n",
    "        # Draw keypoints on top of the image\n",
    "        for keypoint in keypoints:\n",
    "            x, y = keypoint\n",
    "            plt.scatter(x, y, s=10, c='red', marker='o')\n",
    "        \n",
    "        plt.title(title)\n",
    "        plt.xlabel('x')\n",
    "        plt.ylabel('y')\n",
    "        plt.colorbar()\n",
    "        plt.show()\n",
    "    '''\n",
    "    \n",
    "    def display_keypoints(self, index: int, title='Image', cmap='turbo'):\n",
    "        # plt.close('all')\n",
    "        img_values = self.images_gray[index]\n",
    "        keypoints = self.keypoints_list[index]\n",
    "        \n",
    "        vmin = np.nanpercentile(img_values, 10)\n",
    "        vmax = np.nanpercentile(img_values, 99)\n",
    "    \n",
    "        plt.imshow(np.flipud(img_values),\n",
    "                   cmap=cmap,\n",
    "                   vmin=vmin,\n",
    "                   vmax=vmax,\n",
    "                   aspect='auto')\n",
    "        \n",
    "        # Draw keypoints on top of the image\n",
    "        for keypoint in keypoints:\n",
    "            x, y = keypoint\n",
    "            plt.scatter(x, y, s=10, c='red', marker='o')\n",
    "        \n",
    "        plt.title(title)\n",
    "        plt.xlabel('x')\n",
    "        plt.ylabel('y')\n",
    "        plt.colorbar()\n",
    "        plt.show()\n",
    "    \n",
    "    def find_keypoints(self, n_keypoints: int = 5000, fast_threshold: float = 0.01):\n",
    "        for image_gray in self.images_gray:\n",
    "            orb = feature.ORB(n_keypoints=n_keypoints, fast_threshold=fast_threshold)\n",
    "            orb.detect_and_extract(image_gray)\n",
    "            self.keypoints_list.append(orb.keypoints)\n",
    "\n",
    "    def plot_original(self, index: int):\n",
    "        image = self.images_original[index]\n",
    "        vmin, vmax = np.nanpercentile(image, [10, 99])\n",
    "        plt.imshow(image, cmap='turbo', vmin=vmin, vmax=vmax)\n",
    "        plt.title(\"Original Image\")\n",
    "        plt.show()\n",
    "        \n",
    "    def plot_keypoints(self, index: int):\n",
    "        image = self.images_original[index]\n",
    "        keypoints = self.keypoints_list[index]\n",
    "        vmin, vmax = np.nanpercentile(image, [10, 99])\n",
    "        plt.imshow(image, cmap='turbo', vmin=vmin, vmax=vmax)\n",
    "        plt.plot(keypoints[:, 1], keypoints[:, 0], 'r.', markersize=5)\n",
    "        plt.title(\"Keypoints\")\n",
    "        plt.show()\n",
    "        \n",
    "    def find_harris_keypoints(self, min_distance: int = 5):\n",
    "        self.keypoints_list = []\n",
    "        for image_gray in self.images_gray:\n",
    "            harris_response = corner_harris(image_gray)\n",
    "            keypoints = corner_peaks(harris_response, min_distance=min_distance)\n",
    "            self.keypoints_list.append(keypoints)\n",
    "\n",
    "    def plot_original_with_keypoints(self, index: int):\n",
    "        fig, axs = plt.subplots(1, 2, figsize=(12, 6))\n",
    "        \n",
    "        # Original Image\n",
    "        image = self.images_original[index]\n",
    "        vmin, vmax = np.nanpercentile(image, [10, 99])\n",
    "        axs[0].imshow(image, cmap='turbo', vmin=vmin, vmax=vmax)\n",
    "        axs[0].set_title(\"Original Image\")\n",
    "        \n",
    "        # Keypoints\n",
    "        keypoints = self.keypoints_list[index]\n",
    "        axs[1].imshow(image, cmap='turbo', vmin=vmin, vmax=vmax)\n",
    "        axs[1].plot(keypoints[:, 1], keypoints[:, 0], 'r.', markersize=5)\n",
    "        axs[1].set_title(\"Keypoints\")\n",
    "        \n",
    "        plt.tight_layout()\n",
    "        plt.show()\n",
    "\n",
    "    def plot_sift_keypoints(self, index: int):\n",
    "        fig, axs = plt.subplots(1, 2, figsize=(12, 6))\n",
    "        \n",
    "        # Original Image\n",
    "        image = self.images_original[index]\n",
    "        vmin, vmax = np.nanpercentile(image, [10, 99])\n",
    "        axs[0].imshow(image, cmap='turbo', vmin=vmin, vmax=vmax)\n",
    "        axs[0].set_title(\"Original Image\")\n",
    "        \n",
    "        # SIFT Keypoints\n",
    "        keypoints = self.keypoints_list[index]\n",
    "        print(f\"Plotting Image {index}: Keypoints shape: {keypoints.shape}\")  # Add debug print\n",
    "        axs[1].imshow(image, cmap='turbo', vmin=vmin, vmax=vmax)\n",
    "        # axs[1].plot(keypoints[:, 0], keypoints[:, 1], 'r.', markersize=5)  # Corrected indexing\n",
    "        axs[1].plot(keypoints[:, 1], keypoints[:, 0], 'r.', markersize=5)\n",
    "        axs[1].set_title(\"SIFT Keypoints\")\n",
    "        \n",
    "        plt.tight_layout()\n",
    "        plt.show()"
   ]
  },
  {
   "cell_type": "code",
   "execution_count": null,
   "metadata": {},
   "outputs": [],
   "source": [
    "from pathlib import Path\n",
    "\n",
    "# Initialize the class and find keypoints with local file paths for the example\n",
    "files = [\n",
    "    Path(\"/Users/keithwhite/github_repositories/pyWAXS/examples_local/projects/1MAI_3PbI2_DMF_1M_jun23/stitch/sam16_3mai1pbi2_dmf_1m_5scfh_Si_40uL_010_2356.6s_x-0.001_th0.300_10.00s_1116233_maxs.tiff\"),\n",
    "    Path(\"/Users/keithwhite/github_repositories/pyWAXS/examples_local/projects/1MAI_3PbI2_DMF_1M_jun23/stitch/sam16_3mai1pbi2_dmf_1m_5scfh_Si_40uL_010_2461.2s_x-0.001_th0.300_10.00s_1116234_maxs.tiff\")\n",
    "]\n",
    "\n",
    "stitcher_sift = ImageStitching(files)\n",
    "\n",
    "plt.close('all')\n",
    "\n",
    "# Find and visualize SIFT keypoints\n",
    "stitcher_sift.find_sift_keypoints()\n",
    "stitcher_sift.display_keypoints(0, title='Image 1')\n",
    "# stitcher_sift.display_keypoints(1, title='Image 2')"
   ]
  },
  {
   "cell_type": "code",
   "execution_count": null,
   "metadata": {},
   "outputs": [],
   "source": [
    "stitcher_sift.display_keypoints(1, title='Image 2')"
   ]
  },
  {
   "cell_type": "code",
   "execution_count": null,
   "metadata": {},
   "outputs": [],
   "source": [
    "# Check if xfeatures2d module is available\n",
    "sift_available = \"xfeatures2d\" in cv2.__dict__\n",
    "if sift_available:\n",
    "    print(\"SIFT is available in OpenCV.\")\n",
    "else:\n",
    "    print(\"SIFT is not available in OpenCV.\")\n"
   ]
  },
  {
   "cell_type": "code",
   "execution_count": null,
   "metadata": {},
   "outputs": [],
   "source": [
    "# Initialize the class and find keypoints with local file paths for the example\n",
    "files = [\n",
    "    Path(\"/Users/keithwhite/github_repositories/pyWAXS/examples_local/projects/1MAI_3PbI2_DMF_1M_jun23/stitch/sam16_3mai1pbi2_dmf_1m_5scfh_Si_40uL_010_2356.6s_x-0.001_th0.300_10.00s_1116233_maxs.tiff\"),\n",
    "    Path(\"/Users/keithwhite/github_repositories/pyWAXS/examples_local/projects/1MAI_3PbI2_DMF_1M_jun23/stitch/sam16_3mai1pbi2_dmf_1m_5scfh_Si_40uL_010_2461.2s_x-0.001_th0.300_10.00s_1116234_maxs.tiff\")\n",
    "]\n",
    "\n",
    "# Initialize the class and find SIFT keypoints\n",
    "stitcher_sift = ImageStitching(files)\n",
    "stitcher_sift.find_sift_keypoints()\n",
    "\n",
    "# Test the new plotting method for SIFT keypoints\n",
    "stitcher_sift.plot_sift_keypoints(0)\n"
   ]
  },
  {
   "cell_type": "code",
   "execution_count": null,
   "metadata": {},
   "outputs": [],
   "source": [
    "# Initialize the class and find keypoints with local file paths for the example\n",
    "files = [\n",
    "    Path(\"/Users/keithwhite/github_repositories/pyWAXS/examples_local/projects/1MAI_3PbI2_DMF_1M_jun23/stitch/sam16_3mai1pbi2_dmf_1m_5scfh_Si_40uL_010_2356.6s_x-0.001_th0.300_10.00s_1116233_maxs.tiff\"),\n",
    "    Path(\"/Users/keithwhite/github_repositories/pyWAXS/examples_local/projects/1MAI_3PbI2_DMF_1M_jun23/stitch/sam16_3mai1pbi2_dmf_1m_5scfh_Si_40uL_010_2461.2s_x-0.001_th0.300_10.00s_1116234_maxs.tiff\")\n",
    "]\n",
    "\n",
    "# Initialize the class and find SIFT keypoints\n",
    "stitcher_sift = ImageStitching(files)\n",
    "stitcher_sift.find_sift_keypoints()\n",
    "\n",
    "# Test the new plotting method for SIFT keypoints\n",
    "stitcher_sift.plot_sift_keypoints(0)\n",
    "\n",
    "# Example usage\n",
    "# stitcher_example = ImageStitching(local_files)\n",
    "# stitcher_example.find_keypoints()\n",
    "\n",
    "# Note: The actual images won't be loaded in this environment due to path constraints. This is just for demonstration.\n",
    "# stitcher_example.files\n",
    "# Re-initialize the class and find keypoints with the initially uploaded files (as local files are not accessible here)\n",
    "\n",
    "# Test the plotting methods\n",
    "# stitcher_example.plot_original(0)\n",
    "# stitcher_example.plot_keypoints(0)\n",
    "# stitcher_example.plot_original_with_keypoints(0)\n"
   ]
  },
  {
   "cell_type": "markdown",
   "metadata": {},
   "source": [
    "#### Image Processer Class"
   ]
  },
  {
   "cell_type": "code",
   "execution_count": null,
   "metadata": {},
   "outputs": [],
   "source": [
    "# Include the required imports for the class\n",
    "import matplotlib.pyplot as plt\n",
    "import numpy as np\n",
    "import cv2\n",
    "\n",
    "# Modify the ImageProcessor class to match the given contrast scaling method\n",
    "class ImageProcessor:\n",
    "    @staticmethod\n",
    "    def convert_to_8bit(image):\n",
    "        image_norm = (image - np.min(image)) / (np.max(image) - np.min(image))\n",
    "        return (image_norm * 255).astype(np.uint8)\n",
    "    \n",
    "    @staticmethod\n",
    "    def detect_features(image):\n",
    "        sift = cv2.SIFT_create()\n",
    "        return sift.detectAndCompute(image, None)\n",
    "    \n",
    "    @staticmethod\n",
    "    def display_image(img, ax, title='Image', cmap='turbo'):\n",
    "        if img is None or not isinstance(img, np.ndarray):\n",
    "            raise ValueError(\"The input image is None or not of a compatible type.\")\n",
    "        \n",
    "        img_values = img\n",
    "        if np.all(np.isnan(img_values)) or img_values.size == 0:\n",
    "            raise ValueError(\"The input image is empty or contains only NaN values.\")\n",
    "        \n",
    "        vmin = np.nanpercentile(img_values, 10)\n",
    "        vmax = np.nanpercentile(img_values, 99)\n",
    "        ax.imshow(np.flipud(img_values),\n",
    "                   cmap=cmap,\n",
    "                   vmin=vmin,\n",
    "                   vmax=vmax,\n",
    "                   aspect='auto')\n",
    "        ax.set_title(title)\n",
    "        ax.axis('off')\n",
    "        \n",
    "    def process_and_display_single_image(self, image, title='Image'):\n",
    "        # Convert to 8-bit grayscale\n",
    "        image_8bit = self.convert_to_8bit(image)\n",
    "        \n",
    "        # Detect features (keypoints)\n",
    "        keypoints, _ = self.detect_features(image_8bit)\n",
    "        \n",
    "        # Create a figure with 2 subplots\n",
    "        fig, axes = plt.subplots(1, 2, figsize=(12, 6))\n",
    "        \n",
    "        # Display the original image in the first subplot\n",
    "        self.display_image(image_8bit, axes[0], title=f'{title} - Original')\n",
    "        \n",
    "        # Display the keypoints in the second subplot\n",
    "        img_keypoints = cv2.drawKeypoints(image_8bit, keypoints, None)\n",
    "        self.display_image(img_keypoints, axes[1], title=f'{title} - {len(keypoints)} Keypoints')\n",
    "        \n",
    "        plt.show()\n",
    "\n",
    "# Instantiate the ImageProcessor class\n",
    "processor = ImageProcessor()\n",
    "\n",
    "# Process and display each image one by one\n",
    "for i, img in enumerate(images):\n",
    "    processor.process_and_display_single_image(img, title=f'Image {i+1}')"
   ]
  },
  {
   "cell_type": "code",
   "execution_count": null,
   "metadata": {},
   "outputs": [],
   "source": [
    "# Instantiate the ImageProcessor class\n",
    "processor = ImageProcessor()\n",
    "\n",
    "# Process and display each image one by one\n",
    "for i, img in enumerate(images):\n",
    "    processor.process_and_display_single_image(img, title=f'Image {i+1}')"
   ]
  },
  {
   "cell_type": "code",
   "execution_count": null,
   "metadata": {},
   "outputs": [],
   "source": [
    "def create_folder_structure(base_path, folder_name):\n",
    "    main_folder = os.path.join(base_path, folder_name)\n",
    "    \n",
    "    # Check if folder exists\n",
    "    if not os.path.exists(main_folder):\n",
    "        os.makedirs(main_folder)\n",
    "    \n",
    "    # Create additional folders\n",
    "    subfolders = ['poni', 'mask', 'data', 'analysis', 'poscar', 'stitch']\n",
    "    subsubfolders = ['hdf5', 'png', 'simulation']\n",
    "\n",
    "    for sub in subfolders:\n",
    "        os.makedirs(os.path.join(main_folder, sub), exist_ok=True)\n",
    "        if sub == 'analysis':\n",
    "            analysisPath = Path(main_folder).joinpath('analysis') # Generalized for file outputs from analysis\n",
    "            for subsub in subsubfolders:\n",
    "                os.makedirs(os.path.join(analysisPath, subsub), exist_ok=True)\n",
    "\n",
    "def update_file_path(folder_path: Path, extension: str) -> Optional[Path]:\n",
    "    files = list(folder_path.glob(f'*.{extension}'))\n",
    "\n",
    "    if len(files) > 1:\n",
    "        raise ValueError(f\"Multiple .{extension} files found in the folder.\")\n",
    "    elif len(files) == 0:\n",
    "        raise ValueError(f\"No .{extension} files found in the folder.\")\n",
    "    \n",
    "    return folder_path.joinpath(files[0].name)"
   ]
  }
 ],
 "metadata": {
  "kernelspec": {
   "display_name": "pyGIXS",
   "language": "python",
   "name": "python3"
  },
  "language_info": {
   "codemirror_mode": {
    "name": "ipython",
    "version": 3
   },
   "file_extension": ".py",
   "mimetype": "text/x-python",
   "name": "python",
   "nbconvert_exporter": "python",
   "pygments_lexer": "ipython3",
   "version": "3.11.3"
  },
  "orig_nbformat": 4
 },
 "nbformat": 4,
 "nbformat_minor": 2
}
