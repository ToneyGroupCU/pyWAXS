{
 "cells": [
  {
   "cell_type": "markdown",
   "metadata": {},
   "source": [
    "## pyWAXS\n",
    "------------\n",
    "### Example Notebook: Python-Based X-ray Scattering Data Reduction & Analysis\n",
    "Toney Group, University of Colorado Boulder (Updated: 10/31/2023)\n",
    "\n",
    "------------"
   ]
  },
  {
   "cell_type": "markdown",
   "metadata": {},
   "source": [
    "### Install pyWAXS Modules\n",
    "Note: Start by downloading/installing the 'pyWAXS.yml' virtual environment. Check the README.md or Git page for instructions on installation of this environment.\n",
    "\n",
    "Restart the Kernel after you do this."
   ]
  },
  {
   "cell_type": "code",
   "execution_count": null,
   "metadata": {},
   "outputs": [],
   "source": [
    "rootPath = '/Users/keithwhite/github_repositories/pyWAXS' # sub your pyWAXS/main directory here.\n",
    "%pip install -e $rootPath\n",
    "\n",
    "# - Custom Module Imports\n",
    "from pywaxs import WAXSUser, WAXSProject\n",
    "from pywaxs import WAXSTransform\n",
    "from pywaxs import WAXSReduce, WAXSTOPAS\n",
    "from pywaxs import WAXSSearch\n",
    "from pywaxs import WAXSStructureManager\n",
    "from pywaxs import WAXSFileManager as waxsfiles\n",
    "from pywaxs import WAXSSim\n",
    "from pywaxs import WAXSFit\n",
    "from pywaxs.WAXSFit import generate_random_2D_gaussian, generate_polar_gaussian, generate_combined_gaussian, CombinedGaussianFitter\n",
    "\n",
    "# - Additional Module Imports\n",
    "import xarray as xr # type: ignore\n",
    "import pandas as pd # type: ignore\n",
    "import numpy as np\n",
    "import pathlib, os # , copy2\n",
    "from pathlib import Path\n",
    "from typing import Optional\n",
    "import matplotlib.pyplot as plt\n",
    "import math\n",
    "\n",
    "''' # Tips for troubleshooting pyWAXS installation.\n",
    "\n",
    "    # !python setup.py clean # uncomment if pip installation fails due to false path\n",
    "\n",
    "    # import importlib.util\n",
    "    # spec = importlib.util.find_spec(\"pywaxs\") # uncomment to check the pywaxs origin information\n",
    "    # print(spec)\n",
    "\n",
    "    # !pip list # uncomment to check your imports list for pywaxs\n",
    "\n",
    "    # import sys # uncomment to check system pathes accessed by your kernel\n",
    "    # print(sys.path)\n",
    "'''"
   ]
  },
  {
   "cell_type": "markdown",
   "metadata": {},
   "source": [
    "### Create/Access a User Folder\n",
    "Create a user folder in the /pyWAXS/users/ subdirectory. \n",
    "\n",
    "This is where all of your projects will be stored and accessed moving forward. You will essentially 'login' when you load the notebook by passing your username to the WAXSUser object. This is particularly useful to manage and delineate filesets across different research projects (rather than experiment projects - the meaning of this will be clear when you see the file hierarchy).\n",
    "\n",
    "Once you do this, WAXSUser will automatically setup /projects/, /structures/, and /notebooks/ subdirectories for you, and build/rebuild all of the filepaths needed to access your previous analyses."
   ]
  },
  {
   "cell_type": "code",
   "execution_count": 9,
   "metadata": {},
   "outputs": [
    {
     "name": "stdout",
     "output_type": "stream",
     "text": [
      "<class 'pywaxs.WAXSUser.WAXSUser'>\n"
     ]
    }
   ],
   "source": [
    "username = 'kwhite'\n",
    "waxsuser = WAXSUser(username)\n",
    "print(type(waxsuser))  # Should print something like \"<class '__main__.WAXSUser'>\""
   ]
  },
  {
   "cell_type": "markdown",
   "metadata": {},
   "source": [
    "### Create/Access a Project Folder\n",
    "Create a project folder /projectname/ for a single image X-ray data analysis session."
   ]
  },
  {
   "cell_type": "code",
   "execution_count": null,
   "metadata": {},
   "outputs": [],
   "source": [
    "projectname = 'example'\n",
    "waxsproject = WAXSProject(waxsuser, projectname)\n",
    "waxsproject.projectPath"
   ]
  },
  {
   "cell_type": "markdown",
   "metadata": {},
   "source": [
    "### Create/Access a Structure Folder\n",
    "Create a /structurename/ folder or access existing structures used to simulate WAXS patterns.\n",
    "\n",
    "Create a structure folder name, then, select a .vasp file to copy to the new structure folder.\n",
    "\n",
    "Note: You can export CIF (.cif) filetypes from VESTA as .vasp files by exporting them in the POSCAR format with fractional coordinates. After this, you can use the 'addStructure()' method to copy them into subfolders in your user directory. This is useful for storing simulation outcomes."
   ]
  },
  {
   "cell_type": "markdown",
   "metadata": {},
   "source": [
    "#### Add a Structure"
   ]
  },
  {
   "cell_type": "code",
   "execution_count": null,
   "metadata": {},
   "outputs": [],
   "source": [
    "structurename = 'structure'\n",
    "structure = WAXSStructureManager(waxsuser)\n",
    "structure.addStructure()"
   ]
  },
  {
   "cell_type": "markdown",
   "metadata": {},
   "source": [
    "#### Select a Structure"
   ]
  },
  {
   "cell_type": "code",
   "execution_count": 10,
   "metadata": {},
   "outputs": [
    {
     "data": {
      "application/vnd.jupyter.widget-view+json": {
       "model_id": "52993c239aab4e92a0ee55cb589f01f7",
       "version_major": 2,
       "version_minor": 0
      },
      "text/plain": [
       "Dropdown(description='Select Structure:', options=('Select a structure...', 'PbI2_DMF', 'PbI2_DMSO', 'MA2Pb2I6…"
      ]
     },
     "metadata": {},
     "output_type": "display_data"
    },
    {
     "name": "stdout",
     "output_type": "stream",
     "text": [
      "Structure MA2Pb2I6_2DMF selected.\n"
     ]
    }
   ],
   "source": [
    "structurename = 'structure'\n",
    "structure = WAXSStructureManager(waxsuser)\n",
    "structure.selectStructure()"
   ]
  },
  {
   "cell_type": "markdown",
   "metadata": {},
   "source": [
    "#### Simulate a Structure's WAXS Pattern"
   ]
  },
  {
   "cell_type": "code",
   "execution_count": 11,
   "metadata": {},
   "outputs": [],
   "source": [
    "structure.vaspPath # confirm that your path is valid\n",
    "\n",
    "waxs_sim = WAXSSim(vaspPath = structure.vaspPath,\n",
    "                 simPath = structure.simPath,\n",
    "                 sigma_theta = 0.01, \n",
    "                 sigma_phi = 100, \n",
    "                 sigma_r = 0.01, \n",
    "                 hkl_dimension = 10, \n",
    "                 thetaX = np.pi/2, \n",
    "                 thetaY = np.pi/2,\n",
    "                 resX = 256,\n",
    "                 qxyRange = [-2, 2],\n",
    "                 qzRange = [0, 2],\n",
    "                 projectname = None)\n",
    "\n",
    "waxs_sim.runSimulation()"
   ]
  },
  {
   "cell_type": "markdown",
   "metadata": {},
   "source": [
    "#### Plot the Simulated Data"
   ]
  },
  {
   "cell_type": "code",
   "execution_count": 12,
   "metadata": {},
   "outputs": [
    {
     "data": {
      "application/vnd.jupyter.widget-view+json": {
       "model_id": "69a792117a6a4ed9b131e70535e3fe28",
       "version_major": 2,
       "version_minor": 0
      },
      "image/png": "[encoded data removed]",
      "text/html": [
       "\n",
       "            <div style=\"display: inline-block;\">\n",
       "                <div class=\"jupyter-widgets widget-label\" style=\"text-align: center;\">\n",
       "                    Figure\n",
       "                </div>\n",
       "                <img src='data:image/png;base64,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' width=640.0/>\n",
       "            </div>\n",
       "        "
      ],
      "text/plain": [
       "Canvas(toolbar=Toolbar(toolitems=[('Home', 'Reset original view', 'home', 'home'), ('Back', 'Back to previous …"
      ]
     },
     "metadata": {},
     "output_type": "display_data"
    }
   ],
   "source": [
    "%matplotlib widget\n",
    "waxs_sim.plotIntensityMap()"
   ]
  },
  {
   "cell_type": "markdown",
   "metadata": {},
   "source": [
    "### Fit a 2D WAXS Peak"
   ]
  },
  {
   "cell_type": "markdown",
   "metadata": {},
   "source": [
    "#### Generate Example Peak"
   ]
  },
  {
   "cell_type": "code",
   "execution_count": 7,
   "metadata": {},
   "outputs": [
    {
     "name": "stdout",
     "output_type": "stream",
     "text": [
      "Obtaining file:///Users/keithwhite/github_repositories/pyWAXS\n",
      "  Preparing metadata (setup.py) ... \u001b[?25ldone\n",
      "\u001b[?25hInstalling collected packages: pywaxs\n",
      "  Attempting uninstall: pywaxs\n",
      "    Found existing installation: pywaxs 0.2.0\n",
      "    Uninstalling pywaxs-0.2.0:\n",
      "      Successfully uninstalled pywaxs-0.2.0\n",
      "  Running setup.py develop for pywaxs\n",
      "Successfully installed pywaxs-0.2.0\n",
      "Note: you may need to restart the kernel to use updated packages.\n"
     ]
    }
   ],
   "source": [
    "rootPath = '/Users/keithwhite/github_repositories/pyWAXS' # sub your pyWAXS/main directory here.\n",
    "%pip install -e $rootPath\n",
    "\n",
    "# - Custom Module Imports\n",
    "from pywaxs import WAXSUser, WAXSProject\n",
    "from pywaxs import WAXSTransform\n",
    "from pywaxs import WAXSReduce, WAXSTOPAS\n",
    "from pywaxs import WAXSSearch\n",
    "from pywaxs import WAXSStructureManager\n",
    "from pywaxs import WAXSFileManager as waxsfiles\n",
    "from pywaxs import WAXSSim\n",
    "from pywaxs import WAXSFit\n",
    "from pywaxs.WAXSFit import generate_random_2D_gaussian, generate_polar_gaussian, generate_combined_gaussian, CombinedGaussianFitter\n",
    "\n",
    "# - Additional Module Imports\n",
    "import xarray as xr # type: ignore\n",
    "import pandas as pd # type: ignore\n",
    "import numpy as np\n",
    "import pathlib, os # , copy2\n",
    "from pathlib import Path\n",
    "from typing import Optional\n",
    "import matplotlib.pyplot as plt\n",
    "import math"
   ]
  },
  {
   "cell_type": "markdown",
   "metadata": {},
   "source": [
    "#### Fit & Plot the Random Example Data"
   ]
  },
  {
   "cell_type": "code",
   "execution_count": 8,
   "metadata": {},
   "outputs": [
    {
     "data": {
      "image/png": "[encoded data removed]",
      "text/plain": [
       "<Figure size 1500x500 with 6 Axes>"
      ]
     },
     "metadata": {},
     "output_type": "display_data"
    }
   ],
   "source": [
    "# %matplotlib widget\n",
    "fwhm_qr = 0.2\n",
    "random_data = generate_combined_gaussian(fwhm_qr=fwhm_qr, fwhm_chi=15.0, center_qr=1.5, center_chi=25.0,\n",
    "                               fwhm_qxy=fwhm_qr, fwhm_qz=fwhm_qr,\n",
    "                               cartesian_weight=0.2, add_noise=True, add_background=True)\n",
    "\n",
    "waxsfit = CombinedGaussianFitter(random_data)\n",
    "waxsfit.perform_combined_fit(fit_method='gaussianpolar')\n",
    "\n",
    "# Calculate residuals\n",
    "residuals = waxsfit.calculate_residuals()\n",
    "\n",
    "# Get fit statistics\n",
    "fit_stats = waxsfit.fit_statistics()\n",
    "\n",
    "# Plot original data, fit, and residuals\n",
    "waxsfit.plot_fit()"
   ]
  },
  {
   "cell_type": "code",
   "execution_count": 6,
   "metadata": {},
   "outputs": [
    {
     "data": {
      "text/html": [
       "<h2> Model</h2> Model(combined_gaussian_2D) <h2>Fit Statistics</h2><table><tr><td>fitting method</td><td>leastsq</td><td></td></tr><tr><td># function evals</td><td>36</td><td></td></tr><tr><td># data points</td><td>10000</td><td></td></tr><tr><td># variables</td><td>4</td><td></td></tr><tr><td>chi-square</td><td> 8.57902974</td><td></td></tr><tr><td>reduced chi-square</td><td> 8.5825e-04</td><td></td></tr><tr><td>Akaike info crit.</td><td>-70602.1955</td><td></td></tr><tr><td>Bayesian info crit.</td><td>-70573.3541</td><td></td></tr><tr><td>R-squared</td><td> 0.90368052</td><td></td></tr></table><h2>Variables</h2><table><tr><th> name </th><th> value </th><th> standard error </th><th> relative error </th><th> initial value </th><th> min </th><th> max </th><th> vary </th></tr><tr><td> fwhm_qr </td><td>  0.19941841 </td><td>  7.6485e-04 </td><td> (0.38%) </td><td> 1.2239949189985198 </td><td>  0.00000000 </td><td>         inf </td><td> True </td></tr><tr><td> fwhm_chi </td><td>  13.7102907 </td><td>  0.05246505 </td><td> (0.38%) </td><td> 43.72822250156426 </td><td>  0.00000000 </td><td>  90.0000000 </td><td> True </td></tr><tr><td> center_qr </td><td>  1.49967510 </td><td>  3.8480e-04 </td><td> (0.03%) </td><td> 1.4913962687104445 </td><td>  0.00000000 </td><td>         inf </td><td> True </td></tr><tr><td> center_chi </td><td>  64.9936314 </td><td>  0.02635925 </td><td> (0.04%) </td><td> 65.1706534118504 </td><td>  0.00000000 </td><td>  90.0000000 </td><td> True </td></tr><tr><td> fwhm_qxy </td><td>  0.20000000 </td><td>  0.00000000 </td><td> (0.00%) </td><td> 0.2 </td><td>  0.00000000 </td><td>         inf </td><td> False </td></tr><tr><td> fwhm_qz </td><td>  0.20000000 </td><td>  0.00000000 </td><td> (0.00%) </td><td> 0.2 </td><td>  0.00000000 </td><td>         inf </td><td> False </td></tr><tr><td> weight </td><td>  0.00000000 </td><td>  0.00000000 </td><td>  </td><td> 0 </td><td>  0.00000000 </td><td>  1.00000000 </td><td> False </td></tr></table><h2>Correlations (unreported correlations are < 0.100)</h2><table><tr><td>fwhm_qr</td><td>fwhm_chi</td><td>-0.3332</td></tr></table>"
      ],
      "text/plain": [
       "<lmfit.model.ModelResult at 0x1a95f9790>"
      ]
     },
     "execution_count": 6,
     "metadata": {},
     "output_type": "execute_result"
    }
   ],
   "source": [
    "waxsfit.result"
   ]
  },
  {
   "cell_type": "markdown",
   "metadata": {},
   "source": [
    "#### Create a pyWAXS Project\n",
    "Specify a 'project_name', if you already have a project with this name, the 'generate_projectPaths' method will just load those filepaths locally so you can access them. \n",
    "\n",
    "If you don't have a folder with the project_name, it will be automatically created for you, along with all of the subdirectories that come along with it. "
   ]
  },
  {
   "cell_type": "code",
   "execution_count": null,
   "metadata": {},
   "outputs": [],
   "source": [
    "current_directory = os.getcwd() # get the current directory\n",
    "basePath = Path(current_directory) # set the basePath\n",
    "projectname = 'LaB6_SRM660c_Calib' # Change this for each sample.\n",
    "\n",
    "# Generate project paths\n",
    "projectPath, PathList = waxsfiles.generate_projectPaths(basePath, projectname)\n",
    "basePath, dataPath, poniPath, maskPath, analysisPath, poscarPath, hdf5Path, pngPath, simulationPath = PathList\n",
    "\n",
    "# Print results\n",
    "print(f\"Project Path: {projectPath}\")\n",
    "print(f\"Data Path: {dataPath}\")\n",
    "print(f\"PONI Path: {poniPath}\")\n",
    "print(f\"MASK Path: {maskPath}\")"
   ]
  },
  {
   "cell_type": "markdown",
   "metadata": {},
   "source": [
    "#### (Optional) Select Project File Based on Scan ID"
   ]
  },
  {
   "cell_type": "code",
   "execution_count": null,
   "metadata": {},
   "outputs": [],
   "source": [
    "# ## -- CHANGE THE PROJECT NAME & ScanID -- ##\n",
    "# projectnames = ['002-D3_1-An-C2_DMF', '002-D4_1-An-C2_NMP', '002-D5_1-An-C2_6-1']\n",
    "# scanIDs =  ['682375', '682387', '682399'] # Replace with the scanID you want to use\n",
    "\n",
    "# i = 2 # select the sample\n",
    "# projectname = projectnames[i]\n",
    "# scanID = scanIDs[i]\n",
    "\n",
    "# # -- Base Path Definitions -- #\n",
    "# basePath = pathlib.Path('/Users/keithwhite/github_repositories/pyWAXS/examples_local/projects')\n",
    "# projectPath, PathList = waxsfiles.generate_projectPaths(basePath, projectname)\n",
    "# basePath, dataPath, poniPath, maskPath, analysisPath, poscarPath, hdf5Path, pngPath, simulationPath = PathList\n",
    "# dataPath = waxsfiles.update_filePath(dataPath, 'tiff', scanID=scanID)"
   ]
  },
  {
   "cell_type": "markdown",
   "metadata": {},
   "source": [
    "#### Define Metadata Keylist"
   ]
  },
  {
   "cell_type": "code",
   "execution_count": null,
   "metadata": {},
   "outputs": [],
   "source": [
    "metadata_keylist = ['sample', # Sample Number\n",
    "                    'saxssdd', # Sample Chemistry\n",
    "                    'energy', # Solution Filtration\n",
    "                    'note', # Solution Concentration\n",
    "                    'clocktime', # Clock time @ Endstation\n",
    "                    'xpos', # X-Position of Beam\n",
    "                    'thpos', # Incidence Angle\n",
    "                    'exptime', # Exposure Time\n",
    "                    'scanID', # Scan Identification Number (BNL Specific)\n",
    "                    'detext'] # Extension of the detector identifier at BNL 'maxs' v. 'saxs' v, 'waxs'"
   ]
  },
  {
   "cell_type": "markdown",
   "metadata": {},
   "source": [
    "#### Create a WAXSReduce Project Instance Example"
   ]
  },
  {
   "cell_type": "code",
   "execution_count": null,
   "metadata": {},
   "outputs": [],
   "source": [
    "# - WAXSReduce Class Instantiation: Load the data, apply mask, calculate and map q-range, Ewald sphere corrections/pixel splitting, and caked pixel splitting.\n",
    "waxs_analysis = WAXSReduce(poniPath=poniPath, \n",
    "        maskPath=maskPath, \n",
    "        tiffPath=dataPath, \n",
    "        metadata_keylist=metadata_keylist,\n",
    "        energy = 12.7)"
   ]
  },
  {
   "cell_type": "markdown",
   "metadata": {},
   "source": [
    "#### Generate a .xye File for TOPAS"
   ]
  },
  {
   "cell_type": "code",
   "execution_count": null,
   "metadata": {},
   "outputs": [],
   "source": [
    "# Create a WAXSTOPAS instance based on the existing WAXSReduce instance\n",
    "waxs_topas = WAXSTOPAS(projectPath=projectPath, waxs_instance=waxs_analysis)\n",
    "\n",
    "# Now you can call the .xye generation method\n",
    "waxs_topas.generate_xye_file_pyfai()"
   ]
  },
  {
   "cell_type": "markdown",
   "metadata": {},
   "source": [
    "#### Plot the Reciprocal Space Map"
   ]
  },
  {
   "cell_type": "code",
   "execution_count": null,
   "metadata": {},
   "outputs": [],
   "source": [
    "%matplotlib widget\n",
    "\n",
    "title = projectname\n",
    "\n",
    "waxs_analysis.display_image(waxs_analysis.cakedtiff_xr, \n",
    "                            title=title, \n",
    "                            cmap='turbo')"
   ]
  },
  {
   "cell_type": "markdown",
   "metadata": {},
   "source": [
    "#### Plot the 1D Integration"
   ]
  },
  {
   "cell_type": "code",
   "execution_count": null,
   "metadata": {},
   "outputs": [],
   "source": [
    "waxs_analysis.plot1D(projectname=projectname)"
   ]
  },
  {
   "cell_type": "markdown",
   "metadata": {},
   "source": [
    "## Generalized Analysis Flow"
   ]
  },
  {
   "cell_type": "markdown",
   "metadata": {},
   "source": [
    "#### Image Processing"
   ]
  },
  {
   "cell_type": "markdown",
   "metadata": {},
   "source": [
    "#### sin(chi) Correction"
   ]
  },
  {
   "cell_type": "code",
   "execution_count": null,
   "metadata": {},
   "outputs": [],
   "source": [
    "# Caked Image Sin-Chi Correction: Apply sin(chi) correction to the caked image.\n",
    "cakedtiff_sinchi_xr = waxs_analysis.sinchi_corr(chicorr = True, \n",
    "                                                qsqr = False)\n",
    "\n",
    "# Image Normalization: Normalize the caked image.\n",
    "cakedtiff_xr_norm, (max_x, max_y) = waxs_analysis.normalize_image(img = waxs_analysis.cakedtiff_sinchi_xr, \n",
    "                                                  normalizerecip=False)\n",
    "data = cakedtiff_xr_norm"
   ]
  },
  {
   "cell_type": "markdown",
   "metadata": {},
   "source": [
    "#### Image Folding"
   ]
  },
  {
   "cell_type": "code",
   "execution_count": null,
   "metadata": {},
   "outputs": [],
   "source": [
    "# Image Folding: Fold the caked image.\n",
    "folded_data = waxs_analysis.fold_image(data, 'chi')\n",
    "data = folded_data"
   ]
  },
  {
   "cell_type": "markdown",
   "metadata": {},
   "source": [
    "#### Interpolation"
   ]
  },
  {
   "cell_type": "code",
   "execution_count": null,
   "metadata": {},
   "outputs": [],
   "source": [
    "data = waxs_analysis.cakedtiff_xr\n",
    "\n",
    "# Image Normalization: Normalize the caked image.\n",
    "data, (max_x, max_y) = waxs_analysis.normalize_image(img = data, \n",
    "                                                  normalizerecip=False)\n",
    "\n",
    "# Image Interpolation: Interpolate the folded image.\n",
    "# interpolator = ImageInterpolator() # Create the interpolator object. \n",
    "# data = interpolator.simple_interpolate(data, 'horizontal', 'slinear') # interpolate horizontal gaps with slinear method.\n",
    "# data = interpolator.simple_interpolate(data, 'vertical', 'slinear') # interpolate unfilled vertical gaps with slinear method."
   ]
  },
  {
   "cell_type": "markdown",
   "metadata": {},
   "source": [
    "#### Plotting Output"
   ]
  },
  {
   "cell_type": "code",
   "execution_count": null,
   "metadata": {},
   "outputs": [],
   "source": [
    "# Image Folding: Fold the caked image.\n",
    "data = waxs_analysis.cakedtiff_xr\n",
    "data = waxs_analysis.fold_image(data, 'chi')\n",
    "data, (max_x, max_y) = waxs_analysis.normalize_image(img = data, \n",
    "                                                  normalizerecip=False)\n",
    "\n",
    "# Display Image\n",
    "waxs_analysis.display_image(data, \n",
    "                            title='folded', \n",
    "                            cmap='turbo')"
   ]
  },
  {
   "cell_type": "markdown",
   "metadata": {},
   "source": [
    "#### Peak Finding\n",
    "Find the peaks using a our custom peak finding algorithm.\n",
    "\n",
    "Parameters:\n",
    "- sigma1 (float, default=1.0): The standard deviation for the first Gaussian filter.\n",
    "- sigma2 (float, default=2.0): The standard deviation for the second Gaussian filter.\n",
    "- threshold (float, default=0.2): Threshold for initial peak identification.\n",
    "- clustering_method (str, default='DBSCAN'): The clustering method to use ('DBSCAN' or 'HDBSCAN').\n",
    "- eps (float, default=3): The maximum distance between two samples for them to be considered as in the same cluster (DBSCAN).\n",
    "- min_samples (int, default=2): The number of samples in a neighborhood for a point to be considered as a core point (DBSCAN).\n",
    "- k (int, default=3): The number of nearest neighbors to consider for the recentering algorithm.\n",
    "- radius (float, default=5): The radius within which to search for neighbors in the recentering algorithm.\n",
    "- edge_percentage (float, default=5): The percentage of the minimum edge length to be considered as the edge zone.\n",
    "- stricter_threshold (float, default=0.01): A stricter threshold for edge peaks."
   ]
  },
  {
   "cell_type": "code",
   "execution_count": null,
   "metadata": {},
   "outputs": [],
   "source": [
    "'''\n",
    "%matplotlib widget\n",
    "\n",
    "# Find peaks (implement the actual peak-finding logic in the find_peaks method)\n",
    "peak_finder = WAXSSearch(data) # create the WAXSSearch object\n",
    "\n",
    "# NOTE: Make sure you pass the ACTIVE DataArray you are working on, notice how I passed 'data' \n",
    "# since this is the processed dataset we are working with locally.\n",
    "\n",
    "dataset = peak_finder.waxssearch_main(sigma1=.1,\n",
    "                                  sigma2=1.5,\n",
    "                                  threshold=.015,\n",
    "                                  clustering_method='HDBSCAN',\n",
    "                                  eps=1, \n",
    "                                  min_samples=2,\n",
    "                                  k=8,\n",
    "                                  radius=10,\n",
    "                                  edge_percentage=2,\n",
    "                                  stricter_threshold=20)\n",
    "\n",
    "# Display image with peaks\n",
    "peak_finder.display_image_with_peaks_and_DoG(dataset,\n",
    "                                       title='peak finder', \n",
    "                                       cmap='turbo')\n",
    "\n",
    "# peak_finder.save_to_netcdf(hdf5Path) # Creates an hdf5 file with the name 'output.nc' in your output path. Will generalize\n",
    "# the file naming convention for this soon.\n",
    "'''\n",
    "\n",
    "%matplotlib widget\n",
    "\n",
    "data = waxs_analysis.reciptiff_xr\n",
    "# data = waxs_analysis.fold_image(data, 'chi')\n",
    "# data, (max_x, max_y) = waxs_analysis.normalize_image(img = data, \n",
    "#                                                   normalizerecip=False)\n",
    "\n",
    "# Find peaks (implement the actual peak-finding logic in the find_peaks method)\n",
    "peak_finder = WAXSSearch(data) # create the WAXSSearch object\n",
    "\n",
    "# NOTE: Make sure you pass the ACTIVE DataArray you are working on, notice how I passed 'data' \n",
    "# since this is the processed dataset we are working with locally.\n",
    "\n",
    "const_params = {\n",
    "    'threshold': 0.0005,\n",
    "    'clustering_method': 'HDBSCAN',\n",
    "    'eps': 1,\n",
    "    'min_samples': 2,\n",
    "    'k': 4,\n",
    "    'radius': 2,\n",
    "    'edge_percentage': 2,\n",
    "    'stricter_threshold': 20\n",
    "}\n",
    "\n",
    "dataset = peak_finder.waxssearch_main(sigma1=.15,\n",
    "                                        sigma2=2.91,\n",
    "                                        **const_params)\n",
    "\n",
    "# Display image with peaks\n",
    "peak_finder.display_image_with_peaks_and_DoG(dataset,\n",
    "                                       title='peak finder', \n",
    "                                       cmap='turbo')\n",
    "\n",
    "peak_finder.save_to_netcdf(hdf5Path) # Creates an hdf5 file with the name 'output.nc' in your output path. Will generalize\n",
    "# the file naming convention for this soon."
   ]
  },
  {
   "cell_type": "markdown",
   "metadata": {},
   "source": [
    "#### Peak Search Parameter Sensitivity Analysis"
   ]
  },
  {
   "cell_type": "code",
   "execution_count": null,
   "metadata": {},
   "outputs": [],
   "source": [
    "#### Peak Search Parameter Sensitivity Analysis\n",
    "import matplotlib.pyplot as plt\n",
    "import numpy as np\n",
    "import seaborn as sns\n",
    "import pandas as pd\n",
    "\n",
    "# Import the WAXSSearch class and any other dependencies here\n",
    "\n",
    "# Define constant parameters\n",
    "const_params = {\n",
    "    'threshold': 0.0005,\n",
    "    'clustering_method': 'HDBSCAN',\n",
    "    'eps': 1,\n",
    "    'min_samples': 2,\n",
    "    'k': 4,\n",
    "    'radius': 2,\n",
    "    'edge_percentage': 2,\n",
    "    'stricter_threshold': 5\n",
    "}\n",
    "\n",
    "# Assume that 'data' is available here or load it\n",
    "\n",
    "# Define ranges for sigma1 and sigma2\n",
    "sigma1_values = np.linspace(0.1, 1.2, 20)\n",
    "sigma2_values = np.linspace(1.3, 3, 20)\n",
    "\n",
    "# Create a matrix to store the results\n",
    "num_peaks_matrix = np.zeros((len(sigma1_values), len(sigma2_values)))\n",
    "\n",
    "# Run the simulation\n",
    "for i, sigma1 in enumerate(sigma1_values):\n",
    "    for j, sigma2 in enumerate(sigma2_values):\n",
    "        # Create a WAXSSearch object with the current 'data'\n",
    "        peak_finder = WAXSSearch(data)\n",
    "        \n",
    "        # Run the actual waxssearch_main method\n",
    "        dataset = peak_finder.waxssearch_main(sigma1=sigma1,\n",
    "                                              sigma2=sigma2,\n",
    "                                              **const_params)\n",
    "        \n",
    "        # Extract the number of peaks found\n",
    "        num_peaks = np.count_nonzero(dataset['peak_positions'].values == 1)\n",
    "        num_peaks_matrix[i, j] = num_peaks\n",
    "\n",
    "\n",
    "# Convert to DataFrame for better annotation in heatmap\n",
    "df_num_peaks = pd.DataFrame(num_peaks_matrix, index=np.round(sigma1_values, 2), columns=np.round(sigma2_values, 2))\n",
    "\n",
    "plt.close('all')\n",
    "\n",
    "# Generate the heatmap\n",
    "sns.heatmap(df_num_peaks, annot=True, fmt=\".0f\", cmap=\"YlGnBu\")\n",
    "plt.xlabel(\"Sigma2 Values\")\n",
    "plt.ylabel(\"Sigma1 Values\")\n",
    "plt.title(\"Heatmap of Number of Peaks Detected\")\n",
    "plt.show()"
   ]
  },
  {
   "cell_type": "code",
   "execution_count": null,
   "metadata": {},
   "outputs": [],
   "source": [
    "import imageio  # for creating GIF\n",
    "import matplotlib.pyplot as plt\n",
    "import numpy as np\n",
    "import seaborn as sns\n",
    "import pandas as pd\n",
    "\n",
    "# Import WAXSSearch and other dependencies here\n",
    "# ...\n",
    "\n",
    "# Assume that 'data' is available here or load it\n",
    "# ...\n",
    "\n",
    "# Define constant parameters\n",
    "const_params = {\n",
    "    'clustering_method': 'HDBSCAN',\n",
    "    'eps': 1,\n",
    "    'min_samples': 2,\n",
    "    'k': 4,\n",
    "    'radius': 2,\n",
    "    'edge_percentage': 2,\n",
    "    'stricter_threshold': 5\n",
    "}\n",
    "\n",
    "# Define ranges for sigma1, sigma2, and threshold\n",
    "sigma1_values = np.linspace(0.1, 1.2, 20)\n",
    "sigma2_values = np.linspace(1.3, 3, 20)\n",
    "threshold_values = np.linspace(0.0001, 0.001, 10)  # Replace with your range\n",
    "\n",
    "# Initialize a list to store heatmap frames\n",
    "frames = []\n",
    "\n",
    "# Loop over different threshold values\n",
    "for t, threshold in enumerate(threshold_values):\n",
    "    num_peaks_matrix = np.zeros((len(sigma1_values), len(sigma2_values)))\n",
    "\n",
    "    for i, sigma1 in enumerate(sigma1_values):\n",
    "        for j, sigma2 in enumerate(sigma2_values):\n",
    "            if sigma1 >= sigma2:\n",
    "                continue\n",
    "\n",
    "            peak_finder = WAXSSearch(data)\n",
    "            dataset = peak_finder.waxssearch_main(sigma1=sigma1, sigma2=sigma2, threshold=threshold, **const_params)\n",
    "            num_peaks = np.count_nonzero(dataset['peak_positions'].values == 1)\n",
    "            num_peaks_matrix[i, j] = num_peaks\n",
    "\n",
    "    # Convert to DataFrame\n",
    "    df_num_peaks = pd.DataFrame(num_peaks_matrix, index=np.round(sigma1_values, 2), columns=np.round(sigma2_values, 2))\n",
    "    \n",
    "    # Generate and save the heatmap\n",
    "    plt.figure()\n",
    "    sns.heatmap(df_num_peaks, annot=True, fmt=\".0f\", cmap=\"YlGnBu\")\n",
    "    plt.xlabel(\"Sigma2 Values\")\n",
    "    plt.ylabel(\"Sigma1 Values\")\n",
    "    plt.title(f\"Heatmap of Number of Peaks Detected (Threshold={threshold})\")\n",
    "    \n",
    "    # Save as PNG\n",
    "    plt.savefig(f\"heatmap_{t}.png\")\n",
    "    \n",
    "    # Append to frames for GIF\n",
    "    frames.append(imageio.imread(f\"heatmap_{t}.png\"))\n",
    "\n",
    "# Create GIF\n",
    "imageio.mimsave('heatmap.gif', frames, duration=1)  # 1-second duration for each frame"
   ]
  },
  {
   "cell_type": "markdown",
   "metadata": {},
   "source": [
    "## Load Existing Project File"
   ]
  },
  {
   "cell_type": "code",
   "execution_count": null,
   "metadata": {},
   "outputs": [],
   "source": [
    "# waxsPath = pathlib.Path('/Users/keithwhite/github_repositories/pyWAXS/examples_local/projects/1MAI_3PbI2_DMF_1M_mar23/analysis/hdf5/3MAI_1PbI2_DMF_1M_mar23_peaks.nc')\n",
    "waxsPath = pathlib.Path('/Users/keithwhite/github_repositories/pyWAXS/examples_local/projects/1MAI_3PbI2_DMF_1M_mar23/analysis/hdf5/output.nc')\n",
    "\n",
    "waxs_ds = waxs_analysis.load_xarray_dataset(waxsPath)\n",
    "\n",
    "waxs_ds.info()"
   ]
  },
  {
   "cell_type": "code",
   "execution_count": null,
   "metadata": {},
   "outputs": [],
   "source": [
    "waxs_ds_peaks = WAXSSearch(waxs_ds) # create the WAXSSearch object\n",
    "\n",
    "# Display image with peaks\n",
    "waxs_ds_peaks.display_image_with_peaks(waxs_analysis.ds,\n",
    "                                       title='manual peaks', \n",
    "                                       cmap='turbo')"
   ]
  },
  {
   "cell_type": "markdown",
   "metadata": {},
   "source": [
    "### 1D Integration Methods"
   ]
  },
  {
   "cell_type": "code",
   "execution_count": null,
   "metadata": {},
   "outputs": [],
   "source": [
    "integrator = Integration1D(waxs_analysis)"
   ]
  },
  {
   "cell_type": "markdown",
   "metadata": {},
   "source": [
    "Now your integrator object 'integrator' has access to and references your active 'waxs_analysis' session. \n",
    "\n",
    "It also has access to all of the WAXSReduce() methods. You can prove it to yourself like this:"
   ]
  },
  {
   "cell_type": "markdown",
   "metadata": {},
   "source": [
    "#### (1) Cake Slide 1D: Display 2D Caked Image"
   ]
  },
  {
   "cell_type": "code",
   "execution_count": null,
   "metadata": {},
   "outputs": [],
   "source": [
    "integrator.display_image(integrator.cakedtiff_xr, # Display the caked data we will manipulate with the 1D image processing.\n",
    "                            title='processed', \n",
    "                            cmap='turbo')"
   ]
  },
  {
   "cell_type": "markdown",
   "metadata": {},
   "source": [
    "#### (1) Cake Slice 1D"
   ]
  },
  {
   "cell_type": "code",
   "execution_count": null,
   "metadata": {},
   "outputs": [],
   "source": [
    "integrator = Integration1D(waxs_analysis)\n",
    "\n",
    "integrator.cakeslice1D(integrator.cakedtiff_xr, chislice=[-90, 90], qrslice=[0, 4], cakeslicesum='chi')\n",
    "\n",
    "integrator.display_image1D(integrator.cakeslice1D_xr, color='red')"
   ]
  },
  {
   "cell_type": "markdown",
   "metadata": {},
   "source": [
    "#### (2) Boxcut 1D: Display 2D Recip Space Map"
   ]
  },
  {
   "cell_type": "code",
   "execution_count": null,
   "metadata": {},
   "outputs": [],
   "source": [
    "%matplotlib widget\n",
    "# integrator = Integration1D(waxs_analysis)\n",
    "integrator.display_image(integrator.reciptiff_xr, # Display the caked data we will manipulate with the 1D image processing.\n",
    "                            title='recip space map', \n",
    "                            cmap='turbo')"
   ]
  },
  {
   "cell_type": "markdown",
   "metadata": {},
   "source": [
    "#### (2) Box Cut 1D"
   ]
  },
  {
   "cell_type": "code",
   "execution_count": null,
   "metadata": {},
   "outputs": [],
   "source": [
    "# Updated `process_slices` function to dynamically generate a sample name prefix based on the slices\n",
    "def process_slices(integrator, base_samplenameprefix, pngPath, plot_interpolated=False, interpolate_gaps = False, interp_method = 'linear', order = None):\n",
    "    # Qz Layer Lines\n",
    "    qxyslice_qz = [-2.5, 2.5]\n",
    "    qzslice_qz_list = [\n",
    "        [.42, .57],\n",
    "        [.9, 1.07],\n",
    "        [1.42, 1.58],\n",
    "        [1.83, 2.16],\n",
    "        [2.4, 2.6]\n",
    "    ]\n",
    "    \n",
    "    for qzslice in qzslice_qz_list:\n",
    "        dynamic_samplenameprefix = f\"{base_samplenameprefix}_qxyrange{qxyslice_qz[0]}_{qxyslice_qz[1]}_qzrange{qzslice[0]}_{qzslice[1]}\"\n",
    "        title = generate_title('qz', qxyslice_qz, qzslice)\n",
    "        integrator.boxcut1D(integrator.reciptiff_xr, qxyslice=qxyslice_qz, qzslice=qzslice, boxcutsum='qz', interpolate_gaps=interpolate_gaps, interp_method = interp_method, order = None)\n",
    "        integrator.display_image1D(integrator, color='blue', title=title, save_image=True, samplenameprefix=dynamic_samplenameprefix, savePath=pngPath, plot_interpolated=plot_interpolated)\n",
    "        \n",
    "    # Qxy Layer Lines\n",
    "    qzslice_qxy = [0, 3]\n",
    "    qxyslice_qxy_list = [\n",
    "        [-0.95, -0.7],\n",
    "        [-1.18, -1.08],\n",
    "        [-1.7, -1.45],\n",
    "        [-2.06, -1.9],\n",
    "        [-2.24, -2.1],\n",
    "        [-2.36, -2.26]\n",
    "    ]\n",
    "    \n",
    "    for qxyslice in qxyslice_qxy_list:\n",
    "        dynamic_samplenameprefix = f\"{base_samplenameprefix}_qxyrange{qxyslice[0]}_{qxyslice[1]}_qzrange{qzslice_qxy[0]}_{qzslice_qxy[1]}\"\n",
    "        title = generate_title('qxy', qxyslice, qzslice_qxy)\n",
    "        integrator.boxcut1D(integrator.reciptiff_xr, qxyslice=qxyslice, qzslice=qzslice_qxy, boxcutsum='qxy', interpolate_gaps=interpolate_gaps, interp_method = interp_method)\n",
    "        integrator.display_image1D(integrator, color='red', title=title, save_image=True, samplenameprefix=dynamic_samplenameprefix, savePath=pngPath, plot_interpolated=plot_interpolated)\n",
    "        \n",
    "# The generate_title function for reference\n",
    "def generate_title(boxcutsum, qxyslice=None, qzslice=None):\n",
    "    if boxcutsum == 'qz':\n",
    "        title = f\"Qz Layer Lines (Qxy: {qzslice[0]} to {qzslice[1]})\"\n",
    "    elif boxcutsum == 'qxy':\n",
    "        title = f\"Qxy Layer Lines (Qz: {qxyslice[0]} to {qxyslice[1]})\"\n",
    "    return title"
   ]
  },
  {
   "cell_type": "code",
   "execution_count": null,
   "metadata": {},
   "outputs": [],
   "source": [
    "base_samplenameprefix = '3MAI1PbI2_DMF_1M'\n",
    "# interp_method = 'cubic', 'slinear', 'nearest', 'zero', 'linear'\n",
    "interp_method = 'linear'\n",
    "process_slices(integrator, base_samplenameprefix, pngPath, plot_interpolated=False, interpolate_gaps = False, interp_method = 'linear', order = None)"
   ]
  },
  {
   "cell_type": "markdown",
   "metadata": {},
   "source": [
    "#### (3) Pole Figure 1D: Display 2D Caked Image"
   ]
  },
  {
   "cell_type": "code",
   "execution_count": null,
   "metadata": {},
   "outputs": [],
   "source": [
    "integrator.display_image(integrator.cakedtiff_xr, # Display the caked data we will manipulate with the 1D image processing.\n",
    "                            title='processed', \n",
    "                            cmap='turbo')"
   ]
  },
  {
   "cell_type": "markdown",
   "metadata": {},
   "source": [
    "#### (3) Pole Figure 1D"
   ]
  },
  {
   "cell_type": "code",
   "execution_count": null,
   "metadata": {},
   "outputs": [],
   "source": [
    "# integrator.polefig1D(integrator.cakedtiff_xr, pole_chislice=[-90, 90], pole_qrslice=[1.8, 1.92], qrcenter=1.85, chicenter=0, poleleveler='linear')\n",
    "integrator.polefig1D(integrator.cakedtiff_xr, pole_chislice=[-90, 90], pole_qrslice=[.62, .75], qrcenter=.67, chicenter=0, poleleveler='average')\n",
    "# integrator.polefig1D(integrator.cakedtiff_xr, pole_chislice=[-90, 90], pole_qrslice=[.62, .75], qrcenter=.67, chicenter=0, poleleveler=None)\n",
    "# integrator.polefig1D(integrator.cakedtiff_xr, pole_chislice=[-90, 90], pole_qrslice=[.62, .75], qrcenter=.67, chicenter=0, poleleveler='linear')\n",
    "\n",
    "integrator.display_image1D(integrator.polefig1D_xr, color='blue')"
   ]
  },
  {
   "cell_type": "markdown",
   "metadata": {},
   "source": [
    "#### (4) Azimuthal Integration: Display the 2D Recip Space Map\n",
    "This is effectively the same as the caked integration, but with our own custom pixel splitting routine."
   ]
  },
  {
   "cell_type": "code",
   "execution_count": null,
   "metadata": {},
   "outputs": [],
   "source": [
    "integrator.display_image(integrator.reciptiff_xr, # Display the caked data we will manipulate with the 1D image processing.\n",
    "                            title='recip space map', \n",
    "                            cmap='turbo')"
   ]
  },
  {
   "cell_type": "markdown",
   "metadata": {},
   "source": [
    "#### (a) Setup DataPaths & Metadata Keys Example"
   ]
  },
  {
   "cell_type": "code",
   "execution_count": null,
   "metadata": {},
   "outputs": [],
   "source": [
    "# -- Base Path Definitions -- #\n",
    "basePath = pathlib.Path('/Users/keithwhite/github_repositories/pyWAXS/example')\n",
    "dataPath = basePath.joinpath('data') # Generalized path for data.\n",
    "poniPath = basePath.joinpath('poni') # PONI (.poni) File\n",
    "maskPath = basePath.joinpath('mask') # MASK (.edf, .json)\n",
    "outputPath = basePath.joinpath('output') # Generalized for file outputs\n",
    "\n",
    "# -- Example Specific Paths -- #\n",
    "# TIFF File w/ Data\n",
    "tiffPath = dataPath.joinpath('sam22_1MAI1PbI2_unfilt_0p3M_5p0scfh_Si_30uL_043_2068.2s_x0.015_th0.300_0.49s_986546_001639_maxs.tiff')\n",
    "# PONI File Calibrant\n",
    "poniPath = poniPath.joinpath('may23_poni4_nslsiimar23_12p7keV_CeO_KWPos_mask5_fit2.poni')\n",
    "# Image Mask File\n",
    "maskPath = maskPath.joinpath('may23_nslsiimar23_12p7keV_AgBh_KWPos_wSi_th0p3_mask_5.edf')\n",
    "# Output for HDF5 File Format (a nicely formatted output file we will use)\n",
    "hdf5Path = outputPath.joinpath('hdf5') # output path for generated hdf5 files\n",
    "\n",
    "# -- TIFF Path & Corresponding Metadata Keylist -- #\n",
    "# Look at your filename, each '_' delimiter spaces out two keys. Add one key for each position in the filename.\n",
    "metadata_keylist = ['samplenum', # Sample Number\n",
    "                    'chemistry', # Sample Chemistry\n",
    "                    'filter', # Solution Filtration\n",
    "                    'concentration', # Solution Concentration\n",
    "                    'purge_rate', # Spincoater Purge Rate\n",
    "                    'substrate', # Sample Substrate\n",
    "                    'solution_volume', # Dispensed Volume\n",
    "                    'runnum', # Run Number @ Beamtime Session\n",
    "                    'clocktime', # Clock time @ Endstation\n",
    "                    'xpos', # X-Position of Beam\n",
    "                    'thpos', # Incidence Angle\n",
    "                    'exptime', # Exposure Time\n",
    "                    'scanID', # Scan Identification Number (BNL Specific)\n",
    "                    'framenum', # Frame number for tr-GIWAXS series exposures (in-situ time series)\n",
    "                    'detext'] # Extension of the detector identifier at BNL 'maxs' v. 'saxs' v, 'waxs'"
   ]
  },
  {
   "cell_type": "markdown",
   "metadata": {},
   "source": [
    "#### (b) Create Project Session"
   ]
  },
  {
   "cell_type": "code",
   "execution_count": null,
   "metadata": {},
   "outputs": [],
   "source": [
    "# - WAXSReduce Class Instantiation\n",
    "waxs_analysis = WAXSReduce(poniPath=poniPath, \n",
    "        maskPath=maskPath, \n",
    "        tiffPath=tiffPath, \n",
    "        metadata_keylist=metadata_keylist,\n",
    "        energy = 12.7)"
   ]
  },
  {
   "cell_type": "markdown",
   "metadata": {},
   "source": [
    "##### Notice how we loaded all of the following: image correction file references, the X-ray energy, and the data?\n",
    "\n",
    "Assuming your file has the incidence angle in the sample name, we can generate accurately corrected images. You can now access the reciprocal space image corrections and caked image corrections:\n",
    "\n",
    "Reciprocal Space Map:\n",
    "```python\n",
    "waxs_analysis.reciptiff_xr\n",
    "```\n",
    "\n",
    "Caked Image:\n",
    "```python\n",
    "waxs_analysis.cakedtiff_xr\n",
    "```"
   ]
  },
  {
   "cell_type": "code",
   "execution_count": null,
   "metadata": {},
   "outputs": [],
   "source": [
    "waxs_analysis.reciptiff_xr"
   ]
  },
  {
   "cell_type": "markdown",
   "metadata": {},
   "source": [
    "##### Note how we had to use the syntax:\n",
    "```python\n",
    "waxs_analysis.\n",
    "```\n",
    "##### to access the the data.\n",
    "This is how we access the instance that refers to your analysis project. You can have multiple instances coexist in the same notebook.\n",
    "\n",
    "Now, click the 'Attributes' dropdown above. We loaded the data into an XArray DataArray (DA). \n",
    "##### All of the keys listed above in the setup were used to extract your metadata from the filename."
   ]
  },
  {
   "cell_type": "markdown",
   "metadata": {},
   "source": [
    "### (2) Image Plotting Examples"
   ]
  },
  {
   "cell_type": "markdown",
   "metadata": {},
   "source": [
    "#### (a) Display Image (Generalized Plotting)"
   ]
  },
  {
   "cell_type": "code",
   "execution_count": null,
   "metadata": {},
   "outputs": [],
   "source": [
    "%matplotlib widget\n",
    "\n",
    "# -- Display the Caked Image\n",
    "# waxs_analysis.cakeddisplay_xr() # method 1\n",
    "\n",
    "# waxs_analysis.display_image(waxs_analysis.cakedtiff_xr, # method 2\n",
    "waxs_analysis.display_image(waxs_analysis.cakedtiff_xr, \n",
    "                            title='caked image', \n",
    "                            cmap='turbo')"
   ]
  },
  {
   "cell_type": "markdown",
   "metadata": {},
   "source": [
    "##### You can plot the data stored as attributes with one of a set of built-in methods, or a generalized method.\n",
    "\n",
    "Custom Method (Caked Image):\n",
    "```python\n",
    "waxs_analysis.cakeddisplay_xr()\n",
    "```\n",
    "General Method Equivalent:\n",
    "```python\n",
    "waxs_analysis.display_image(waxs_analysis.cakedtiff_xr, \n",
    "                            title='Caked Image', \n",
    "                            cmap='turbo')\n",
    "```"
   ]
  },
  {
   "cell_type": "markdown",
   "metadata": {},
   "source": [
    "#### (b) Quick Plotting Methods"
   ]
  },
  {
   "cell_type": "markdown",
   "metadata": {},
   "source": [
    "##### (i) Raw Data"
   ]
  },
  {
   "cell_type": "code",
   "execution_count": null,
   "metadata": {},
   "outputs": [],
   "source": [
    "%matplotlib widget\n",
    "waxs_analysis.rawdisplay_xr()\n",
    "# waxs_analysis.rawtiff_xr"
   ]
  },
  {
   "cell_type": "markdown",
   "metadata": {},
   "source": [
    "##### (ii) Reciprocal Space Map"
   ]
  },
  {
   "cell_type": "code",
   "execution_count": null,
   "metadata": {},
   "outputs": [],
   "source": [
    "%matplotlib widget\n",
    "waxs_analysis.recipdisplay_xr()\n",
    "# waxs_analysis.reciptiff_xr"
   ]
  },
  {
   "cell_type": "markdown",
   "metadata": {},
   "source": [
    "##### (iii) Caked Image"
   ]
  },
  {
   "cell_type": "code",
   "execution_count": null,
   "metadata": {},
   "outputs": [],
   "source": [
    "%matplotlib widget\n",
    "waxs_analysis.cakeddisplay_xr()\n",
    "# waxs_analysis.cakedtiff_xr"
   ]
  },
  {
   "cell_type": "markdown",
   "metadata": {},
   "source": [
    "### (3) 2D Image Processing Examples"
   ]
  },
  {
   "cell_type": "markdown",
   "metadata": {},
   "source": [
    "#### (a) Image Intensity Correction (sin(chi)) Example"
   ]
  },
  {
   "cell_type": "code",
   "execution_count": null,
   "metadata": {},
   "outputs": [],
   "source": [
    "%matplotlib widget\n",
    "\n",
    "cakedtiff_sinchi_xr = waxs_analysis.sinchi_corr(chicorr = True, \n",
    "                                                qsqr = False)\n",
    "\n",
    "waxs_analysis.display_image(waxs_analysis.cakedtiff_sinchi_xr, \n",
    "                            title='caked image, sin(chi) corrected', \n",
    "                            cmap='turbo')"
   ]
  },
  {
   "cell_type": "markdown",
   "metadata": {},
   "source": [
    "#### (b) Image Normalization Example"
   ]
  },
  {
   "cell_type": "code",
   "execution_count": null,
   "metadata": {},
   "outputs": [],
   "source": [
    "%matplotlib widget\n",
    "\n",
    "# Generate the normalized reciprocal space map image\n",
    "cakedtiff_xr_norm, (max_x, max_y) = waxs_analysis.normalize_image(img = waxs_analysis.cakedtiff_sinchi_xr, \n",
    "                                                  normalizerecip=False)\n",
    "\n",
    "# Check if the returned image is None or not of a compatible type\n",
    "if cakedtiff_xr_norm is None or not isinstance(cakedtiff_xr_norm, (np.ndarray, xr.DataArray)):\n",
    "    raise ValueError(\"The normalized image is None or not of a compatible type.\")\n",
    "\n",
    "print ('Maximum Intensity Pixel Coordinate: ', 'x: ', max_x, 'y: ', max_y)\n",
    "\n",
    "# Display the normalized image\n",
    "waxs_analysis.display_image(cakedtiff_xr_norm, \n",
    "                            title='caked, sin(chi) corrected, normalized', \n",
    "                            cmap='turbo')\n"
   ]
  },
  {
   "cell_type": "markdown",
   "metadata": {},
   "source": [
    "#### (c) Image Folding Example"
   ]
  },
  {
   "cell_type": "code",
   "execution_count": null,
   "metadata": {},
   "outputs": [],
   "source": [
    "# Create a WAXS_Analyze instance and test the fold_image method\n",
    "# waxs = WAXS_Analyze()\n",
    "# original_data = .cakedtiff_xr.copy()\n",
    "# folded_data = waxs.fold_image(waxs.cakedtiff_xr, 'chi')\n",
    "\n",
    "original_data = cakedtiff_xr_norm\n",
    "# original_data = waxs_analysis.cakedtiff_xr\n",
    "folded_data = waxs_analysis.fold_image(original_data, 'chi')\n",
    "\n",
    "# Display the original and folded data for validation\n",
    "# original_data, folded_data\n",
    "\n",
    "waxs_analysis.display_image(folded_data, \n",
    "                            title='caked, sin(chi) corrected, normalized, folded', \n",
    "                            cmap='turbo')"
   ]
  },
  {
   "cell_type": "markdown",
   "metadata": {},
   "source": [
    "#### (d) Image Interpolation Example"
   ]
  },
  {
   "cell_type": "code",
   "execution_count": null,
   "metadata": {},
   "outputs": [],
   "source": [
    "import matplotlib.pyplot as plt\n",
    "\n",
    "%matplotlib widget\n",
    "\n",
    "data = folded_data\n",
    "\n",
    "interpolator = ImageInterpolator()\n",
    "data = interpolator.simple_interpolate(data, 'horizontal', 'slinear')\n",
    "data = interpolator.simple_interpolate(data, 'vertical', 'slinear')\n",
    "# data = interpolator.patch_interpolate(data)\n",
    "\n",
    "# interpolator.save_dataarray_to_netcdf(interpolated_img, 'test_file')\n",
    "\n",
    "waxs_analysis.display_image(data, \n",
    "                            title='interpolated', \n",
    "                            cmap='turbo')\n",
    "\n",
    "''' # -- Testing Different Interpolation Algorithms\n",
    "# interpolated_img = interpolator.patch_interpolate(data)\n",
    "# interp_horizontal = interpolator.linear_interpolate(data, 'horizontal')\n",
    "# interp_vertical = interpolator.linear_interpolate(data, 'vertical')\n",
    "# interpolated = interpolator.simple_interpolate(data, 'vertical', 'linear')\n",
    "\n",
    "# # Create an instance of the ImageInterpolator class\n",
    "# interpolator = ImageInterpolator()\n",
    "\n",
    "# # Define methods and directions\n",
    "# # methods = [\"linear\", \"nearest\", \"zero\", \"slinear\", \"quadratic\", \"cubic\",\n",
    "# #            \"polynomial\", \"barycentric\", \"krog\", \"pchip\", \"spline\", \"akima\"]\n",
    "# methods = [\"linear\", \"nearest\", \"zero\", \"slinear\", \"akima\"]\n",
    "# directions = [\"vertical\", \"horizontal\"]\n",
    "\n",
    "# # Let's visualize all the interpolated results to understand how each method performs.\n",
    "\n",
    "# # Dictionary to store the results\n",
    "# interpolated_results = {}\n",
    "\n",
    "# # Iterate through all combinations of methods and directions to perform interpolation\n",
    "# for method in methods:\n",
    "#     for direction in directions:\n",
    "#         try:\n",
    "#             interpolated_img = interpolator.simple_interpolate(data.copy(), direction, method)\n",
    "#             key = f\"{method}_{direction}\"\n",
    "#             interpolated_results[key] = interpolated_img\n",
    "#         except Exception as e:\n",
    "#             print(f\"Skipped {method} in {direction} direction due to error: {e}\")\n",
    "\n",
    "# # Let's visualize all the interpolated results to understand how each method performs.\n",
    "# fig, axes = plt.subplots(len(methods), len(directions), figsize=(20, 40))\n",
    "# axes = axes.flatten()\n",
    "\n",
    "# for i, (key, data) in enumerate(interpolated_results.items()):\n",
    "#     ax = axes[i]\n",
    "#     data.plot(ax=ax, add_colorbar=False, cmap='turbo')\n",
    "#     ax.set_title(f\"Method: {key}\")\n",
    "\n",
    "# plt.tight_layout()\n",
    "# plt.show()\n",
    "'''"
   ]
  },
  {
   "cell_type": "markdown",
   "metadata": {},
   "source": [
    "#### (e) Image Smoothing Example"
   ]
  },
  {
   "cell_type": "code",
   "execution_count": null,
   "metadata": {},
   "outputs": [],
   "source": [
    "%matplotlib widget\n",
    "# import matplotlib.pyplot as plt\n",
    "# from matplotlib.colors import LogNorm\n",
    "# cmap = plt.cm.turbo\n",
    "# cmap.set_bad('black')\n",
    "\n",
    "waxs_analysis.smooth_image(folded_data, method='gaussian', sigma=1e-6)\n",
    "\n",
    "smoothed_image, (max_x, max_y) = waxs_analysis.normalize_image(img = waxs_analysis.smoothed_img, normalizerecip=False)\n",
    "\n",
    "print ('Maximum Intensity Pixel Coordinate: ', 'x: ', max_x, 'y: ', max_y)\n",
    "\n",
    "# Display the smoothed image with appropriate coordinates using the 'display_image' method\n",
    "# plt = waxs_analysis.display_image(waxs_analysis.smoothed_img, \n",
    "waxs_analysis.display_image(waxs_analysis.smoothed_img, \n",
    "                            title='caked, sin(chi) corrected, normalized, folded, smoothed', \n",
    "                            cmap='turbo')\n"
   ]
  },
  {
   "cell_type": "markdown",
   "metadata": {},
   "source": [
    "#### (f) 2D Image Peak Finding Example"
   ]
  },
  {
   "cell_type": "code",
   "execution_count": null,
   "metadata": {},
   "outputs": [],
   "source": [
    "%matplotlib widget\n",
    "\n",
    "data = None\n",
    "data = folded_data\n",
    "# Find peaks (implement the actual peak-finding logic in the find_peaks method)\n",
    "\n",
    "data = waxs_analysis.find_peaks_DoG (data, \n",
    "                                     sigma1=.4, \n",
    "                                     sigma2=2, \n",
    "                                     threshold=0.008, \n",
    "                                     clustering_method='HDBSCAN', \n",
    "                                     eps=1, \n",
    "                                     min_samples=2, \n",
    "                                     k=3, \n",
    "                                     radius=5)\n",
    "\n",
    "# Display image with peaks\n",
    "waxs_analysis.display_image_with_peaks_and_DoG(data,\n",
    "                                       title='peak finder', \n",
    "                                       cmap='turbo')"
   ]
  },
  {
   "cell_type": "markdown",
   "metadata": {},
   "source": [
    "### (4) 1D Data Reduction (Integration)"
   ]
  },
  {
   "cell_type": "code",
   "execution_count": null,
   "metadata": {},
   "outputs": [],
   "source": [
    "%matplotlib widget\n",
    "import matplotlib.pyplot as plt\n",
    "from matplotlib.colors import LogNorm\n",
    "cmap = plt.cm.turbo\n",
    "cmap.set_bad('black')\n",
    "plt.close('all')\n",
    "\n",
    "# DA = waxs_analysis.cakedtiff_xr\n",
    "# DA = cakedtiff_sinchi_xr\n",
    "DA = waxs_analysis.smoothed_img\n",
    "# DA, (max_x, max_y) = waxs_analysis.normalize_image(img = waxs_analysis.cakedtiff_xr, normalizerecip=False)\n",
    "\n",
    "colors = cmap(np.linspace(0,1,10))\n",
    "# fig, axs = plt.subplots(1, 2, figsize=(9,3))\n",
    "# plot.line(ax=axs[0], color=colors[i])\n",
    "\n",
    "axs = DA.sum('chi').sel(method='nearest').sel(qr=slice(0.2,3)).plot.line(color=colors[9])\n",
    "plt.show()"
   ]
  },
  {
   "cell_type": "markdown",
   "metadata": {},
   "source": [
    "### (5) Saving/Exporting & Loading Project Sessions"
   ]
  },
  {
   "cell_type": "markdown",
   "metadata": {},
   "source": [
    "#### (a) Exporting a Project"
   ]
  },
  {
   "cell_type": "code",
   "execution_count": null,
   "metadata": {},
   "outputs": [],
   "source": [
    "basePath = pathlib.Path('/Users/keithwhite/github_repositories/pyWAXS/examples')\n",
    "zarrPath = basePath.joinpath('output_files/zarr_files')\n",
    "projectName = 'test_project'\n",
    "waxs_analysis.exportzarr(zarrPath=zarrPath, projectName=projectName)"
   ]
  },
  {
   "cell_type": "markdown",
   "metadata": {},
   "source": [
    "#### (b) Load an Existing Project"
   ]
  },
  {
   "cell_type": "code",
   "execution_count": null,
   "metadata": {},
   "outputs": [],
   "source": [
    "basePath = pathlib.Path('/Users/keithwhite/github_repositories/pyWAXS/examples')\n",
    "zarrPath = basePath.joinpath('output_files/zarr_files')\n",
    "projectName = 'test_project'\n",
    "waxs_analysis = WAXSReduce(zarrPath = zarrPath, projectName = projectName)"
   ]
  },
  {
   "cell_type": "markdown",
   "metadata": {},
   "source": [
    "## Additional Examples"
   ]
  },
  {
   "cell_type": "markdown",
   "metadata": {},
   "source": [
    "#### Smoothing Image"
   ]
  },
  {
   "cell_type": "code",
   "execution_count": null,
   "metadata": {},
   "outputs": [],
   "source": [
    "%matplotlib widget\n",
    "\n",
    "# Smooth the image using the 'smooth_image' method\n",
    "# smoothed_image = waxs_analysis.smooth_image(waxs_analysis.reciptiff_xr.values, \n",
    "#                                             method='gaussian', \n",
    "#                                             sigma=.05)\n",
    "\n",
    "smoothed_image = waxs_analysis.smooth_image(waxs_analysis.reciptiff_xr, \n",
    "                                            method='gaussian', \n",
    "                                            sigma=1)\n",
    "# smoothed_image = waxs_analysis.normalize_image()\n",
    "# smoothed_image = waxs_analysis.smooth_image(smoothed_image, method='total_variation', sigma=100)\n",
    "\n",
    "# Display the smoothed image with appropriate coordinates using the 'display_image' method\n",
    "waxs_analysis.display_image(smoothed_image, \n",
    "                            title='Smoothed Image', \n",
    "                            cmap='jet')\n"
   ]
  },
  {
   "cell_type": "markdown",
   "metadata": {},
   "source": [
    "#### Signal-to-Noise Calculation"
   ]
  },
  {
   "cell_type": "code",
   "execution_count": null,
   "metadata": {},
   "outputs": [],
   "source": [
    "smoothed_image = waxs_analysis.calculate_SNR(smoothed_image)\n",
    "# waxs_analysis.snrtemp\n",
    "waxs_analysis.reciptiff_xr.SNR"
   ]
  },
  {
   "cell_type": "markdown",
   "metadata": {},
   "source": [
    "#### Create a Class to Compare Simulated (.int) Files to Real Data"
   ]
  },
  {
   "cell_type": "code",
   "execution_count": null,
   "metadata": {},
   "outputs": [],
   "source": [
    "from scipy.signal import find_peaks\n",
    "from scipy.optimize import curve_fit\n",
    "from scipy.interpolate import interp1d\n",
    "from scipy.optimize import minimize\n",
    "import matplotlib.pyplot as plt\n",
    "from pathlib import Path\n",
    "import numpy as np\n",
    "import pandas as pd\n",
    "\n",
    "def gaussian(x, A, mu, sigma):\n",
    "    return A * np.exp(-(x - mu)**2 / (2 * sigma**2))\n",
    "\n",
    "def lorentzian(x, A, mu, gamma):\n",
    "    return A * (1 / np.pi) * (gamma / ((x - mu)**2 + gamma**2))\n",
    "\n",
    "def pseudo_voigt(x, A, mu, sigma, gamma, eta):\n",
    "    return eta * gaussian(x, A, mu, sigma) + (1 - eta) * lorentzian(x, A, mu, gamma)\n",
    "\n",
    "class TraceComparison:\n",
    "    def __init__(self, trace1, trace2):\n",
    "        self.trace1 = trace1\n",
    "        self.trace2 = trace2\n",
    "        self.background_params = None\n",
    "        self.optimized_background = pd.Series(dtype='float64')\n",
    "    \n",
    "    def normalize_to_max(self):\n",
    "        max1 = self.trace1['intensity'].max()\n",
    "        max2 = self.trace2['intensity'].max()\n",
    "        self.trace1.loc[:, 'intensity'] /= max1\n",
    "        self.trace2.loc[:, 'intensity'] /= max2\n",
    "\n",
    "    def normalize_to_baseline(self, q_min, q_max):\n",
    "        baseline1 = self.trace1[(self.trace1['q'] >= q_min) & (self.trace1['q'] <= q_max)]['intensity'].mean()\n",
    "        baseline2 = self.trace2[(self.trace2['q'] >= q_min) & (self.trace2['q'] <= q_max)]['intensity'].mean()\n",
    "        self.trace1['intensity'] /= baseline1\n",
    "        self.trace2['intensity'] /= baseline2\n",
    "\n",
    "    def find_peaks(self, height, distance):\n",
    "        self.peaks1, _ = find_peaks(self.trace1['intensity'], height=height, distance=distance)\n",
    "        self.peaks2, _ = find_peaks(self.trace2['intensity'], height=height, distance=distance)\n",
    "\n",
    "    def compare_peak_widths(self):\n",
    "        self.widths1 = self.trace1.iloc[self.peaks1]['q'].values\n",
    "        self.widths2 = self.trace2.iloc[self.peaks2]['q'].values\n",
    "\n",
    "    def calculate_residual(self):\n",
    "        # Create interpolation functions for the intensity values based on 'q'\n",
    "        f1 = interp1d(self.trace1['q'], self.trace1['intensity'], kind='linear', fill_value=\"extrapolate\")\n",
    "        f2 = interp1d(self.trace2['q'], self.trace2['intensity'], kind='linear', fill_value=\"extrapolate\")\n",
    "\n",
    "        # Create a common 'q' range\n",
    "        common_q = np.linspace(max(self.trace1['q'].min(), self.trace2['q'].min()),\n",
    "                            min(self.trace1['q'].max(), self.trace2['q'].max()),\n",
    "                            num=max(len(self.trace1['q']), len(self.trace2['q'])))\n",
    "\n",
    "        # Interpolate the intensity values to the common 'q' range\n",
    "        common_intensity1 = f1(common_q)\n",
    "        common_intensity2 = f2(common_q)\n",
    "\n",
    "        # Calculate the residual\n",
    "        self.residual = pd.Series(common_intensity1 - common_intensity2, index=common_q, name='residual')\n",
    "\n",
    "    def minimize_residual(self):\n",
    "        min_q = max(self.trace1['q'].min(), self.trace2['q'].min())\n",
    "        max_q = min(self.trace1['q'].max(), self.trace2['q'].max())\n",
    "        common_range = (self.trace1['q'] >= min_q) & (self.trace1['q'] <= max_q)\n",
    "        \n",
    "        x = self.trace1.loc[common_range, 'q']\n",
    "        y1 = self.trace1.loc[common_range, 'intensity']\n",
    "        y2 = self.trace2.loc[common_range, 'intensity']\n",
    "\n",
    "        params, _ = curve_fit(pseudo_voigt, x, y1 - y2)\n",
    "        self.fitted_curve = pseudo_voigt(x, *params)\n",
    "        self.residual = y1 - (y2 + self.fitted_curve)\n",
    "\n",
    "    def optimize_background(self):\n",
    "        def objective(params):\n",
    "            noise_level, slope, intercept = params\n",
    "            background = noise_level + slope * self.trace2['q'] + intercept\n",
    "            modified_trace2 = self.trace2['intensity'] + background\n",
    "            f1 = interp1d(self.trace1['q'], self.trace1['intensity'], kind='linear', fill_value=\"extrapolate\")\n",
    "            f2 = interp1d(self.trace2['q'], modified_trace2, kind='linear', fill_value=\"extrapolate\")\n",
    "\n",
    "            # Define a common 'q' range\n",
    "            common_q = np.linspace(max(self.trace1['q'].min(), self.trace2['q'].min()),\n",
    "                                   min(self.trace1['q'].max(), self.trace2['q'].max()),\n",
    "                                   num=max(len(self.trace1['q']), len(self.trace2['q'])))\n",
    "\n",
    "            residual = f1(common_q) - f2(common_q)\n",
    "            return np.sum(residual ** 2)\n",
    "\n",
    "        initial_guess = [0, 0, 0] if self.background_params is None else self.background_params\n",
    "        result = minimize(objective, initial_guess, method='L-BFGS-B')\n",
    "        self.background_params = result.x\n",
    "\n",
    "        # Apply the optimized background to the trace intensities\n",
    "        self.optimized_background = self.background_params[0] + self.background_params[1] * self.trace2['q'] + self.background_params[2]\n",
    "        self.trace2.loc[:, 'intensity'] += self.optimized_background\n",
    "        self.trace2.loc[:, 'background'] = self.optimized_background  # Store the background in the DataFrame\n",
    "\n",
    "        self.calculate_residual()\n",
    "        \n",
    "    def plot_normalization(self):\n",
    "        plt.figure()\n",
    "        plt.plot(self.trace1['q'], self.trace1['intensity'], label='Trace 1')\n",
    "        plt.plot(self.trace2['q'], self.trace2['intensity'], label='Trace 2')\n",
    "        plt.title('Normalized Traces')\n",
    "        plt.xlabel('q')\n",
    "        plt.ylabel('Intensity')\n",
    "        plt.legend()\n",
    "        plt.show()\n",
    "        \n",
    "    def plot_peaks(self):\n",
    "        plt.figure()\n",
    "        plt.plot(self.trace1['q'], self.trace1['intensity'], label='Trace 1')\n",
    "        plt.plot(self.trace1['q'].iloc[self.peaks1], self.trace1['intensity'].iloc[self.peaks1], 'x', label='Peaks 1')\n",
    "        plt.plot(self.trace2['q'], self.trace2['intensity'], label='Trace 2')\n",
    "        plt.plot(self.trace2['q'].iloc[self.peaks2], self.trace2['intensity'].iloc[self.peaks2], 'o', label='Peaks 2')\n",
    "        plt.title('Peak Positions')\n",
    "        plt.xlabel('q')\n",
    "        plt.ylabel('Intensity')\n",
    "        plt.legend()\n",
    "        plt.show()\n",
    "        \n",
    "    def plot_residual(self):\n",
    "        plt.figure()\n",
    "        plt.plot(self.trace1.loc[self.residual.index, 'q'], self.residual, label='Residual')\n",
    "        plt.title('Residual Between Traces')\n",
    "        plt.xlabel('q')\n",
    "        plt.ylabel('Intensity Difference')\n",
    "        plt.legend()\n",
    "        plt.show()\n",
    "        \n",
    "    def plot_minimization(self):\n",
    "        plt.figure()\n",
    "        plt.plot(self.trace1['q'], self.residual + self.fitted_curve, label='Fitted Curve')\n",
    "        plt.plot(self.trace1['q'], self.residual, label='Original Residual')\n",
    "        plt.title('Minimized Residual')\n",
    "        plt.xlabel('q')\n",
    "        plt.ylabel('Intensity Difference')\n",
    "        plt.legend()\n",
    "        plt.show()\n",
    "\n",
    "    def save_traces_to_csv(self, trace1_filename, trace2_filename, savepath=None):\n",
    "        if savepath:\n",
    "            savepath = Path(savepath)\n",
    "            savepath.mkdir(parents=True, exist_ok=True)\n",
    "            trace1_filepath = savepath / trace1_filename\n",
    "            trace2_filepath = savepath / trace2_filename\n",
    "        else:\n",
    "            trace1_filepath = trace1_filename\n",
    "            trace2_filepath = trace2_filename\n",
    "        \n",
    "        self.trace1.to_csv(trace1_filepath, index=False)\n",
    "        self.trace2.to_csv(trace2_filepath, index=False)\n",
    "\n",
    "    @classmethod\n",
    "    def load_and_plot_traces(cls, trace1_path, trace2_path, savepath=None):\n",
    "        trace1 = pd.read_csv(trace1_path)\n",
    "        trace2 = pd.read_csv(trace2_path)\n",
    "\n",
    "        plt.figure(figsize=(6, 4))\n",
    "        plt.plot(trace1['q'], trace1['intensity'], label='Trace 1')\n",
    "        plt.plot(trace2['q'], trace2['intensity'], label='Trace 2')\n",
    "        plt.xlabel('q')\n",
    "        plt.ylabel('Intensity')\n",
    "        plt.legend()\n",
    "        plt.title('Loaded Traces')\n",
    "        \n",
    "        if savepath:\n",
    "            savepath = Path(savepath)\n",
    "            plt.savefig(savepath)\n",
    "        \n",
    "        plt.show()"
   ]
  },
  {
   "cell_type": "code",
   "execution_count": null,
   "metadata": {},
   "outputs": [],
   "source": []
  },
  {
   "cell_type": "code",
   "execution_count": null,
   "metadata": {},
   "outputs": [],
   "source": [
    "# Initialize the TraceComparison object\n",
    "bbox_df = pd.DataFrame({'q': waxs_analysis.integrate1d_da.qr.values, 'intensity': waxs_analysis.integrate1d_da.values})\n",
    "\n",
    "# Filter out data below q-value of 0.5\n",
    "bbox_df = bbox_df[bbox_df['q'] >= 0.5]\n",
    "filtered_data = filtered_data[filtered_data['q'] >= 0.5]\n",
    "\n",
    "# Initialize the TraceComparison object and perform calculations\n",
    "comparison = TraceComparison(bbox_df, filtered_data)\n",
    "comparison.normalize_to_max()\n",
    "comparison.calculate_residual()\n",
    "\n",
    "# Plot initial comparison and residual\n",
    "plt.figure(figsize=(6, 10))\n",
    "\n",
    "# Plot the normalized traces\n",
    "plt.subplot(4, 1, 1)\n",
    "plt.plot(comparison.trace1['q'], comparison.trace1['intensity'], label='pygix bbox (Normalized)', color='b')\n",
    "plt.plot(comparison.trace2['q'], comparison.trace2['intensity'], label='Loaded .int File (Normalized)', color='g')\n",
    "plt.title('Initial Comparison of Traces')\n",
    "plt.xlabel('q')\n",
    "plt.ylabel('Intensity')\n",
    "plt.legend()\n",
    "\n",
    "# Plot the initial residual\n",
    "plt.subplot(4, 1, 2)\n",
    "plt.plot(comparison.residual.index, comparison.residual.values, label='Initial Residual', color='r')\n",
    "plt.title('Initial Residual')\n",
    "plt.xlabel('q')\n",
    "plt.ylabel('Intensity Difference')\n",
    "plt.legend()\n",
    "\n",
    "# Optimize the background\n",
    "comparison.optimize_background()\n",
    "\n",
    "# Plot the normalized traces with optimized background\n",
    "plt.subplot(4, 1, 3)\n",
    "plt.plot(comparison.trace1['q'], comparison.trace1['intensity'], label='pygix bbox (Normalized)', color='b')\n",
    "plt.plot(comparison.trace2['q'], comparison.trace2['intensity'], label='Loaded .int File (Normalized)', color='g')\n",
    "plt.title('Comparison of Traces (With Optimized Background)')\n",
    "plt.xlabel('q')\n",
    "plt.ylabel('Intensity')\n",
    "plt.legend()\n",
    "\n",
    "# Plot the new residual\n",
    "plt.subplot(4, 1, 4)\n",
    "plt.plot(comparison.residual.index, comparison.residual.values, label='New Residual', color='r')\n",
    "plt.title('New Residual')\n",
    "plt.xlabel('q')\n",
    "plt.ylabel('Intensity Difference')\n",
    "plt.legend()\n",
    "\n",
    "# Adjust layout to prevent overlap\n",
    "plt.tight_layout()\n",
    "\n",
    "plt.show()\n",
    "\n",
    "# Initialize the TraceComparison object and perform calculations\n",
    "# comparison = TraceComparison(bbox_df, filtered_data)\n",
    "# comparison.normalize_to_max()\n",
    "# comparison.calculate_residual()\n",
    "\n",
    "# # Save the traces for debugging\n",
    "# comparison.save_traces_to_csv('trace1.csv', 'trace2.csv', savepath=savepath)"
   ]
  },
  {
   "cell_type": "code",
   "execution_count": null,
   "metadata": {},
   "outputs": [],
   "source": [
    "# Correct file paths\n",
    "trace1_path = Path('/Users/keithwhite/github_repositories/pyWAXS/examples_local/projects/LaB6_SRM660c_Calib/analysis/simulation/trace1_saved.csv')\n",
    "trace2_path = Path('/Users/keithwhite/github_repositories/pyWAXS/examples_local/projects/LaB6_SRM660c_Calib/analysis/simulation/trace2_saved.csv')\n",
    "\n",
    "# Load and plot the traces\n",
    "TraceComparison.load_and_plot_traces(trace1_path, trace2_path)"
   ]
  },
  {
   "cell_type": "markdown",
   "metadata": {},
   "source": [
    "#### Developing Image Stitching Class"
   ]
  },
  {
   "cell_type": "code",
   "execution_count": null,
   "metadata": {},
   "outputs": [],
   "source": [
    "# Required module imports for the ImageStitching class\n",
    "from pathlib import Path\n",
    "from typing import List, Tuple\n",
    "from skimage import io, feature, color\n",
    "import numpy as np\n",
    "import matplotlib.pyplot as plt\n",
    "from skimage.feature import corner_harris, corner_peaks\n",
    "import cv2\n",
    "\n",
    "class ImageStitching:\n",
    "    def __init__(self, files: List[Path]):\n",
    "        self.files = files\n",
    "        self.images_original = []\n",
    "        self.images_gray = []\n",
    "        self.keypoints_list = []\n",
    "        self.load_and_preprocess_images()\n",
    "\n",
    "    @staticmethod\n",
    "    def convert_to_8bit(image):\n",
    "        image_norm = (image - np.min(image)) / (np.max(image) - np.min(image))\n",
    "        return (image_norm * 255).astype(np.uint8)\n",
    "    \n",
    "    def load_and_preprocess_images(self):\n",
    "        for file in self.files:\n",
    "            image_original = io.imread(file)\n",
    "            self.images_original.append(image_original)\n",
    "            \n",
    "            if len(image_original.shape) == 3:\n",
    "                image_gray = color.rgb2gray(image_original)\n",
    "            else:\n",
    "                image_gray = image_original\n",
    "            \n",
    "            image_gray = self.convert_to_8bit(image_gray)\n",
    "            self.images_gray.append(image_gray)\n",
    "\n",
    "    def find_sift_keypoints(self):\n",
    "        self.keypoints_list = []\n",
    "        for i, image_gray in enumerate(self.images_gray):\n",
    "            keypoints, _ = self.detect_features(image_gray)\n",
    "            keypoints = np.array([kp.pt for kp in keypoints])\n",
    "            self.keypoints_list.append(keypoints)\n",
    "\n",
    "    @staticmethod\n",
    "    def detect_features(image):\n",
    "        sift = cv2.SIFT_create()\n",
    "        return sift.detectAndCompute(image, None)\n",
    "    \n",
    "    '''\n",
    "    def display_keypoints(self, index: int, title='Image', cmap='turbo'):\n",
    "        img_values = self.images_gray[index]\n",
    "        keypoints = self.keypoints_list[index]\n",
    "        \n",
    "        vmin = np.nanpercentile(img_values, 10)\n",
    "        vmax = np.nanpercentile(img_values, 99)\n",
    "    \n",
    "        plt.imshow(np.flipud(img_values),\n",
    "                   cmap=cmap,\n",
    "                   vmin=vmin,\n",
    "                   vmax=vmax,\n",
    "                   aspect='auto')\n",
    "        \n",
    "        # Draw keypoints on top of the image\n",
    "        for keypoint in keypoints:\n",
    "            x, y = keypoint\n",
    "            plt.scatter(x, y, s=10, c='red', marker='o')\n",
    "        \n",
    "        plt.title(title)\n",
    "        plt.xlabel('x')\n",
    "        plt.ylabel('y')\n",
    "        plt.colorbar()\n",
    "        plt.show()\n",
    "    '''\n",
    "    \n",
    "    def display_keypoints(self, index: int, title='Image', cmap='turbo'):\n",
    "        # plt.close('all')\n",
    "        img_values = self.images_gray[index]\n",
    "        keypoints = self.keypoints_list[index]\n",
    "        \n",
    "        vmin = np.nanpercentile(img_values, 10)\n",
    "        vmax = np.nanpercentile(img_values, 99)\n",
    "    \n",
    "        plt.imshow(np.flipud(img_values),\n",
    "                   cmap=cmap,\n",
    "                   vmin=vmin,\n",
    "                   vmax=vmax,\n",
    "                   aspect='auto')\n",
    "        \n",
    "        # Draw keypoints on top of the image\n",
    "        for keypoint in keypoints:\n",
    "            x, y = keypoint\n",
    "            plt.scatter(x, y, s=10, c='red', marker='o')\n",
    "        \n",
    "        plt.title(title)\n",
    "        plt.xlabel('x')\n",
    "        plt.ylabel('y')\n",
    "        plt.colorbar()\n",
    "        plt.show()\n",
    "    \n",
    "    def find_keypoints(self, n_keypoints: int = 5000, fast_threshold: float = 0.01):\n",
    "        for image_gray in self.images_gray:\n",
    "            orb = feature.ORB(n_keypoints=n_keypoints, fast_threshold=fast_threshold)\n",
    "            orb.detect_and_extract(image_gray)\n",
    "            self.keypoints_list.append(orb.keypoints)\n",
    "\n",
    "    def plot_original(self, index: int):\n",
    "        image = self.images_original[index]\n",
    "        vmin, vmax = np.nanpercentile(image, [10, 99])\n",
    "        plt.imshow(image, cmap='turbo', vmin=vmin, vmax=vmax)\n",
    "        plt.title(\"Original Image\")\n",
    "        plt.show()\n",
    "        \n",
    "    def plot_keypoints(self, index: int):\n",
    "        image = self.images_original[index]\n",
    "        keypoints = self.keypoints_list[index]\n",
    "        vmin, vmax = np.nanpercentile(image, [10, 99])\n",
    "        plt.imshow(image, cmap='turbo', vmin=vmin, vmax=vmax)\n",
    "        plt.plot(keypoints[:, 1], keypoints[:, 0], 'r.', markersize=5)\n",
    "        plt.title(\"Keypoints\")\n",
    "        plt.show()\n",
    "        \n",
    "    def find_harris_keypoints(self, min_distance: int = 5):\n",
    "        self.keypoints_list = []\n",
    "        for image_gray in self.images_gray:\n",
    "            harris_response = corner_harris(image_gray)\n",
    "            keypoints = corner_peaks(harris_response, min_distance=min_distance)\n",
    "            self.keypoints_list.append(keypoints)\n",
    "\n",
    "    def plot_original_with_keypoints(self, index: int):\n",
    "        fig, axs = plt.subplots(1, 2, figsize=(12, 6))\n",
    "        \n",
    "        # Original Image\n",
    "        image = self.images_original[index]\n",
    "        vmin, vmax = np.nanpercentile(image, [10, 99])\n",
    "        axs[0].imshow(image, cmap='turbo', vmin=vmin, vmax=vmax)\n",
    "        axs[0].set_title(\"Original Image\")\n",
    "        \n",
    "        # Keypoints\n",
    "        keypoints = self.keypoints_list[index]\n",
    "        axs[1].imshow(image, cmap='turbo', vmin=vmin, vmax=vmax)\n",
    "        axs[1].plot(keypoints[:, 1], keypoints[:, 0], 'r.', markersize=5)\n",
    "        axs[1].set_title(\"Keypoints\")\n",
    "        \n",
    "        plt.tight_layout()\n",
    "        plt.show()\n",
    "\n",
    "    def plot_sift_keypoints(self, index: int):\n",
    "        fig, axs = plt.subplots(1, 2, figsize=(12, 6))\n",
    "        \n",
    "        # Original Image\n",
    "        image = self.images_original[index]\n",
    "        vmin, vmax = np.nanpercentile(image, [10, 99])\n",
    "        axs[0].imshow(image, cmap='turbo', vmin=vmin, vmax=vmax)\n",
    "        axs[0].set_title(\"Original Image\")\n",
    "        \n",
    "        # SIFT Keypoints\n",
    "        keypoints = self.keypoints_list[index]\n",
    "        print(f\"Plotting Image {index}: Keypoints shape: {keypoints.shape}\")  # Add debug print\n",
    "        axs[1].imshow(image, cmap='turbo', vmin=vmin, vmax=vmax)\n",
    "        # axs[1].plot(keypoints[:, 0], keypoints[:, 1], 'r.', markersize=5)  # Corrected indexing\n",
    "        axs[1].plot(keypoints[:, 1], keypoints[:, 0], 'r.', markersize=5)\n",
    "        axs[1].set_title(\"SIFT Keypoints\")\n",
    "        \n",
    "        plt.tight_layout()\n",
    "        plt.show()"
   ]
  },
  {
   "cell_type": "code",
   "execution_count": null,
   "metadata": {},
   "outputs": [],
   "source": [
    "from pathlib import Path\n",
    "\n",
    "# Initialize the class and find keypoints with local file paths for the example\n",
    "files = [\n",
    "    Path(\"/Users/keithwhite/github_repositories/pyWAXS/examples_local/projects/1MAI_3PbI2_DMF_1M_jun23/stitch/sam16_3mai1pbi2_dmf_1m_5scfh_Si_40uL_010_2356.6s_x-0.001_th0.300_10.00s_1116233_maxs.tiff\"),\n",
    "    Path(\"/Users/keithwhite/github_repositories/pyWAXS/examples_local/projects/1MAI_3PbI2_DMF_1M_jun23/stitch/sam16_3mai1pbi2_dmf_1m_5scfh_Si_40uL_010_2461.2s_x-0.001_th0.300_10.00s_1116234_maxs.tiff\")\n",
    "]\n",
    "\n",
    "stitcher_sift = ImageStitching(files)\n",
    "\n",
    "plt.close('all')\n",
    "\n",
    "# Find and visualize SIFT keypoints\n",
    "stitcher_sift.find_sift_keypoints()\n",
    "stitcher_sift.display_keypoints(0, title='Image 1')\n",
    "# stitcher_sift.display_keypoints(1, title='Image 2')"
   ]
  },
  {
   "cell_type": "code",
   "execution_count": null,
   "metadata": {},
   "outputs": [],
   "source": [
    "stitcher_sift.display_keypoints(1, title='Image 2')"
   ]
  },
  {
   "cell_type": "code",
   "execution_count": null,
   "metadata": {},
   "outputs": [],
   "source": [
    "# Check if xfeatures2d module is available\n",
    "sift_available = \"xfeatures2d\" in cv2.__dict__\n",
    "if sift_available:\n",
    "    print(\"SIFT is available in OpenCV.\")\n",
    "else:\n",
    "    print(\"SIFT is not available in OpenCV.\")\n"
   ]
  },
  {
   "cell_type": "code",
   "execution_count": null,
   "metadata": {},
   "outputs": [],
   "source": [
    "# Initialize the class and find keypoints with local file paths for the example\n",
    "files = [\n",
    "    Path(\"/Users/keithwhite/github_repositories/pyWAXS/examples_local/projects/1MAI_3PbI2_DMF_1M_jun23/stitch/sam16_3mai1pbi2_dmf_1m_5scfh_Si_40uL_010_2356.6s_x-0.001_th0.300_10.00s_1116233_maxs.tiff\"),\n",
    "    Path(\"/Users/keithwhite/github_repositories/pyWAXS/examples_local/projects/1MAI_3PbI2_DMF_1M_jun23/stitch/sam16_3mai1pbi2_dmf_1m_5scfh_Si_40uL_010_2461.2s_x-0.001_th0.300_10.00s_1116234_maxs.tiff\")\n",
    "]\n",
    "\n",
    "# Initialize the class and find SIFT keypoints\n",
    "stitcher_sift = ImageStitching(files)\n",
    "stitcher_sift.find_sift_keypoints()\n",
    "\n",
    "# Test the new plotting method for SIFT keypoints\n",
    "stitcher_sift.plot_sift_keypoints(0)\n"
   ]
  },
  {
   "cell_type": "code",
   "execution_count": null,
   "metadata": {},
   "outputs": [],
   "source": [
    "# Initialize the class and find keypoints with local file paths for the example\n",
    "files = [\n",
    "    Path(\"/Users/keithwhite/github_repositories/pyWAXS/examples_local/projects/1MAI_3PbI2_DMF_1M_jun23/stitch/sam16_3mai1pbi2_dmf_1m_5scfh_Si_40uL_010_2356.6s_x-0.001_th0.300_10.00s_1116233_maxs.tiff\"),\n",
    "    Path(\"/Users/keithwhite/github_repositories/pyWAXS/examples_local/projects/1MAI_3PbI2_DMF_1M_jun23/stitch/sam16_3mai1pbi2_dmf_1m_5scfh_Si_40uL_010_2461.2s_x-0.001_th0.300_10.00s_1116234_maxs.tiff\")\n",
    "]\n",
    "\n",
    "# Initialize the class and find SIFT keypoints\n",
    "stitcher_sift = ImageStitching(files)\n",
    "stitcher_sift.find_sift_keypoints()\n",
    "\n",
    "# Test the new plotting method for SIFT keypoints\n",
    "stitcher_sift.plot_sift_keypoints(0)\n",
    "\n",
    "# Example usage\n",
    "# stitcher_example = ImageStitching(local_files)\n",
    "# stitcher_example.find_keypoints()\n",
    "\n",
    "# Note: The actual images won't be loaded in this environment due to path constraints. This is just for demonstration.\n",
    "# stitcher_example.files\n",
    "# Re-initialize the class and find keypoints with the initially uploaded files (as local files are not accessible here)\n",
    "\n",
    "# Test the plotting methods\n",
    "# stitcher_example.plot_original(0)\n",
    "# stitcher_example.plot_keypoints(0)\n",
    "# stitcher_example.plot_original_with_keypoints(0)\n"
   ]
  },
  {
   "cell_type": "markdown",
   "metadata": {},
   "source": [
    "#### Image Processer Class"
   ]
  },
  {
   "cell_type": "code",
   "execution_count": null,
   "metadata": {},
   "outputs": [],
   "source": [
    "# Include the required imports for the class\n",
    "import matplotlib.pyplot as plt\n",
    "import numpy as np\n",
    "import cv2\n",
    "\n",
    "# Modify the ImageProcessor class to match the given contrast scaling method\n",
    "class ImageProcessor:\n",
    "    @staticmethod\n",
    "    def convert_to_8bit(image):\n",
    "        image_norm = (image - np.min(image)) / (np.max(image) - np.min(image))\n",
    "        return (image_norm * 255).astype(np.uint8)\n",
    "    \n",
    "    @staticmethod\n",
    "    def detect_features(image):\n",
    "        sift = cv2.SIFT_create()\n",
    "        return sift.detectAndCompute(image, None)\n",
    "    \n",
    "    @staticmethod\n",
    "    def display_image(img, ax, title='Image', cmap='turbo'):\n",
    "        if img is None or not isinstance(img, np.ndarray):\n",
    "            raise ValueError(\"The input image is None or not of a compatible type.\")\n",
    "        \n",
    "        img_values = img\n",
    "        if np.all(np.isnan(img_values)) or img_values.size == 0:\n",
    "            raise ValueError(\"The input image is empty or contains only NaN values.\")\n",
    "        \n",
    "        vmin = np.nanpercentile(img_values, 10)\n",
    "        vmax = np.nanpercentile(img_values, 99)\n",
    "        ax.imshow(np.flipud(img_values),\n",
    "                   cmap=cmap,\n",
    "                   vmin=vmin,\n",
    "                   vmax=vmax,\n",
    "                   aspect='auto')\n",
    "        ax.set_title(title)\n",
    "        ax.axis('off')\n",
    "        \n",
    "    def process_and_display_single_image(self, image, title='Image'):\n",
    "        # Convert to 8-bit grayscale\n",
    "        image_8bit = self.convert_to_8bit(image)\n",
    "        \n",
    "        # Detect features (keypoints)\n",
    "        keypoints, _ = self.detect_features(image_8bit)\n",
    "        \n",
    "        # Create a figure with 2 subplots\n",
    "        fig, axes = plt.subplots(1, 2, figsize=(12, 6))\n",
    "        \n",
    "        # Display the original image in the first subplot\n",
    "        self.display_image(image_8bit, axes[0], title=f'{title} - Original')\n",
    "        \n",
    "        # Display the keypoints in the second subplot\n",
    "        img_keypoints = cv2.drawKeypoints(image_8bit, keypoints, None)\n",
    "        self.display_image(img_keypoints, axes[1], title=f'{title} - {len(keypoints)} Keypoints')\n",
    "        \n",
    "        plt.show()\n",
    "\n",
    "# Instantiate the ImageProcessor class\n",
    "processor = ImageProcessor()\n",
    "\n",
    "# Process and display each image one by one\n",
    "for i, img in enumerate(images):\n",
    "    processor.process_and_display_single_image(img, title=f'Image {i+1}')"
   ]
  },
  {
   "cell_type": "code",
   "execution_count": null,
   "metadata": {},
   "outputs": [],
   "source": [
    "# Instantiate the ImageProcessor class\n",
    "processor = ImageProcessor()\n",
    "\n",
    "# Process and display each image one by one\n",
    "for i, img in enumerate(images):\n",
    "    processor.process_and_display_single_image(img, title=f'Image {i+1}')"
   ]
  }
 ],
 "metadata": {
  "kernelspec": {
   "display_name": "pyGIXS",
   "language": "python",
   "name": "python3"
  },
  "language_info": {
   "codemirror_mode": {
    "name": "ipython",
    "version": 3
   },
   "file_extension": ".py",
   "mimetype": "text/x-python",
   "name": "python",
   "nbconvert_exporter": "python",
   "pygments_lexer": "ipython3",
   "version": "3.11.3"
  },
  "orig_nbformat": 4
 },
 "nbformat": 4,
 "nbformat_minor": 2
}
