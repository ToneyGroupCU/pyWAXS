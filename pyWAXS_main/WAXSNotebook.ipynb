{
 "cells": [
  {
   "cell_type": "code",
   "execution_count": null,
   "metadata": {},
   "outputs": [],
   "source": [
    "# - Module Imports\n",
    "import WAXSTransform, WAXSAnalyze, WAXSDiffSim, WAXSExperiment\n",
    "import pathlib"
   ]
  },
  {
   "cell_type": "code",
   "execution_count": null,
   "metadata": {},
   "outputs": [],
   "source": [
    "# -- Core Path Definitions -- #\n",
    "basePath = pathlib.Path('/Users/keithwhite/github_repositories/pyWAXS/examples')\n",
    "calibPath = basePath.joinpath('calib_files/ponimask')\n",
    "dataPath = basePath.joinpath('data_files')\n",
    "\n",
    "# -- Project Specific Paths -- #\n",
    "# - March 2023 @ 11-BM (CMS)\n",
    "poniPath = calibPath.joinpath('may23/may23_poni4_nslsiimar23_12p7keV_CeO_KWPos_mask5_fit2.poni')\n",
    "maskPath = calibPath.joinpath('may23/may23_nslsiimar23_12p7keV_AgBh_KWPos_wSi_th0p3_mask_5.edf')\n",
    "\n",
    "# - June 2023 @ 11-BM (CMS)\n",
    "# poniPath = calibPath.joinpath('jun23/jun23_poni_01_LaB6_5.6m_12.7keV_corrected_1150.1s_x-1.601_th0.500_5.00s_1116949_maxs.poni')\n",
    "# maskPath = calibPath.joinpath('jun23/jun23_nslsii11bmcms_WAXS2pil1M_mask_03.edf')\n",
    "\n",
    "# -- TIFF Path & Corresponding Metadata Keylist -- #\n",
    "metadata_keylist = ['samplenum', \n",
    "                    'chemistry', \n",
    "                    'filter', \n",
    "                    'concentration', \n",
    "                    'purge_rate', \n",
    "                    'substrate', \n",
    "                    'solution_volume', \n",
    "                    'runnum', \n",
    "                    'clocktime', \n",
    "                    'xpos', \n",
    "                    'thpos', \n",
    "                    'exptime', \n",
    "                    'scanID', \n",
    "                    'framenum', \n",
    "                    'detext']\n",
    "\n",
    "tiffPath = dataPath.joinpath('sam22_1MAI1PbI2_unfilt_0p3M_5p0scfh_Si_30uL_043_2068.2s_x0.015_th0.300_0.49s_986546_001639_maxs.tiff')\n"
   ]
  },
  {
   "cell_type": "code",
   "execution_count": null,
   "metadata": {},
   "outputs": [],
   "source": [
    "# - WAXSAnalyze Class Instantiation\n",
    "analysisProject = WAXSAnalyze(poniPath, maskPath, metadata_keylist, tiffPath)"
   ]
  }
 ],
 "metadata": {
  "kernelspec": {
   "display_name": "pyGIXS",
   "language": "python",
   "name": "python3"
  },
  "language_info": {
   "name": "python",
   "version": "3.11.3"
  },
  "orig_nbformat": 4
 },
 "nbformat": 4,
 "nbformat_minor": 2
}
